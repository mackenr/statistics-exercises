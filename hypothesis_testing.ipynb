{
 "cells": [
  {
   "cell_type": "code",
   "execution_count": 119,
   "metadata": {},
   "outputs": [],
   "source": [
    "import numpy as np \n",
    "import seaborn as sns\n",
    "import scipy.stats as stats\n",
    "import pandas as pd\n",
    "import matplotlib.pyplot as plt\n",
    "from sympy import *\n",
    "import pydataset\n",
    "import env\n",
    "import seaborn as sns\n",
    "from rcm_library import*\n",
    "from sympy.matrices import Matrix\n",
    "printingprefs()\n",
    "pd.set_option(\"compute.use_bottleneck\", True)\n",
    "pd.set_option(\"compute.use_numexpr\", True)\n",
    "pd.set_option(\"display.latex.repr\",False)\n",
    "pd.set_option(\"display.latex.escape\",False)\n",
    "# pd.describe_option() \n",
    "# pd.io.formats.style.Styler?\n"
   ]
  },
  {
   "cell_type": "code",
   "execution_count": 120,
   "metadata": {},
   "outputs": [
    {
     "data": {
      "text/latex": [
       "\\begin{equation*}\\left[\\begin{array}{ccccccccccccccc}\\alpha_{false~pos} & \\beta_{false~neg} & H_{null} & H_{alt} & \\mu_{pop} & \\sigma_{pop} & \\mu_{samp\\ a} & \\sigma_{samp\\ a} & \\mu_{samp\\ b} & \\sigma_{samp\\ b} & t_{stat} & z_{stat} & \\rho_{cor~coef} & \\kappa_{kurt} & \\gamma_{skew}\\end{array}\\right]\\end{equation*}"
      ],
      "text/plain": [
       "[alpha_false~pos  beta_false~neg  H_null  H_alt  mu_pop  sigma_pop  mu_samp\\_a  sigma_samp\\_a  mu_samp\\_b  sigma_samp\\_b  t_stat  z_stat  rho_cor~coef  kappa_kurt  gamma_skew]"
      ]
     },
     "execution_count": 120,
     "metadata": {},
     "output_type": "execute_result"
    }
   ],
   "source": [
    "common_stats_vars_symbolic()"
   ]
  },
  {
   "cell_type": "code",
   "execution_count": 121,
   "metadata": {},
   "outputs": [],
   "source": [
    "\n"
   ]
  },
  {
   "cell_type": "markdown",
   "metadata": {},
   "source": [
    "Exercises\n",
    "\n",
    "Do your work for this exercise in a jupyter notebook named hypothesis_testing.ipynb.\n",
    "\n",
    "For each of the following questions, formulate a null and alternative hypothesis (be as specific as you can be), then give an example of what a true positive, true negative, type I and type II errors would look like. Note that some of the questions are intentionally phrased in a vague way. It is your job to reword these as more precise questions that could be tested.\n",
    "\n",
    "- Has the network latency gone up since we switched internet service providers?\n",
    "- Is the website redesign any good?\n",
    "- Is our television ad driving more sales?"
   ]
  },
  {
   "cell_type": "markdown",
   "metadata": {},
   "source": [
    "\n",
    "- $$ Has~the~network~latency~gone~up~since~we~switched~internet~service~providers? $$\n",
    "\n",
    "\n",
    "- $$ H_{null}:$$\n",
    "$$\"latency~has~remained~constant~through~the~switch\"$$\n",
    "\n",
    "\n",
    "- $$ H_{alt}:$$\n",
    "$$\"latency~has~NOT~remained~constant~through~theswitch\"$$\n",
    "\n",
    "\n",
    "- $$ True~Positive:$$\n",
    "$$\"we~reject~ H_{null} ~and~are~correct,the~latency~didn't~remain~constant\"$$\n",
    "\n",
    "\n",
    "- $$ True~Negative:$$\n",
    "$$\"we~accept~ H_{null}~and~are~ correct,the~latency~remained~constant\"$$\n",
    "\n",
    "\n",
    "- $$ TypeI~Error:$$\n",
    "$$\"we~reject~ H_{null}~we~are~incorrect,the~latency~remained~constant\"$$\n",
    "\n",
    "\n",
    "- $$ TypeII~Error:$$\n",
    "$$\"we~accept~ H_{null} ~but~are~incorrect,the~latency~did~not~remain~constant\"$$\n",
    "\n",
    "\n"
   ]
  },
  {
   "cell_type": "markdown",
   "metadata": {},
   "source": [
    "$$Is~the~website~redesign~any`good?$$\n",
    "- $$ H_{null}$$\n",
    "$$\"Visitor~count~will~not~increase~after~the~redesign.\"$$\n",
    "\n",
    "\n",
    "- $$ H_{alt}$$\n",
    " $$\"Visitor~count~will~increase~after~the~redesign.\"$$\n",
    "\n",
    "\n",
    "- $$ True~Positive:$$\n",
    "$$\"We~reject~ H_{null} ~and~are~correct,the~count~increased.\"$$\n",
    "\n",
    "\n",
    "- $$ True~Negative:$$\n",
    "$$\"We~accept~ H_{null}~ and~are~correct,the~count~didn't~increase.\"$$\n",
    "\n",
    "\n",
    "- $$TypeI~Error:$$\n",
    "$$\"We~reject~H_{null}but~are~incorrect,the~count~didn't~increase.\"$$\n",
    "\n",
    "\n",
    "- $$TypeII~Error:$$\n",
    "$$\"We~accept~H_{null}but~are~incorrect,the~count~increased\"$$\n",
    "\n",
    "\n"
   ]
  },
  {
   "cell_type": "markdown",
   "metadata": {},
   "source": [
    " $$Is~our~television~ad~driving~more~sales?$$\n",
    "\n",
    "\n",
    "- $$H_{null}$$\n",
    "$$\"Monthly~sales~will~not~increase~after`thead~is~ran.\"$$\n",
    "\n",
    "\n",
    "- $$H_{alt}$$\n",
    "$$\"Monthly~sales~will~increase~after~the~ad~is~ran.\"$$\n",
    "\n",
    "\n",
    "- $$True~Positive:$$\n",
    "$$\"We~reject~H_{null}~and~are~correct,the~sales~increased.\"$$\n",
    "\n",
    "\n",
    "- $$True~Negative:$$\n",
    "$$\"We~accept~H_{null}~~and~are~correct~,~the~sales~didn't~increase.\"$$\n",
    "\n",
    "\n",
    "- $$Type~I~Error~:$$\n",
    "$$\"We~reject~H_{null}~but~are~incorrect~,~the~sales~didn't~increase.\"$$\n",
    "\n",
    "\n",
    "\n"
   ]
  },
  {
   "cell_type": "code",
   "execution_count": null,
   "metadata": {},
   "outputs": [],
   "source": []
  },
  {
   "cell_type": "markdown",
   "metadata": {},
   "source": [
    "Exercises (T-test)\n",
    "\n",
    "- Continue working in your hypothesis_testing notebook.\n",
    "\n",
    "1. Ace Realty wants to determine whether the average time it takes to sell homes is different for its two offices. \n",
    "- A sample of 40 sales from office #1 revealed a mean of 90 days and a standard deviation of 15 days.\n",
    "- A sample of 50 sales from office #2 revealed a mean of 100 days and a standard deviation of 20 days. \n",
    "- Use a .05 level of significance.\n",
    " - i.e \n",
    "        $$H_{null}:\\mu_a=\\mu_b$$\n",
    "        $$H_{alt}:\\mu_a !=\\mu_b$$\n",
    "\n",
    "2. - Load the mpg dataset and use it to answer the following questions:\n",
    "\n",
    "    - Is there a difference in fuel-efficiency in cars from 2008 vs 1999?\n",
    "    - Alternative Hypothesis (2-tail, significantly different) \n",
    "        - i.e \n",
    "        $$H_{null}:\\mu_a=\\mu_b$$\n",
    "        $$H_{alt}:\\mu_a !=\\mu_b$$\n",
    "    - Are compact cars more fuel-efficient than the average car?\n",
    "        - i.e \n",
    "        $$ H_{null}: \\mu_{obs} <= \\mu_{th} $$\n",
    "        $$ H_{alt}: \\mu_{obs} > \\mu_{th} $$\n",
    "    - Do manual cars get better gas mileage than automatic cars?\n",
    "        - i.e\n",
    "        $$ H_{null}: \\mu_a < \\mu_b $$\n",
    "        $$ H_{alt}: \\mu_a >= \\mu_b $$\n",
    "         "
   ]
  },
  {
   "cell_type": "code",
   "execution_count": 122,
   "metadata": {},
   "outputs": [
    {
     "data": {
      "image/png": "[encoded data removed]",
      "image/svg+xml": "<?xml version=\"1.0\" encoding=\"utf-8\" standalone=\"no\"?>\n<!DOCTYPE svg PUBLIC \"-//W3C//DTD SVG 1.1//EN\"\n  \"http://www.w3.org/Graphics/SVG/1.1/DTD/svg11.dtd\">\n<svg xmlns:xlink=\"http://www.w3.org/1999/xlink\" width=\"384.828125pt\" height=\"248.518125pt\" viewBox=\"0 0 384.828125 248.518125\" xmlns=\"http://www.w3.org/2000/svg\" version=\"1.1\">\n <metadata>\n  <rdf:RDF xmlns:dc=\"http://purl.org/dc/elements/1.1/\" xmlns:cc=\"http://creativecommons.org/ns#\" xmlns:rdf=\"http://www.w3.org/1999/02/22-rdf-syntax-ns#\">\n   <cc:Work>\n    <dc:type rdf:resource=\"http://purl.org/dc/dcmitype/StillImage\"/>\n    <dc:date>2022-08-08T05:22:47.393884</dc:date>\n    <dc:format>image/svg+xml</dc:format>\n    <dc:creator>\n     <cc:Agent>\n      <dc:title>Matplotlib v3.5.1, https://matplotlib.org/</dc:title>\n     </cc:Agent>\n    </dc:creator>\n   </cc:Work>\n  </rdf:RDF>\n </metadata>\n <defs>\n  <style type=\"text/css\">*{stroke-linejoin: round; stroke-linecap: butt}</style>\n </defs>\n <g id=\"figure_1\">\n  <g id=\"patch_1\">\n   <path d=\"M 0 248.518125 \nL 384.828125 248.518125 \nL 384.828125 0 \nL 0 0 \nz\n\"/>\n  </g>\n  <g id=\"axes_1\">\n   <g id=\"patch_2\">\n    <path d=\"M 42.828125 224.64 \nL 377.628125 224.64 \nL 377.628125 7.2 \nL 42.828125 7.2 \nz\n\"/>\n   </g>\n   <g id=\"matplotlib.axis_1\">\n    <g id=\"xtick_1\">\n     <g id=\"line2d_1\">\n      <defs>\n       <path id=\"mf185223cb8\" d=\"M 0 0 \nL 0 3.5 \n\" style=\"stroke: #ffffff; stroke-width: 0.8\"/>\n      </defs>\n      <g>\n       <use xlink:href=\"#mf185223cb8\" x=\"58.046307\" y=\"224.64\" style=\"fill: #ffffff; stroke: #ffffff; stroke-width: 0.8\"/>\n      </g>\n     </g>\n     <g id=\"text_1\">\n      <!-- 40 -->\n      <g style=\"fill: #ffffff\" transform=\"translate(51.683807 239.238437)scale(0.1 -0.1)\">\n       <defs>\n        <path id=\"DejaVuSans-34\" d=\"M 2419 4116 \nL 825 1625 \nL 2419 1625 \nL 2419 4116 \nz\nM 2253 4666 \nL 3047 4666 \nL 3047 1625 \nL 3713 1625 \nL 3713 1100 \nL 3047 1100 \nL 3047 0 \nL 2419 0 \nL 2419 1100 \nL 313 1100 \nL 313 1709 \nL 2253 4666 \nz\n\" transform=\"scale(0.015625)\"/>\n        <path id=\"DejaVuSans-30\" d=\"M 2034 4250 \nQ 1547 4250 1301 3770 \nQ 1056 3291 1056 2328 \nQ 1056 1369 1301 889 \nQ 1547 409 2034 409 \nQ 2525 409 2770 889 \nQ 3016 1369 3016 2328 \nQ 3016 3291 2770 3770 \nQ 2525 4250 2034 4250 \nz\nM 2034 4750 \nQ 2819 4750 3233 4129 \nQ 3647 3509 3647 2328 \nQ 3647 1150 3233 529 \nQ 2819 -91 2034 -91 \nQ 1250 -91 836 529 \nQ 422 1150 422 2328 \nQ 422 3509 836 4129 \nQ 1250 4750 2034 4750 \nz\n\" transform=\"scale(0.015625)\"/>\n       </defs>\n       <use xlink:href=\"#DejaVuSans-34\"/>\n       <use xlink:href=\"#DejaVuSans-30\" x=\"63.623047\"/>\n      </g>\n     </g>\n    </g>\n    <g id=\"xtick_2\">\n     <g id=\"line2d_2\">\n      <g>\n       <use xlink:href=\"#mf185223cb8\" x=\"113.892846\" y=\"224.64\" style=\"fill: #ffffff; stroke: #ffffff; stroke-width: 0.8\"/>\n      </g>\n     </g>\n     <g id=\"text_2\">\n      <!-- 60 -->\n      <g style=\"fill: #ffffff\" transform=\"translate(107.530346 239.238437)scale(0.1 -0.1)\">\n       <defs>\n        <path id=\"DejaVuSans-36\" d=\"M 2113 2584 \nQ 1688 2584 1439 2293 \nQ 1191 2003 1191 1497 \nQ 1191 994 1439 701 \nQ 1688 409 2113 409 \nQ 2538 409 2786 701 \nQ 3034 994 3034 1497 \nQ 3034 2003 2786 2293 \nQ 2538 2584 2113 2584 \nz\nM 3366 4563 \nL 3366 3988 \nQ 3128 4100 2886 4159 \nQ 2644 4219 2406 4219 \nQ 1781 4219 1451 3797 \nQ 1122 3375 1075 2522 \nQ 1259 2794 1537 2939 \nQ 1816 3084 2150 3084 \nQ 2853 3084 3261 2657 \nQ 3669 2231 3669 1497 \nQ 3669 778 3244 343 \nQ 2819 -91 2113 -91 \nQ 1303 -91 875 529 \nQ 447 1150 447 2328 \nQ 447 3434 972 4092 \nQ 1497 4750 2381 4750 \nQ 2619 4750 2861 4703 \nQ 3103 4656 3366 4563 \nz\n\" transform=\"scale(0.015625)\"/>\n       </defs>\n       <use xlink:href=\"#DejaVuSans-36\"/>\n       <use xlink:href=\"#DejaVuSans-30\" x=\"63.623047\"/>\n      </g>\n     </g>\n    </g>\n    <g id=\"xtick_3\">\n     <g id=\"line2d_3\">\n      <g>\n       <use xlink:href=\"#mf185223cb8\" x=\"169.739384\" y=\"224.64\" style=\"fill: #ffffff; stroke: #ffffff; stroke-width: 0.8\"/>\n      </g>\n     </g>\n     <g id=\"text_3\">\n      <!-- 80 -->\n      <g style=\"fill: #ffffff\" transform=\"translate(163.376884 239.238437)scale(0.1 -0.1)\">\n       <defs>\n        <path id=\"DejaVuSans-38\" d=\"M 2034 2216 \nQ 1584 2216 1326 1975 \nQ 1069 1734 1069 1313 \nQ 1069 891 1326 650 \nQ 1584 409 2034 409 \nQ 2484 409 2743 651 \nQ 3003 894 3003 1313 \nQ 3003 1734 2745 1975 \nQ 2488 2216 2034 2216 \nz\nM 1403 2484 \nQ 997 2584 770 2862 \nQ 544 3141 544 3541 \nQ 544 4100 942 4425 \nQ 1341 4750 2034 4750 \nQ 2731 4750 3128 4425 \nQ 3525 4100 3525 3541 \nQ 3525 3141 3298 2862 \nQ 3072 2584 2669 2484 \nQ 3125 2378 3379 2068 \nQ 3634 1759 3634 1313 \nQ 3634 634 3220 271 \nQ 2806 -91 2034 -91 \nQ 1263 -91 848 271 \nQ 434 634 434 1313 \nQ 434 1759 690 2068 \nQ 947 2378 1403 2484 \nz\nM 1172 3481 \nQ 1172 3119 1398 2916 \nQ 1625 2713 2034 2713 \nQ 2441 2713 2670 2916 \nQ 2900 3119 2900 3481 \nQ 2900 3844 2670 4047 \nQ 2441 4250 2034 4250 \nQ 1625 4250 1398 4047 \nQ 1172 3844 1172 3481 \nz\n\" transform=\"scale(0.015625)\"/>\n       </defs>\n       <use xlink:href=\"#DejaVuSans-38\"/>\n       <use xlink:href=\"#DejaVuSans-30\" x=\"63.623047\"/>\n      </g>\n     </g>\n    </g>\n    <g id=\"xtick_4\">\n     <g id=\"line2d_4\">\n      <g>\n       <use xlink:href=\"#mf185223cb8\" x=\"225.585923\" y=\"224.64\" style=\"fill: #ffffff; stroke: #ffffff; stroke-width: 0.8\"/>\n      </g>\n     </g>\n     <g id=\"text_4\">\n      <!-- 100 -->\n      <g style=\"fill: #ffffff\" transform=\"translate(216.042173 239.238437)scale(0.1 -0.1)\">\n       <defs>\n        <path id=\"DejaVuSans-31\" d=\"M 794 531 \nL 1825 531 \nL 1825 4091 \nL 703 3866 \nL 703 4441 \nL 1819 4666 \nL 2450 4666 \nL 2450 531 \nL 3481 531 \nL 3481 0 \nL 794 0 \nL 794 531 \nz\n\" transform=\"scale(0.015625)\"/>\n       </defs>\n       <use xlink:href=\"#DejaVuSans-31\"/>\n       <use xlink:href=\"#DejaVuSans-30\" x=\"63.623047\"/>\n       <use xlink:href=\"#DejaVuSans-30\" x=\"127.246094\"/>\n      </g>\n     </g>\n    </g>\n    <g id=\"xtick_5\">\n     <g id=\"line2d_5\">\n      <g>\n       <use xlink:href=\"#mf185223cb8\" x=\"281.432462\" y=\"224.64\" style=\"fill: #ffffff; stroke: #ffffff; stroke-width: 0.8\"/>\n      </g>\n     </g>\n     <g id=\"text_5\">\n      <!-- 120 -->\n      <g style=\"fill: #ffffff\" transform=\"translate(271.888712 239.238437)scale(0.1 -0.1)\">\n       <defs>\n        <path id=\"DejaVuSans-32\" d=\"M 1228 531 \nL 3431 531 \nL 3431 0 \nL 469 0 \nL 469 531 \nQ 828 903 1448 1529 \nQ 2069 2156 2228 2338 \nQ 2531 2678 2651 2914 \nQ 2772 3150 2772 3378 \nQ 2772 3750 2511 3984 \nQ 2250 4219 1831 4219 \nQ 1534 4219 1204 4116 \nQ 875 4013 500 3803 \nL 500 4441 \nQ 881 4594 1212 4672 \nQ 1544 4750 1819 4750 \nQ 2544 4750 2975 4387 \nQ 3406 4025 3406 3419 \nQ 3406 3131 3298 2873 \nQ 3191 2616 2906 2266 \nQ 2828 2175 2409 1742 \nQ 1991 1309 1228 531 \nz\n\" transform=\"scale(0.015625)\"/>\n       </defs>\n       <use xlink:href=\"#DejaVuSans-31\"/>\n       <use xlink:href=\"#DejaVuSans-32\" x=\"63.623047\"/>\n       <use xlink:href=\"#DejaVuSans-30\" x=\"127.246094\"/>\n      </g>\n     </g>\n    </g>\n    <g id=\"xtick_6\">\n     <g id=\"line2d_6\">\n      <g>\n       <use xlink:href=\"#mf185223cb8\" x=\"337.279001\" y=\"224.64\" style=\"fill: #ffffff; stroke: #ffffff; stroke-width: 0.8\"/>\n      </g>\n     </g>\n     <g id=\"text_6\">\n      <!-- 140 -->\n      <g style=\"fill: #ffffff\" transform=\"translate(327.735251 239.238437)scale(0.1 -0.1)\">\n       <use xlink:href=\"#DejaVuSans-31\"/>\n       <use xlink:href=\"#DejaVuSans-34\" x=\"63.623047\"/>\n       <use xlink:href=\"#DejaVuSans-30\" x=\"127.246094\"/>\n      </g>\n     </g>\n    </g>\n   </g>\n   <g id=\"matplotlib.axis_2\">\n    <g id=\"ytick_1\">\n     <g id=\"line2d_7\">\n      <defs>\n       <path id=\"m61459ffc41\" d=\"M 0 0 \nL -3.5 0 \n\" style=\"stroke: #ffffff; stroke-width: 0.8\"/>\n      </defs>\n      <g>\n       <use xlink:href=\"#m61459ffc41\" x=\"42.828125\" y=\"214.842786\" style=\"fill: #ffffff; stroke: #ffffff; stroke-width: 0.8\"/>\n      </g>\n     </g>\n     <g id=\"text_7\">\n      <!-- 0.000 -->\n      <g style=\"fill: #ffffff\" transform=\"translate(7.2 218.642005)scale(0.1 -0.1)\">\n       <defs>\n        <path id=\"DejaVuSans-2e\" d=\"M 684 794 \nL 1344 794 \nL 1344 0 \nL 684 0 \nL 684 794 \nz\n\" transform=\"scale(0.015625)\"/>\n       </defs>\n       <use xlink:href=\"#DejaVuSans-30\"/>\n       <use xlink:href=\"#DejaVuSans-2e\" x=\"63.623047\"/>\n       <use xlink:href=\"#DejaVuSans-30\" x=\"95.410156\"/>\n       <use xlink:href=\"#DejaVuSans-30\" x=\"159.033203\"/>\n       <use xlink:href=\"#DejaVuSans-30\" x=\"222.65625\"/>\n      </g>\n     </g>\n    </g>\n    <g id=\"ytick_2\">\n     <g id=\"line2d_8\">\n      <g>\n       <use xlink:href=\"#m61459ffc41\" x=\"42.828125\" y=\"177.664636\" style=\"fill: #ffffff; stroke: #ffffff; stroke-width: 0.8\"/>\n      </g>\n     </g>\n     <g id=\"text_8\">\n      <!-- 0.005 -->\n      <g style=\"fill: #ffffff\" transform=\"translate(7.2 181.463854)scale(0.1 -0.1)\">\n       <defs>\n        <path id=\"DejaVuSans-35\" d=\"M 691 4666 \nL 3169 4666 \nL 3169 4134 \nL 1269 4134 \nL 1269 2991 \nQ 1406 3038 1543 3061 \nQ 1681 3084 1819 3084 \nQ 2600 3084 3056 2656 \nQ 3513 2228 3513 1497 \nQ 3513 744 3044 326 \nQ 2575 -91 1722 -91 \nQ 1428 -91 1123 -41 \nQ 819 9 494 109 \nL 494 744 \nQ 775 591 1075 516 \nQ 1375 441 1709 441 \nQ 2250 441 2565 725 \nQ 2881 1009 2881 1497 \nQ 2881 1984 2565 2268 \nQ 2250 2553 1709 2553 \nQ 1456 2553 1204 2497 \nQ 953 2441 691 2322 \nL 691 4666 \nz\n\" transform=\"scale(0.015625)\"/>\n       </defs>\n       <use xlink:href=\"#DejaVuSans-30\"/>\n       <use xlink:href=\"#DejaVuSans-2e\" x=\"63.623047\"/>\n       <use xlink:href=\"#DejaVuSans-30\" x=\"95.410156\"/>\n       <use xlink:href=\"#DejaVuSans-30\" x=\"159.033203\"/>\n       <use xlink:href=\"#DejaVuSans-35\" x=\"222.65625\"/>\n      </g>\n     </g>\n    </g>\n    <g id=\"ytick_3\">\n     <g id=\"line2d_9\">\n      <g>\n       <use xlink:href=\"#m61459ffc41\" x=\"42.828125\" y=\"140.486485\" style=\"fill: #ffffff; stroke: #ffffff; stroke-width: 0.8\"/>\n      </g>\n     </g>\n     <g id=\"text_9\">\n      <!-- 0.010 -->\n      <g style=\"fill: #ffffff\" transform=\"translate(7.2 144.285704)scale(0.1 -0.1)\">\n       <use xlink:href=\"#DejaVuSans-30\"/>\n       <use xlink:href=\"#DejaVuSans-2e\" x=\"63.623047\"/>\n       <use xlink:href=\"#DejaVuSans-30\" x=\"95.410156\"/>\n       <use xlink:href=\"#DejaVuSans-31\" x=\"159.033203\"/>\n       <use xlink:href=\"#DejaVuSans-30\" x=\"222.65625\"/>\n      </g>\n     </g>\n    </g>\n    <g id=\"ytick_4\">\n     <g id=\"line2d_10\">\n      <g>\n       <use xlink:href=\"#m61459ffc41\" x=\"42.828125\" y=\"103.308334\" style=\"fill: #ffffff; stroke: #ffffff; stroke-width: 0.8\"/>\n      </g>\n     </g>\n     <g id=\"text_10\">\n      <!-- 0.015 -->\n      <g style=\"fill: #ffffff\" transform=\"translate(7.2 107.107553)scale(0.1 -0.1)\">\n       <use xlink:href=\"#DejaVuSans-30\"/>\n       <use xlink:href=\"#DejaVuSans-2e\" x=\"63.623047\"/>\n       <use xlink:href=\"#DejaVuSans-30\" x=\"95.410156\"/>\n       <use xlink:href=\"#DejaVuSans-31\" x=\"159.033203\"/>\n       <use xlink:href=\"#DejaVuSans-35\" x=\"222.65625\"/>\n      </g>\n     </g>\n    </g>\n    <g id=\"ytick_5\">\n     <g id=\"line2d_11\">\n      <g>\n       <use xlink:href=\"#m61459ffc41\" x=\"42.828125\" y=\"66.130183\" style=\"fill: #ffffff; stroke: #ffffff; stroke-width: 0.8\"/>\n      </g>\n     </g>\n     <g id=\"text_11\">\n      <!-- 0.020 -->\n      <g style=\"fill: #ffffff\" transform=\"translate(7.2 69.929402)scale(0.1 -0.1)\">\n       <use xlink:href=\"#DejaVuSans-30\"/>\n       <use xlink:href=\"#DejaVuSans-2e\" x=\"63.623047\"/>\n       <use xlink:href=\"#DejaVuSans-30\" x=\"95.410156\"/>\n       <use xlink:href=\"#DejaVuSans-32\" x=\"159.033203\"/>\n       <use xlink:href=\"#DejaVuSans-30\" x=\"222.65625\"/>\n      </g>\n     </g>\n    </g>\n    <g id=\"ytick_6\">\n     <g id=\"line2d_12\">\n      <g>\n       <use xlink:href=\"#m61459ffc41\" x=\"42.828125\" y=\"28.952032\" style=\"fill: #ffffff; stroke: #ffffff; stroke-width: 0.8\"/>\n      </g>\n     </g>\n     <g id=\"text_12\">\n      <!-- 0.025 -->\n      <g style=\"fill: #ffffff\" transform=\"translate(7.2 32.751251)scale(0.1 -0.1)\">\n       <use xlink:href=\"#DejaVuSans-30\"/>\n       <use xlink:href=\"#DejaVuSans-2e\" x=\"63.623047\"/>\n       <use xlink:href=\"#DejaVuSans-30\" x=\"95.410156\"/>\n       <use xlink:href=\"#DejaVuSans-32\" x=\"159.033203\"/>\n       <use xlink:href=\"#DejaVuSans-35\" x=\"222.65625\"/>\n      </g>\n     </g>\n    </g>\n   </g>\n   <g id=\"line2d_13\">\n    <path d=\"M 58.046307 214.078265 \nL 60.838634 213.890134 \nL 63.630961 213.660973 \nL 66.423288 213.383188 \nL 69.215615 213.048105 \nL 72.007942 212.645881 \nL 74.800268 212.165436 \nL 77.592595 211.594391 \nL 80.384922 210.919028 \nL 83.177249 210.12427 \nL 85.969576 209.193697 \nL 88.761903 208.109591 \nL 91.55423 206.853024 \nL 94.346557 205.403998 \nL 97.138884 203.741623 \nL 99.931211 201.844368 \nL 102.723538 199.690355 \nL 105.515865 197.257723 \nL 108.308192 194.525048 \nL 111.100519 191.471824 \nL 113.892846 188.078996 \nL 116.685173 184.329537 \nL 119.477499 180.20907 \nL 122.269826 175.706508 \nL 125.062153 170.814704 \nL 127.85448 165.531105 \nL 130.646807 159.858366 \nL 133.439134 153.804927 \nL 136.231461 147.385519 \nL 139.023788 140.621582 \nL 141.816115 133.541569 \nL 144.608442 126.181117 \nL 147.400769 118.583074 \nL 150.193096 110.797354 \nL 152.985423 102.880623 \nL 155.77775 94.895799 \nL 158.570077 86.911369 \nL 161.362404 79.000532 \nL 164.154731 71.24017 \nL 166.947057 63.709674 \nL 169.739384 56.489638 \nL 172.531711 49.660459 \nL 175.324038 43.300869 \nL 178.116365 37.486436 \nL 180.908692 32.288082 \nL 183.701019 27.770646 \nL 186.493346 23.991538 \nL 189.285673 20.99953 \nL 192.078 18.833706 \nL 194.870327 17.522613 \nL 197.662654 17.083636 \nL 200.454981 17.522613 \nL 203.247308 18.833706 \nL 206.039635 20.99953 \nL 208.831962 23.991538 \nL 211.624288 27.770646 \nL 214.416615 32.288082 \nL 217.208942 37.486436 \nL 220.001269 43.300869 \nL 222.793596 49.660459 \nL 225.585923 56.489638 \nL 228.37825 63.709674 \nL 231.170577 71.24017 \nL 233.962904 79.000532 \nL 236.755231 86.911369 \nL 239.547558 94.895799 \nL 242.339885 102.880623 \nL 245.132212 110.797354 \nL 247.924539 118.583074 \nL 250.716866 126.181117 \nL 253.509193 133.541569 \nL 256.301519 140.621582 \nL 259.093846 147.385519 \nL 261.886173 153.804927 \nL 264.6785 159.858366 \nL 267.470827 165.531105 \nL 270.263154 170.814704 \nL 273.055481 175.706508 \nL 275.847808 180.20907 \nL 278.640135 184.329537 \nL 281.432462 188.078996 \nL 284.224789 191.471824 \nL 287.017116 194.525048 \nL 289.809443 197.257723 \nL 292.60177 199.690355 \nL 295.394097 201.844368 \nL 298.186424 203.741623 \nL 300.978751 205.403998 \nL 303.771077 206.853024 \nL 306.563404 208.109591 \nL 309.355731 209.193697 \nL 312.148058 210.12427 \nL 314.940385 210.919028 \nL 317.732712 211.594391 \nL 320.525039 212.165436 \nL 323.317366 212.645881 \nL 326.109693 213.048105 \nL 328.90202 213.383188 \nL 331.694347 213.660973 \nL 334.486674 213.890134 \nL 337.279001 214.078265 \nL 340.071328 214.231965 \nL 342.863655 214.356928 \nL 345.655982 214.45804 \nL 348.448308 214.539461 \nL 351.240635 214.604712 \nL 354.032962 214.656755 \nL 356.825289 214.698066 \nL 359.617616 214.730702 \nL 362.409943 214.756364 \n\" clip-path=\"url(#pc5713ca79e)\" style=\"fill: none; stroke: #8dd3c7; stroke-width: 1.5; stroke-linecap: square\"/>\n   </g>\n   <g id=\"line2d_14\">\n    <path d=\"M 58.046307 213.195107 \nL 60.838634 212.930847 \nL 63.630961 212.629745 \nL 66.423288 212.287619 \nL 69.215615 211.899968 \nL 72.007942 211.461968 \nL 74.800268 210.968475 \nL 77.592595 210.414034 \nL 80.384922 209.792889 \nL 83.177249 209.099005 \nL 85.969576 208.326088 \nL 88.761903 207.467625 \nL 91.55423 206.516914 \nL 94.346557 205.467118 \nL 97.138884 204.311317 \nL 99.931211 203.042571 \nL 102.723538 201.653989 \nL 105.515865 200.138812 \nL 108.308192 198.490499 \nL 111.100519 196.702816 \nL 113.892846 194.769943 \nL 116.685173 192.686577 \nL 119.477499 190.44804 \nL 122.269826 188.050399 \nL 125.062153 185.490577 \nL 127.85448 182.766475 \nL 130.646807 179.877078 \nL 133.439134 176.822578 \nL 136.231461 173.604471 \nL 139.023788 170.225659 \nL 141.816115 166.690539 \nL 144.608442 163.00508 \nL 147.400769 159.176883 \nL 150.193096 155.215231 \nL 152.985423 151.131113 \nL 155.77775 146.937234 \nL 158.570077 142.648002 \nL 161.362404 138.27949 \nL 164.154731 133.849375 \nL 166.947057 129.376857 \nL 169.739384 124.882546 \nL 172.531711 120.388327 \nL 175.324038 115.917211 \nL 178.116365 111.493146 \nL 180.908692 107.140824 \nL 183.701019 102.885458 \nL 186.493346 98.752548 \nL 189.285673 94.767635 \nL 192.078 90.956041 \nL 194.870327 87.342603 \nL 197.662654 83.951408 \nL 200.454981 80.805529 \nL 203.247308 77.926758 \nL 206.039635 75.335364 \nL 208.831962 73.049849 \nL 211.624288 71.086731 \nL 214.416615 69.460344 \nL 217.208942 68.182666 \nL 220.001269 67.26317 \nL 222.793596 66.708707 \nL 225.585923 66.523424 \nL 228.37825 66.708707 \nL 231.170577 67.26317 \nL 233.962904 68.182666 \nL 236.755231 69.460344 \nL 239.547558 71.086731 \nL 242.339885 73.049849 \nL 245.132212 75.335364 \nL 247.924539 77.926758 \nL 250.716866 80.805529 \nL 253.509193 83.951408 \nL 256.301519 87.342603 \nL 259.093846 90.956041 \nL 261.886173 94.767635 \nL 264.6785 98.752548 \nL 267.470827 102.885458 \nL 270.263154 107.140824 \nL 273.055481 111.493146 \nL 275.847808 115.917211 \nL 278.640135 120.388327 \nL 281.432462 124.882546 \nL 284.224789 129.376857 \nL 287.017116 133.849375 \nL 289.809443 138.27949 \nL 292.60177 142.648002 \nL 295.394097 146.937234 \nL 298.186424 151.131113 \nL 300.978751 155.215231 \nL 303.771077 159.176883 \nL 306.563404 163.00508 \nL 309.355731 166.690539 \nL 312.148058 170.225659 \nL 314.940385 173.604471 \nL 317.732712 176.822578 \nL 320.525039 179.877078 \nL 323.317366 182.766475 \nL 326.109693 185.490577 \nL 328.90202 188.050399 \nL 331.694347 190.44804 \nL 334.486674 192.686577 \nL 337.279001 194.769943 \nL 340.071328 196.702816 \nL 342.863655 198.490499 \nL 345.655982 200.138812 \nL 348.448308 201.653989 \nL 351.240635 203.042571 \nL 354.032962 204.311317 \nL 356.825289 205.467118 \nL 359.617616 206.516914 \nL 362.409943 207.467625 \n\" clip-path=\"url(#pc5713ca79e)\" style=\"fill: none; stroke: #feffb3; stroke-width: 1.5; stroke-linecap: square\"/>\n   </g>\n   <g id=\"line2d_15\">\n    <path d=\"M 197.662654 224.64 \nL 197.662654 7.2 \n\" clip-path=\"url(#pc5713ca79e)\" style=\"fill: none; stroke-dasharray: 1.5,2.475; stroke-dashoffset: 0; stroke: #ffffff; stroke-width: 1.5\"/>\n   </g>\n   <g id=\"line2d_16\">\n    <path d=\"M 225.585923 224.64 \nL 225.585923 7.2 \n\" clip-path=\"url(#pc5713ca79e)\" style=\"fill: none; stroke-dasharray: 1.5,2.475; stroke-dashoffset: 0; stroke: #ffa500; stroke-width: 1.5\"/>\n   </g>\n   <g id=\"patch_3\">\n    <path d=\"M 42.828125 224.64 \nL 42.828125 7.2 \n\" style=\"fill: none; stroke: #ffffff; stroke-width: 0.8; stroke-linejoin: miter; stroke-linecap: square\"/>\n   </g>\n   <g id=\"patch_4\">\n    <path d=\"M 377.628125 224.64 \nL 377.628125 7.2 \n\" style=\"fill: none; stroke: #ffffff; stroke-width: 0.8; stroke-linejoin: miter; stroke-linecap: square\"/>\n   </g>\n   <g id=\"patch_5\">\n    <path d=\"M 42.828125 224.64 \nL 377.628125 224.64 \n\" style=\"fill: none; stroke: #ffffff; stroke-width: 0.8; stroke-linejoin: miter; stroke-linecap: square\"/>\n   </g>\n   <g id=\"patch_6\">\n    <path d=\"M 42.828125 7.2 \nL 377.628125 7.2 \n\" style=\"fill: none; stroke: #ffffff; stroke-width: 0.8; stroke-linejoin: miter; stroke-linecap: square\"/>\n   </g>\n   <g id=\"legend_1\">\n    <g id=\"patch_7\">\n     <path d=\"M 301.498438 44.55625 \nL 370.628125 44.55625 \nQ 372.628125 44.55625 372.628125 42.55625 \nL 372.628125 14.2 \nQ 372.628125 12.2 370.628125 12.2 \nL 301.498438 12.2 \nQ 299.498438 12.2 299.498438 14.2 \nL 299.498438 42.55625 \nQ 299.498438 44.55625 301.498438 44.55625 \nz\n\" style=\"opacity: 0.8; stroke: #cccccc; stroke-linejoin: miter\"/>\n    </g>\n    <g id=\"line2d_17\">\n     <path d=\"M 303.498438 20.298437 \nL 313.498438 20.298437 \nL 323.498438 20.298437 \n\" style=\"fill: none; stroke: #8dd3c7; stroke-width: 1.5; stroke-linecap: square\"/>\n    </g>\n    <g id=\"text_13\">\n     <!-- office 1 -->\n     <g style=\"fill: #ffffff\" transform=\"translate(331.498438 23.798437)scale(0.1 -0.1)\">\n      <defs>\n       <path id=\"DejaVuSans-6f\" d=\"M 1959 3097 \nQ 1497 3097 1228 2736 \nQ 959 2375 959 1747 \nQ 959 1119 1226 758 \nQ 1494 397 1959 397 \nQ 2419 397 2687 759 \nQ 2956 1122 2956 1747 \nQ 2956 2369 2687 2733 \nQ 2419 3097 1959 3097 \nz\nM 1959 3584 \nQ 2709 3584 3137 3096 \nQ 3566 2609 3566 1747 \nQ 3566 888 3137 398 \nQ 2709 -91 1959 -91 \nQ 1206 -91 779 398 \nQ 353 888 353 1747 \nQ 353 2609 779 3096 \nQ 1206 3584 1959 3584 \nz\n\" transform=\"scale(0.015625)\"/>\n       <path id=\"DejaVuSans-66\" d=\"M 2375 4863 \nL 2375 4384 \nL 1825 4384 \nQ 1516 4384 1395 4259 \nQ 1275 4134 1275 3809 \nL 1275 3500 \nL 2222 3500 \nL 2222 3053 \nL 1275 3053 \nL 1275 0 \nL 697 0 \nL 697 3053 \nL 147 3053 \nL 147 3500 \nL 697 3500 \nL 697 3744 \nQ 697 4328 969 4595 \nQ 1241 4863 1831 4863 \nL 2375 4863 \nz\n\" transform=\"scale(0.015625)\"/>\n       <path id=\"DejaVuSans-69\" d=\"M 603 3500 \nL 1178 3500 \nL 1178 0 \nL 603 0 \nL 603 3500 \nz\nM 603 4863 \nL 1178 4863 \nL 1178 4134 \nL 603 4134 \nL 603 4863 \nz\n\" transform=\"scale(0.015625)\"/>\n       <path id=\"DejaVuSans-63\" d=\"M 3122 3366 \nL 3122 2828 \nQ 2878 2963 2633 3030 \nQ 2388 3097 2138 3097 \nQ 1578 3097 1268 2742 \nQ 959 2388 959 1747 \nQ 959 1106 1268 751 \nQ 1578 397 2138 397 \nQ 2388 397 2633 464 \nQ 2878 531 3122 666 \nL 3122 134 \nQ 2881 22 2623 -34 \nQ 2366 -91 2075 -91 \nQ 1284 -91 818 406 \nQ 353 903 353 1747 \nQ 353 2603 823 3093 \nQ 1294 3584 2113 3584 \nQ 2378 3584 2631 3529 \nQ 2884 3475 3122 3366 \nz\n\" transform=\"scale(0.015625)\"/>\n       <path id=\"DejaVuSans-65\" d=\"M 3597 1894 \nL 3597 1613 \nL 953 1613 \nQ 991 1019 1311 708 \nQ 1631 397 2203 397 \nQ 2534 397 2845 478 \nQ 3156 559 3463 722 \nL 3463 178 \nQ 3153 47 2828 -22 \nQ 2503 -91 2169 -91 \nQ 1331 -91 842 396 \nQ 353 884 353 1716 \nQ 353 2575 817 3079 \nQ 1281 3584 2069 3584 \nQ 2775 3584 3186 3129 \nQ 3597 2675 3597 1894 \nz\nM 3022 2063 \nQ 3016 2534 2758 2815 \nQ 2500 3097 2075 3097 \nQ 1594 3097 1305 2825 \nQ 1016 2553 972 2059 \nL 3022 2063 \nz\n\" transform=\"scale(0.015625)\"/>\n       <path id=\"DejaVuSans-20\" transform=\"scale(0.015625)\"/>\n      </defs>\n      <use xlink:href=\"#DejaVuSans-6f\"/>\n      <use xlink:href=\"#DejaVuSans-66\" x=\"61.181641\"/>\n      <use xlink:href=\"#DejaVuSans-66\" x=\"96.386719\"/>\n      <use xlink:href=\"#DejaVuSans-69\" x=\"131.591797\"/>\n      <use xlink:href=\"#DejaVuSans-63\" x=\"159.375\"/>\n      <use xlink:href=\"#DejaVuSans-65\" x=\"214.355469\"/>\n      <use xlink:href=\"#DejaVuSans-20\" x=\"275.878906\"/>\n      <use xlink:href=\"#DejaVuSans-31\" x=\"307.666016\"/>\n     </g>\n    </g>\n    <g id=\"line2d_18\">\n     <path d=\"M 303.498438 34.976562 \nL 313.498438 34.976562 \nL 323.498438 34.976562 \n\" style=\"fill: none; stroke: #feffb3; stroke-width: 1.5; stroke-linecap: square\"/>\n    </g>\n    <g id=\"text_14\">\n     <!-- office 2 -->\n     <g style=\"fill: #ffffff\" transform=\"translate(331.498438 38.476562)scale(0.1 -0.1)\">\n      <use xlink:href=\"#DejaVuSans-6f\"/>\n      <use xlink:href=\"#DejaVuSans-66\" x=\"61.181641\"/>\n      <use xlink:href=\"#DejaVuSans-66\" x=\"96.386719\"/>\n      <use xlink:href=\"#DejaVuSans-69\" x=\"131.591797\"/>\n      <use xlink:href=\"#DejaVuSans-63\" x=\"159.375\"/>\n      <use xlink:href=\"#DejaVuSans-65\" x=\"214.355469\"/>\n      <use xlink:href=\"#DejaVuSans-20\" x=\"275.878906\"/>\n      <use xlink:href=\"#DejaVuSans-32\" x=\"307.666016\"/>\n     </g>\n    </g>\n   </g>\n  </g>\n </g>\n <defs>\n  <clipPath id=\"pc5713ca79e\">\n   <rect x=\"42.828125\" y=\"7.2\" width=\"334.8\" height=\"217.44\"/>\n  </clipPath>\n </defs>\n</svg>\n",
      "text/plain": [
       "<Figure size 432x288 with 1 Axes>"
      ]
     },
     "metadata": {},
     "output_type": "display_data"
    }
   ],
   "source": [
    "alpha=5/100\n",
    "\n",
    "\n",
    "office_1 = stats.norm(90, 15).rvs(40)\n",
    "office_2 = stats.norm(100, 20).rvs(50)\n",
    "\n",
    "\n",
    "\n",
    "\n",
    "x = np.arange(40, 150)\n",
    "y1 = stats.norm(90, 15).pdf(x)\n",
    "y2 = stats.norm(100, 20).pdf(x)\n",
    "plt.plot(x, y1, label='office 1')\n",
    "plt.plot(x, y2, label = 'office 2')\n",
    "plt.axvline(90, ls=':')\n",
    "plt.axvline(100, ls=':', color='orange')\n",
    "plt.legend()\n",
    "plt.show()\n",
    "\n",
    "\n",
    "\n",
    "\n"
   ]
  },
  {
   "cell_type": "code",
   "execution_count": 123,
   "metadata": {},
   "outputs": [
    {
     "data": {
      "image/png": "[encoded data removed]",
      "text/latex": [
       "\\begin{equation*}-2.351\\end{equation*}"
      ],
      "text/plain": [
       "-2.35100000000000"
      ]
     },
     "metadata": {},
     "output_type": "display_data"
    },
    {
     "data": {
      "image/png": "[encoded data removed]",
      "text/latex": [
       "\\begin{equation*}0.0211\\end{equation*}"
      ],
      "text/plain": [
       "0.0211000000000000"
      ]
     },
     "metadata": {},
     "output_type": "display_data"
    },
    {
     "data": {
      "image/png": "[encoded data removed]",
      "text/latex": [
       "\\begin{equation*}We~can~reject~the~null~hypothesis\\end{equation*}"
      ],
      "text/plain": [
       "We~can~reject~the~null~hypothesis"
      ]
     },
     "metadata": {},
     "output_type": "display_data"
    }
   ],
   "source": [
    "t_stat, p_val = stats.ttest_ind(office_1, office_2, equal_var=False)\n",
    "\n",
    "display(\n",
    "sympify(f'{t_stat:.4g}'),\n",
    "sympify(f'{p_val:.4g}'),\n",
    "symbols(one_tail_hypthonesis(t_stat, p_val))\n",
    ")"
   ]
  },
  {
   "cell_type": "code",
   "execution_count": 124,
   "metadata": {},
   "outputs": [],
   "source": [
    "#2\n",
    "\n",
    "\n",
    "## aquiring\n",
    "df=pydataset.data('mpg')\n",
    "df=pd.DataFrame(df)\n",
    "\n",
    "#cleaning \n",
    "df['avg_mpg'] = stats.hmean(df[['cty','hwy']], axis=1)\n",
    "df.trans.unique()\n",
    "auto=df[df.trans.str.contains('auto')]\n",
    "manual=df[df.trans.str.contains('auto')==0]\n",
    "\n",
    "\n",
    "# [display(symbols(i))for i in df['class'].unique().tolist()]#toggle \n",
    "\n",
    "MMVIIImpg=df[df.year==2008].avg_mpg\n",
    "MCMXCIXmpg=df[df.year==1999].avg_mpg\n",
    "compactmpg= df[df['class']=='compact'].avg_mpg\n",
    "autompg=auto.avg_mpg\n",
    "manmpg=manual.avg_mpg\n",
    "popmpg=df.avg_mpg\n",
    "#isolating to compare\n",
    "\n",
    "\n",
    "alpha = .05\n",
    "\n",
    "variance_2=[\n",
    "popmpg.var(),\n",
    "MMVIIImpg.var(),\n",
    "MCMXCIXmpg.var(),\n",
    "compactmpg.var(),\n",
    "autompg.var(),\n",
    "manmpg.var()\n",
    "]\n",
    "\n",
    "mus_2=[\n",
    "popmpg.mean(),\n",
    "MMVIIImpg.mean(),\n",
    "MCMXCIXmpg.mean(),\n",
    "compactmpg.mean(),\n",
    "autompg.mean(),\n",
    "manmpg.mean()\n",
    "]\n",
    "\n",
    "vars=[\n",
    "'Fields',\n",
    "'popmpg',\n",
    "'MMVIIImpg',\n",
    "'MCMXCIXmpg',\n",
    "'compactmpg',\n",
    "'autompg',\n",
    "'manmpg'\n",
    "]"
   ]
  },
  {
   "cell_type": "code",
   "execution_count": 125,
   "metadata": {},
   "outputs": [
    {
     "data": {
      "text/latex": [
       "\\begin{equation*}\\left[\\begin{matrix}Fields & MPG~~\\sigma^{2} & MPG~~\\mu\\\\popmpg & 24.11 & 19.59\\\\MMVIIImpg & 22.55 & 19.49\\\\MCMXCIXmpg & 25.85 & 19.68\\\\compactmpg & 12.76 & 23.5\\\\autompg & 20.43 & 18.58\\\\manmpg & 25.67 & 21.63\\end{matrix}\\right]\\end{equation*}"
      ],
      "text/plain": [
       "[  Fields    MPG~~\\sigma^2  MPG~~\\mu]\n",
       "[                                   ]\n",
       "[  popmpg        24.11       19.59  ]\n",
       "[                                   ]\n",
       "[MMVIIImpg       22.55       19.49  ]\n",
       "[                                   ]\n",
       "[MCMXCIXmpg      25.85       19.68  ]\n",
       "[                                   ]\n",
       "[compactmpg      12.76        23.5  ]\n",
       "[                                   ]\n",
       "[ autompg        20.43       18.58  ]\n",
       "[                                   ]\n",
       "[  manmpg        25.67       21.63  ]"
      ]
     },
     "execution_count": 125,
     "metadata": {},
     "output_type": "execute_result"
    }
   ],
   "source": [
    "\n",
    "variance_2=[(symbols((f'{i:.4g}'))) for i in variance_2]\n",
    "mus_2=[symbols((f'{i:.4g}')) for i in mus_2]\n",
    "vars=[symbols(i)for i in vars]\n",
    "mpgvarhead=symbols('MPG~~\\sigma^2')\n",
    "mpgmuhead=symbols('MPG~~\\mu')\n",
    "variance_2.insert(0,mpgvarhead)\n",
    "mus_2.insert(0,mpgmuhead)\n",
    "mpgMat=Matrix([vars,variance_2,mus_2])\n",
    "mpgMat.transpose()"
   ]
  },
  {
   "cell_type": "code",
   "execution_count": 126,
   "metadata": {},
   "outputs": [
    {
     "data": {
      "image/png": "[encoded data removed]",
      "text/latex": [
       "\\begin{equation*}Prob_{1}\\end{equation*}"
      ],
      "text/plain": [
       "Prob1"
      ]
     },
     "metadata": {},
     "output_type": "display_data"
    },
    {
     "data": {
      "image/png": "[encoded data removed]",
      "text/latex": [
       "\\begin{equation*}t_{stat}\\end{equation*}"
      ],
      "text/plain": [
       "t_stat"
      ]
     },
     "metadata": {},
     "output_type": "display_data"
    },
    {
     "data": {
      "image/png": "[encoded data removed]",
      "text/latex": [
       "\\begin{equation*}-0.3012\\end{equation*}"
      ],
      "text/plain": [
       "-0.301200000000000"
      ]
     },
     "metadata": {},
     "output_type": "display_data"
    },
    {
     "data": {
      "image/png": "[encoded data removed]",
      "text/latex": [
       "\\begin{equation*}0.7635\\end{equation*}"
      ],
      "text/plain": [
       "0.763500000000000"
      ]
     },
     "metadata": {},
     "output_type": "display_data"
    },
    {
     "data": {
      "image/png": "[encoded data removed]",
      "text/latex": [
       "\\begin{equation*}We~fail~to~reject~the~null~hypothesis\\end{equation*}"
      ],
      "text/plain": [
       "We~fail~to~reject~the~null~hypothesis"
      ]
     },
     "metadata": {},
     "output_type": "display_data"
    },
    {
     "name": "stdout",
     "output_type": "stream",
     "text": [
      "\n",
      "\n",
      "\n",
      "\n"
     ]
    },
    {
     "data": {
      "image/png": "[encoded data removed]",
      "text/latex": [
       "\\begin{equation*}Prob_{2}\\end{equation*}"
      ],
      "text/plain": [
       "Prob2"
      ]
     },
     "metadata": {},
     "output_type": "display_data"
    },
    {
     "data": {
      "image/png": "[encoded data removed]",
      "text/latex": [
       "\\begin{equation*}t_{stat}\\end{equation*}"
      ],
      "text/plain": [
       "t_stat"
      ]
     },
     "metadata": {},
     "output_type": "display_data"
    },
    {
     "data": {
      "image/png": "[encoded data removed]",
      "text/latex": [
       "\\begin{equation*}7.512\\end{equation*}"
      ],
      "text/plain": [
       "7.51200000000000"
      ]
     },
     "metadata": {},
     "output_type": "display_data"
    },
    {
     "data": {
      "image/png": "[encoded data removed]",
      "text/latex": [
       "\\begin{equation*}1.562 \\cdot 10^{-9}\\end{equation*}"
      ],
      "text/plain": [
       "1.56200000000000e-9"
      ]
     },
     "metadata": {},
     "output_type": "display_data"
    },
    {
     "data": {
      "image/png": "[encoded data removed]",
      "text/latex": [
       "\\begin{equation*}We~can~reject~our~null~hypothesis\\end{equation*}"
      ],
      "text/plain": [
       "We~can~reject~our~null~hypothesis"
      ]
     },
     "metadata": {},
     "output_type": "display_data"
    },
    {
     "name": "stdout",
     "output_type": "stream",
     "text": [
      "\n",
      "\n",
      "\n",
      "\n"
     ]
    },
    {
     "data": {
      "image/png": "[encoded data removed]",
      "text/latex": [
       "\\begin{equation*}Prob_{3}\\end{equation*}"
      ],
      "text/plain": [
       "Prob3"
      ]
     },
     "metadata": {},
     "output_type": "display_data"
    },
    {
     "data": {
      "image/png": "[encoded data removed]",
      "text/latex": [
       "\\begin{equation*}t_{stat}\\end{equation*}"
      ],
      "text/plain": [
       "t_stat"
      ]
     },
     "metadata": {},
     "output_type": "display_data"
    },
    {
     "data": {
      "image/png": "[encoded data removed]",
      "text/latex": [
       "\\begin{equation*}-4.474\\end{equation*}"
      ],
      "text/plain": [
       "-4.47400000000000"
      ]
     },
     "metadata": {},
     "output_type": "display_data"
    },
    {
     "data": {
      "image/png": "[encoded data removed]",
      "text/latex": [
       "\\begin{equation*}1.598 \\cdot 10^{-5}\\end{equation*}"
      ],
      "text/plain": [
       "1.59800000000000e-5"
      ]
     },
     "metadata": {},
     "output_type": "display_data"
    },
    {
     "data": {
      "image/png": "[encoded data removed]",
      "text/latex": [
       "\\begin{equation*}We~can~reject~the~null~hypothesis\\end{equation*}"
      ],
      "text/plain": [
       "We~can~reject~the~null~hypothesis"
      ]
     },
     "metadata": {},
     "output_type": "display_data"
    }
   ],
   "source": [
    "t_years, p_years = stats.ttest_ind(MMVIIImpg, MCMXCIXmpg.values, equal_var=False)\n",
    "t_trans, p_trans = stats.ttest_ind(autompg, manmpg, equal_var=False)\n",
    "t_compact, p_compact = stats.ttest_1samp(compactmpg,popmpg.mean())\n",
    "\n",
    "a=common_stats_vars_symbolic()\n",
    "\n",
    "\n",
    "display(\n",
    "    \n",
    "(sympify(('Prob1'))),\n",
    "a[10],\n",
    "(sympify((f'{t_years:.4g}'))),\n",
    "(sympify((f'{p_years:.4g}'))),\n",
    "symbols(one_tail_hypthonesis(p_years,alpha)))\n",
    "print(\"\\n\\n\\n\")\n",
    "\n",
    "\n",
    "\n",
    "display(\n",
    "\n",
    "(sympify(('Prob2'))),\n",
    "a[10],\n",
    "(sympify((f'{t_compact:.4g}'))),\n",
    "(sympify((f'{p_compact:.4g}'))),\n",
    "symbols(two_tail_hyp_test(p_compact,t_compact,alpha)))\n",
    "print(\"\\n\\n\\n\")\n",
    "\n",
    "\n",
    "display(\n",
    "\n",
    "(sympify(('Prob3'))),\n",
    "a[10],\n",
    "(sympify((f'{t_trans:.4g}'))),\n",
    "(sympify((f'{p_trans:.4g}'))),\n",
    "symbols(one_tail_hypthonesis(p_trans,alpha))\n",
    "\n",
    ")\n",
    "\n",
    "# mpgarrayHyptest=np.array(mpgarrayHyptest)\n",
    "# mpgarrayHyptest=[symbols(i) for i in mpgarrayHyptest]\n",
    "# mpgarrayHyptest=Matrix(mpgarrayHyptest)\n",
    "# mpgarrayHyptest"
   ]
  },
  {
   "cell_type": "code",
   "execution_count": 127,
   "metadata": {},
   "outputs": [],
   "source": [
    "## Just expermenting with sympy and its stats \n",
    "\n",
    "# from sympy.stats import Skellam,Poisson, density, E, variance\n",
    "\n",
    "\n",
    "# z = Symbol(\"z\", integer=True)\n",
    "# mu1 = Symbol(\"mu1\", positive=True)\n",
    "# mu2 = Symbol(\"mu2\", positive=True)\n",
    "\n",
    "# rate = Symbol(\"lambda\", positive=True)\n",
    "# X = Poisson(\"x\", rate)\n",
    "# display(symbols('Poisson\\:'),density(X)(z))\n",
    "# X=Skellam(\"x\", mu1, mu2)\n",
    "# display(symbols(\"Skellum\\:\"),density(X)(z))\n",
    "\n",
    "\n",
    "\n",
    "\n",
    "\n"
   ]
  },
  {
   "cell_type": "markdown",
   "metadata": {},
   "source": [
    "Exercises (Correlation)\n",
    "\n",
    "Continue working in your hypothesis_testing notebook.\n",
    "\n",
    "- Use the telco_churn data.\n",
    "1. Does tenure correlate with monthly charges?\n",
    "2. Total charges? \n",
    "3. What happens if you control for phone and internet service?\n",
    "- Use the employees database.\n",
    "3. Is there a relationship between how long an employee has been with the company and their salary?\n",
    "4. Is there a relationship between how long an employee has been with the company and the number of titles they have had?\n",
    "- Use the sleepstudy data. \n",
    "5. Is there a relationship between days and reaction time?"
   ]
  },
  {
   "cell_type": "code",
   "execution_count": 128,
   "metadata": {},
   "outputs": [],
   "source": [
    "telco_churn=pd.read_csv('telco_churn.csv')\n",
    "telco_churn=pd.DataFrame(telco_churn)\n",
    "\n",
    "\n",
    "\n",
    "# telco_churn['TotalCharges']=telco_churn.TotalCharges.str.replace(',','').str.strip()\n",
    "# display(\n",
    "# telco_churn.head(),\n",
    "# telco_churn.info(),\n",
    "# telco_churn.describe()\n",
    "# )"
   ]
  },
  {
   "cell_type": "code",
   "execution_count": 129,
   "metadata": {},
   "outputs": [],
   "source": [
    "telco_churn.TotalCharges=(telco_churn.TotalCharges.str.isnumeric())\n",
    "\n",
    "# TotalCharges=np.array(telco_churn.TotalCharges)\n",
    "# TotalCharges=[float(i) for i in TotalCharges]\n",
    "\n",
    "# display(\n",
    "# telco_churn.head(),\n",
    "# telco_churn.info(),\n",
    "# telco_churn.describe()\n",
    "# )\n"
   ]
  },
  {
   "cell_type": "code",
   "execution_count": 130,
   "metadata": {},
   "outputs": [],
   "source": [
    "r_1, p_1 = stats.pearsonr(telco_churn.tenure, telco_churn.MonthlyCharges)\n",
    "r_2, p_2 = stats.pearsonr(telco_churn.tenure,telco_churn.TotalCharges )\n"
   ]
  },
  {
   "cell_type": "code",
   "execution_count": 147,
   "metadata": {},
   "outputs": [
    {
     "data": {
      "image/png": "[encoded data removed]",
      "text/latex": [
       "\\begin{equation*}Prob_{1}\\end{equation*}"
      ],
      "text/plain": [
       "Prob1"
      ]
     },
     "metadata": {},
     "output_type": "display_data"
    },
    {
     "data": {
      "text/latex": [
       "\\begin{equation*}\\left[\\begin{matrix}0.2479\\\\4.094 \\cdot 10^{-99}\\end{matrix}\\right]\\end{equation*}"
      ],
      "text/plain": [
       "[ 0.2479  ]\n",
       "[         ]\n",
       "[4.094e-99]"
      ]
     },
     "metadata": {},
     "output_type": "display_data"
    },
    {
     "data": {
      "image/png": "[encoded data removed]",
      "text/latex": [
       "\\begin{equation*}We~can~reject~the~null~hypothesis\\end{equation*}"
      ],
      "text/plain": [
       "We~can~reject~the~null~hypothesis"
      ]
     },
     "metadata": {},
     "output_type": "display_data"
    },
    {
     "data": {
      "image/png": "[encoded data removed]",
      "text/latex": [
       "\\begin{equation*}Prob_{2}\\end{equation*}"
      ],
      "text/plain": [
       "Prob2"
      ]
     },
     "metadata": {},
     "output_type": "display_data"
    },
    {
     "data": {
      "text/latex": [
       "\\begin{equation*}\\left[\\begin{matrix}0.01106\\\\0.3534\\end{matrix}\\right]\\end{equation*}"
      ],
      "text/plain": [
       "[0.01106]\n",
       "[       ]\n",
       "[0.3534 ]"
      ]
     },
     "metadata": {},
     "output_type": "display_data"
    },
    {
     "data": {
      "image/png": "[encoded data removed]",
      "text/latex": [
       "\\begin{equation*}We~fail~to~reject~the~null~hypothesis\\end{equation*}"
      ],
      "text/plain": [
       "We~fail~to~reject~the~null~hypothesis"
      ]
     },
     "metadata": {},
     "output_type": "display_data"
    }
   ],
   "source": [
    "prob_1=Matrix([\n",
    "    sympify(f'{r_1:.4G}'),\n",
    "    sympify(f'{p_1:.4G}'),\n",
    "   \n",
    "])\n",
    "\n",
    "\n",
    "prob_2=Matrix([\n",
    "    sympify(f'{r_2:.4G}'),\n",
    "    sympify(f'{p_2:.4G}')\n",
    "   \n",
    "])\n",
    "\n",
    "\n",
    "display(\n",
    "(sympify(('Prob1'))),    \n",
    "prob_1,\n",
    "symbols(one_tail_hypthonesis(p_1,alpha)))\n",
    "\n",
    "\n",
    "display(\n",
    "(sympify(('Prob2'))), \n",
    "prob_2,\n",
    "symbols(one_tail_hypthonesis(p_2,alpha))\n",
    ")\n",
    "\n"
   ]
  },
  {
   "cell_type": "code",
   "execution_count": 132,
   "metadata": {},
   "outputs": [],
   "source": [
    "schema = 'employees'\n",
    "query = 'describe dept_emp ;'\n",
    "dept_emp_describe=pd.read_sql(query, get_db_url(schema))\n",
    "\n",
    "query = 'describe employees ;'\n",
    "employees_describe = pd.read_sql(query, get_db_url(schema))\n",
    "\n",
    "query = 'describe salaries ;'\n",
    "salaries_describe = pd.read_sql(query, get_db_url(schema))\n",
    "\n",
    "query = 'describe titles ;'\n",
    "titles_describe = pd.read_sql(query, get_db_url(schema))\n",
    "\n",
    "# display(\n",
    "#     symbols('dept~emp~describe'),dept_emp_describe,\n",
    "#     symbols('employees~describe'),employees_describe,\n",
    "#     symbols('salaries~describe'),salaries_describe,\n",
    "#     symbols('titles~describe'),titles_describe)\n",
    "\n",
    "\n"
   ]
  },
  {
   "cell_type": "code",
   "execution_count": 133,
   "metadata": {},
   "outputs": [],
   "source": [
    "query='''\n",
    "     SELECT \n",
    "     emp_no, \n",
    "     title,\n",
    "     s.salary,\n",
    "     de.to_date,  \n",
    "     e.hire_date\n",
    "   \n",
    "     \n",
    "   \n",
    "     FROM \n",
    "     dept_emp as de\n",
    "\tJOIN \n",
    "     employees as e USING(emp_no) \n",
    "     JOIN\n",
    "     titles as t USING(emp_no) \n",
    "     JOIN\n",
    "     salaries as s USING(emp_no) \n",
    "     where \n",
    "     t.to_date>now() \n",
    "     and  \n",
    "     de.to_date>now()\n",
    "     and\n",
    "     s.to_date>now();\n",
    "\n",
    "    '''\n",
    "employees= pd.read_sql(query, get_db_url(schema))\n",
    "\n",
    "\n",
    "\n",
    "query='''\n",
    "     SELECT \n",
    "     emp_no, \n",
    "     title\n",
    "   \n",
    "  \n",
    "     from\n",
    "     \n",
    "     titles \n",
    "    \n",
    "    \n",
    "\n",
    "    '''\n",
    "emp_nowhere= pd.read_sql(query, get_db_url(schema))\n",
    "\n",
    "#all my querys \n"
   ]
  },
  {
   "cell_type": "code",
   "execution_count": 134,
   "metadata": {},
   "outputs": [],
   "source": [
    "employees_relevent=employees## save point to stop querys\n",
    "\n",
    "employees_relevent=employees_relevent.assign(duration=abs(employees_relevent.hire_date - employees_relevent.to_date))\n",
    "\n",
    "\n",
    "employees_relevent=employees_relevent.drop(columns=employees_relevent.iloc[:,3:5])\n"
   ]
  },
  {
   "cell_type": "code",
   "execution_count": 135,
   "metadata": {},
   "outputs": [],
   "source": [
    "employees_relevent=employees_relevent.assign(duration=employees_relevent.duration.astype(str).str.replace('days, 0:00:00','').astype(int))\n",
    "\n",
    "\n",
    "alltimeemps=emp_nowhere## do not touch above cell\n",
    "alltimeemps=alltimeemps.groupby(['emp_no']).nunique() \n",
    "\n",
    "alltimeemps.columns=['titlecount']\n",
    "\n",
    "finaljoin=employees_relevent.join(alltimeemps,how='left',on='emp_no')"
   ]
  },
  {
   "cell_type": "code",
   "execution_count": 136,
   "metadata": {},
   "outputs": [
    {
     "data": {
      "image/png": "[encoded data removed]",
      "text/latex": [
       "\\begin{equation*}Correlation~between~Salary~and~Duration\\end{equation*}"
      ],
      "text/plain": [
       "Correlation~between~Salary~and~Duration"
      ]
     },
     "metadata": {},
     "output_type": "display_data"
    },
    {
     "data": {
      "image/png": "[encoded data removed]",
      "text/latex": [
       "\\begin{equation*}0.3065\\end{equation*}"
      ],
      "text/plain": [
       "0.306500000000000"
      ]
     },
     "metadata": {},
     "output_type": "display_data"
    },
    {
     "data": {
      "image/png": "[encoded data removed]",
      "text/latex": [
       "\\begin{equation*}weak~correlation\\end{equation*}"
      ],
      "text/plain": [
       "weak~correlation"
      ]
     },
     "metadata": {},
     "output_type": "display_data"
    },
    {
     "data": {
      "image/png": "[encoded data removed]",
      "text/latex": [
       "\\begin{equation*}Correlation~between~Title~and~Duration\\end{equation*}"
      ],
      "text/plain": [
       "Correlation~between~Title~and~Duration"
      ]
     },
     "metadata": {},
     "output_type": "display_data"
    },
    {
     "data": {
      "image/png": "[encoded data removed]",
      "text/latex": [
       "\\begin{equation*}0.2871\\end{equation*}"
      ],
      "text/plain": [
       "0.287100000000000"
      ]
     },
     "metadata": {},
     "output_type": "display_data"
    },
    {
     "data": {
      "image/png": "[encoded data removed]",
      "text/latex": [
       "\\begin{equation*}weak~correlation\\end{equation*}"
      ],
      "text/plain": [
       "weak~correlation"
      ]
     },
     "metadata": {},
     "output_type": "display_data"
    }
   ],
   "source": [
    "\n",
    "def strength_cor(r):\n",
    "    if r<=0.2:\n",
    "        x=(\"no correlation\")\n",
    "    elif r<=0.5:\n",
    "        x=(\"weak correlation\")\n",
    "    elif r<=0.75:\n",
    "        x=(\"moderate correlation\")\n",
    "    else:\n",
    "        x=(\"strong correlation\")\n",
    "    return symbols(x.replace(\" \",\"~\"))\n",
    "\n",
    "\n",
    "r_titlechange, p_title= stats.pearsonr(finaljoin.duration, finaljoin.titlecount)\n",
    "\n",
    "r_salary, p_sal= stats.pearsonr(finaljoin.duration, finaljoin.salary)\n",
    "\n",
    "r_salary_str='Correlation~between~Salary~and~Duration'\n",
    "r_titlechanges_str='Correlation~between~Title~and~Duration'\n",
    "display(\n",
    "symbols((r_salary_str)),sympify(f'{r_salary:.4G}'),\n",
    "strength_cor(r_salary),\n",
    "\n",
    "\n",
    "symbols((r_titlechanges_str)),sympify(f'{r_titlechange:.4G}'),\n",
    "strength_cor(r_titlechange)\n",
    "\n",
    ")\n",
    "\n"
   ]
  },
  {
   "cell_type": "code",
   "execution_count": 137,
   "metadata": {},
   "outputs": [],
   "source": [
    "######\n",
    "#Expermimenting with printing output\n",
    "\n",
    "\n",
    "\n",
    "\n",
    "# pd.set_option('styler.render.repr','latex')\n",
    "# pd.set_option('styler.render.encoding', 'latex')\n",
    "# # pd.set_option('dataframe.style','to_latex')\n",
    "# # pd.set_option('styler','to_latex')\n",
    "# pd.set_option('display.notebook_repr_html' ,False)\n",
    "##broke here\n",
    "# pd.set_option('display.html.border',10)\n",
    "# not that intersting yet\n",
    "\n",
    "\n",
    "\n",
    "# basicall Jupyter notebooks has some live LaTex rendering through KaTex but full LaTek isn't renddered well in \n",
    "# Jupyeter\n",
    "\n",
    "\n",
    "\n"
   ]
  },
  {
   "cell_type": "code",
   "execution_count": null,
   "metadata": {},
   "outputs": [],
   "source": [
    "\n"
   ]
  },
  {
   "cell_type": "code",
   "execution_count": 138,
   "metadata": {},
   "outputs": [
    {
     "name": "stdout",
     "output_type": "stream",
     "text": [
      "<class 'pandas.core.frame.DataFrame'>\n",
      "Int64Index: 180 entries, 1 to 180\n",
      "Data columns (total 3 columns):\n",
      " #   Column    Non-Null Count  Dtype  \n",
      "---  ------    --------------  -----  \n",
      " 0   Reaction  180 non-null    float64\n",
      " 1   Days      180 non-null    int64  \n",
      " 2   Subject   180 non-null    int64  \n",
      "dtypes: float64(1), int64(2)\n",
      "memory usage: 5.6 KB\n"
     ]
    },
    {
     "data": {
      "image/png": "[encoded data removed]",
      "image/svg+xml": "<?xml version=\"1.0\" encoding=\"utf-8\" standalone=\"no\"?>\n<!DOCTYPE svg PUBLIC \"-//W3C//DTD SVG 1.1//EN\"\n  \"http://www.w3.org/Graphics/SVG/1.1/DTD/svg11.dtd\">\n<svg xmlns:xlink=\"http://www.w3.org/1999/xlink\" width=\"352.440625pt\" height=\"352.15625pt\" viewBox=\"0 0 352.440625 352.15625\" xmlns=\"http://www.w3.org/2000/svg\" version=\"1.1\">\n <metadata>\n  <rdf:RDF xmlns:dc=\"http://purl.org/dc/elements/1.1/\" xmlns:cc=\"http://creativecommons.org/ns#\" xmlns:rdf=\"http://www.w3.org/1999/02/22-rdf-syntax-ns#\">\n   <cc:Work>\n    <dc:type rdf:resource=\"http://purl.org/dc/dcmitype/StillImage\"/>\n    <dc:date>2022-08-08T05:22:59.432033</dc:date>\n    <dc:format>image/svg+xml</dc:format>\n    <dc:creator>\n     <cc:Agent>\n      <dc:title>Matplotlib v3.5.1, https://matplotlib.org/</dc:title>\n     </cc:Agent>\n    </dc:creator>\n   </cc:Work>\n  </rdf:RDF>\n </metadata>\n <defs>\n  <style type=\"text/css\">*{stroke-linejoin: round; stroke-linecap: butt}</style>\n </defs>\n <g id=\"figure_1\">\n  <g id=\"patch_1\">\n   <path d=\"M 0 352.15625 \nL 352.440625 352.15625 \nL 352.440625 0 \nL 0 0 \nz\n\"/>\n  </g>\n  <g id=\"axes_1\">\n   <g id=\"patch_2\">\n    <path d=\"M 46.965625 314.6 \nL 345.240625 314.6 \nL 345.240625 7.2 \nL 46.965625 7.2 \nz\n\"/>\n   </g>\n   <g id=\"PathCollection_1\">\n    <defs>\n     <path id=\"m3a84ab3d96\" d=\"M 0 3 \nC 0.795609 3 1.55874 2.683901 2.12132 2.12132 \nC 2.683901 1.55874 3 0.795609 3 0 \nC 3 -0.795609 2.683901 -1.55874 2.12132 -2.12132 \nC 1.55874 -2.683901 0.795609 -3 0 -3 \nC -0.795609 -3 -1.55874 -2.683901 -2.12132 -2.12132 \nC -2.683901 -1.55874 -3 -0.795609 -3 0 \nC -3 0.795609 -2.683901 1.55874 -2.12132 2.12132 \nC -1.55874 2.683901 -0.795609 3 0 3 \nz\n\" style=\"stroke: #8dd3c7; stroke-opacity: 0.8\"/>\n    </defs>\n    <g clip-path=\"url(#p7f1dbb0542)\">\n     <use xlink:href=\"#m3a84ab3d96\" x=\"60.52358\" y=\"243.89032\" style=\"fill: #8dd3c7; fill-opacity: 0.8; stroke: #8dd3c7; stroke-opacity: 0.8\"/>\n     <use xlink:href=\"#m3a84ab3d96\" x=\"90.652367\" y=\"234.495732\" style=\"fill: #8dd3c7; fill-opacity: 0.8; stroke: #8dd3c7; stroke-opacity: 0.8\"/>\n     <use xlink:href=\"#m3a84ab3d96\" x=\"120.781155\" y=\"242.615819\" style=\"fill: #8dd3c7; fill-opacity: 0.8; stroke: #8dd3c7; stroke-opacity: 0.8\"/>\n     <use xlink:href=\"#m3a84ab3d96\" x=\"150.909943\" y=\"170.046334\" style=\"fill: #8dd3c7; fill-opacity: 0.8; stroke: #8dd3c7; stroke-opacity: 0.8\"/>\n     <use xlink:href=\"#m3a84ab3d96\" x=\"181.038731\" y=\"133.666565\" style=\"fill: #8dd3c7; fill-opacity: 0.8; stroke: #8dd3c7; stroke-opacity: 0.8\"/>\n     <use xlink:href=\"#m3a84ab3d96\" x=\"211.167519\" y=\"74.24788\" style=\"fill: #8dd3c7; fill-opacity: 0.8; stroke: #8dd3c7; stroke-opacity: 0.8\"/>\n     <use xlink:href=\"#m3a84ab3d96\" x=\"241.296307\" y=\"107.621899\" style=\"fill: #8dd3c7; fill-opacity: 0.8; stroke: #8dd3c7; stroke-opacity: 0.8\"/>\n     <use xlink:href=\"#m3a84ab3d96\" x=\"271.425095\" y=\"202.192597\" style=\"fill: #8dd3c7; fill-opacity: 0.8; stroke: #8dd3c7; stroke-opacity: 0.8\"/>\n     <use xlink:href=\"#m3a84ab3d96\" x=\"301.553883\" y=\"57.918328\" style=\"fill: #8dd3c7; fill-opacity: 0.8; stroke: #8dd3c7; stroke-opacity: 0.8\"/>\n     <use xlink:href=\"#m3a84ab3d96\" x=\"331.68267\" y=\"21.172727\" style=\"fill: #8dd3c7; fill-opacity: 0.8; stroke: #8dd3c7; stroke-opacity: 0.8\"/>\n     <use xlink:href=\"#m3a84ab3d96\" x=\"60.52358\" y=\"271.449469\" style=\"fill: #8dd3c7; fill-opacity: 0.8; stroke: #8dd3c7; stroke-opacity: 0.8\"/>\n     <use xlink:href=\"#m3a84ab3d96\" x=\"90.652367\" y=\"289.394902\" style=\"fill: #8dd3c7; fill-opacity: 0.8; stroke: #8dd3c7; stroke-opacity: 0.8\"/>\n     <use xlink:href=\"#m3a84ab3d96\" x=\"120.781155\" y=\"291.745423\" style=\"fill: #8dd3c7; fill-opacity: 0.8; stroke: #8dd3c7; stroke-opacity: 0.8\"/>\n     <use xlink:href=\"#m3a84ab3d96\" x=\"150.909943\" y=\"289.968971\" style=\"fill: #8dd3c7; fill-opacity: 0.8; stroke: #8dd3c7; stroke-opacity: 0.8\"/>\n     <use xlink:href=\"#m3a84ab3d96\" x=\"181.038731\" y=\"286.877645\" style=\"fill: #8dd3c7; fill-opacity: 0.8; stroke: #8dd3c7; stroke-opacity: 0.8\"/>\n     <use xlink:href=\"#m3a84ab3d96\" x=\"211.167519\" y=\"278.406623\" style=\"fill: #8dd3c7; fill-opacity: 0.8; stroke: #8dd3c7; stroke-opacity: 0.8\"/>\n     <use xlink:href=\"#m3a84ab3d96\" x=\"241.296307\" y=\"280.801833\" style=\"fill: #8dd3c7; fill-opacity: 0.8; stroke: #8dd3c7; stroke-opacity: 0.8\"/>\n     <use xlink:href=\"#m3a84ab3d96\" x=\"271.425095\" y=\"276.592982\" style=\"fill: #8dd3c7; fill-opacity: 0.8; stroke: #8dd3c7; stroke-opacity: 0.8\"/>\n     <use xlink:href=\"#m3a84ab3d96\" x=\"301.553883\" y=\"269.844991\" style=\"fill: #8dd3c7; fill-opacity: 0.8; stroke: #8dd3c7; stroke-opacity: 0.8\"/>\n     <use xlink:href=\"#m3a84ab3d96\" x=\"331.68267\" y=\"256.470748\" style=\"fill: #8dd3c7; fill-opacity: 0.8; stroke: #8dd3c7; stroke-opacity: 0.8\"/>\n     <use xlink:href=\"#m3a84ab3d96\" x=\"60.52358\" y=\"295.776548\" style=\"fill: #8dd3c7; fill-opacity: 0.8; stroke: #8dd3c7; stroke-opacity: 0.8\"/>\n     <use xlink:href=\"#m3a84ab3d96\" x=\"90.652367\" y=\"300.627273\" style=\"fill: #8dd3c7; fill-opacity: 0.8; stroke: #8dd3c7; stroke-opacity: 0.8\"/>\n     <use xlink:href=\"#m3a84ab3d96\" x=\"120.781155\" y=\"259.546767\" style=\"fill: #8dd3c7; fill-opacity: 0.8; stroke: #8dd3c7; stroke-opacity: 0.8\"/>\n     <use xlink:href=\"#m3a84ab3d96\" x=\"150.909943\" y=\"261.065566\" style=\"fill: #8dd3c7; fill-opacity: 0.8; stroke: #8dd3c7; stroke-opacity: 0.8\"/>\n     <use xlink:href=\"#m3a84ab3d96\" x=\"181.038731\" y=\"264.696342\" style=\"fill: #8dd3c7; fill-opacity: 0.8; stroke: #8dd3c7; stroke-opacity: 0.8\"/>\n     <use xlink:href=\"#m3a84ab3d96\" x=\"211.167519\" y=\"273.787663\" style=\"fill: #8dd3c7; fill-opacity: 0.8; stroke: #8dd3c7; stroke-opacity: 0.8\"/>\n     <use xlink:href=\"#m3a84ab3d96\" x=\"241.296307\" y=\"258.415887\" style=\"fill: #8dd3c7; fill-opacity: 0.8; stroke: #8dd3c7; stroke-opacity: 0.8\"/>\n     <use xlink:href=\"#m3a84ab3d96\" x=\"271.425095\" y=\"237.530042\" style=\"fill: #8dd3c7; fill-opacity: 0.8; stroke: #8dd3c7; stroke-opacity: 0.8\"/>\n     <use xlink:href=\"#m3a84ab3d96\" x=\"301.553883\" y=\"232.124869\" style=\"fill: #8dd3c7; fill-opacity: 0.8; stroke: #8dd3c7; stroke-opacity: 0.8\"/>\n     <use xlink:href=\"#m3a84ab3d96\" x=\"331.68267\" y=\"245.990893\" style=\"fill: #8dd3c7; fill-opacity: 0.8; stroke: #8dd3c7; stroke-opacity: 0.8\"/>\n     <use xlink:href=\"#m3a84ab3d96\" x=\"60.52358\" y=\"169.940725\" style=\"fill: #8dd3c7; fill-opacity: 0.8; stroke: #8dd3c7; stroke-opacity: 0.8\"/>\n     <use xlink:href=\"#m3a84ab3d96\" x=\"90.652367\" y=\"191.660862\" style=\"fill: #8dd3c7; fill-opacity: 0.8; stroke: #8dd3c7; stroke-opacity: 0.8\"/>\n     <use xlink:href=\"#m3a84ab3d96\" x=\"120.781155\" y=\"208.656635\" style=\"fill: #8dd3c7; fill-opacity: 0.8; stroke: #8dd3c7; stroke-opacity: 0.8\"/>\n     <use xlink:href=\"#m3a84ab3d96\" x=\"150.909943\" y=\"207.345253\" style=\"fill: #8dd3c7; fill-opacity: 0.8; stroke: #8dd3c7; stroke-opacity: 0.8\"/>\n     <use xlink:href=\"#m3a84ab3d96\" x=\"181.038731\" y=\"206.6628\" style=\"fill: #8dd3c7; fill-opacity: 0.8; stroke: #8dd3c7; stroke-opacity: 0.8\"/>\n     <use xlink:href=\"#m3a84ab3d96\" x=\"211.167519\" y=\"194.552476\" style=\"fill: #8dd3c7; fill-opacity: 0.8; stroke: #8dd3c7; stroke-opacity: 0.8\"/>\n     <use xlink:href=\"#m3a84ab3d96\" x=\"241.296307\" y=\"212.37237\" style=\"fill: #8dd3c7; fill-opacity: 0.8; stroke: #8dd3c7; stroke-opacity: 0.8\"/>\n     <use xlink:href=\"#m3a84ab3d96\" x=\"271.425095\" y=\"173.31169\" style=\"fill: #8dd3c7; fill-opacity: 0.8; stroke: #8dd3c7; stroke-opacity: 0.8\"/>\n     <use xlink:href=\"#m3a84ab3d96\" x=\"301.553883\" y=\"186.576317\" style=\"fill: #8dd3c7; fill-opacity: 0.8; stroke: #8dd3c7; stroke-opacity: 0.8\"/>\n     <use xlink:href=\"#m3a84ab3d96\" x=\"331.68267\" y=\"136.546365\" style=\"fill: #8dd3c7; fill-opacity: 0.8; stroke: #8dd3c7; stroke-opacity: 0.8\"/>\n     <use xlink:href=\"#m3a84ab3d96\" x=\"60.52358\" y=\"204.802724\" style=\"fill: #8dd3c7; fill-opacity: 0.8; stroke: #8dd3c7; stroke-opacity: 0.8\"/>\n     <use xlink:href=\"#m3a84ab3d96\" x=\"90.652367\" y=\"207.481887\" style=\"fill: #8dd3c7; fill-opacity: 0.8; stroke: #8dd3c7; stroke-opacity: 0.8\"/>\n     <use xlink:href=\"#m3a84ab3d96\" x=\"120.781155\" y=\"190.201648\" style=\"fill: #8dd3c7; fill-opacity: 0.8; stroke: #8dd3c7; stroke-opacity: 0.8\"/>\n     <use xlink:href=\"#m3a84ab3d96\" x=\"150.909943\" y=\"171.407028\" style=\"fill: #8dd3c7; fill-opacity: 0.8; stroke: #8dd3c7; stroke-opacity: 0.8\"/>\n     <use xlink:href=\"#m3a84ab3d96\" x=\"181.038731\" y=\"175.349905\" style=\"fill: #8dd3c7; fill-opacity: 0.8; stroke: #8dd3c7; stroke-opacity: 0.8\"/>\n     <use xlink:href=\"#m3a84ab3d96\" x=\"211.167519\" y=\"198.935871\" style=\"fill: #8dd3c7; fill-opacity: 0.8; stroke: #8dd3c7; stroke-opacity: 0.8\"/>\n     <use xlink:href=\"#m3a84ab3d96\" x=\"241.296307\" y=\"202.268208\" style=\"fill: #8dd3c7; fill-opacity: 0.8; stroke: #8dd3c7; stroke-opacity: 0.8\"/>\n     <use xlink:href=\"#m3a84ab3d96\" x=\"271.425095\" y=\"156.30287\" style=\"fill: #8dd3c7; fill-opacity: 0.8; stroke: #8dd3c7; stroke-opacity: 0.8\"/>\n     <use xlink:href=\"#m3a84ab3d96\" x=\"301.553883\" y=\"198.49597\" style=\"fill: #8dd3c7; fill-opacity: 0.8; stroke: #8dd3c7; stroke-opacity: 0.8\"/>\n     <use xlink:href=\"#m3a84ab3d96\" x=\"331.68267\" y=\"118.534875\" style=\"fill: #8dd3c7; fill-opacity: 0.8; stroke: #8dd3c7; stroke-opacity: 0.8\"/>\n     <use xlink:href=\"#m3a84ab3d96\" x=\"60.52358\" y=\"258.991395\" style=\"fill: #8dd3c7; fill-opacity: 0.8; stroke: #8dd3c7; stroke-opacity: 0.8\"/>\n     <use xlink:href=\"#m3a84ab3d96\" x=\"90.652367\" y=\"250.822921\" style=\"fill: #8dd3c7; fill-opacity: 0.8; stroke: #8dd3c7; stroke-opacity: 0.8\"/>\n     <use xlink:href=\"#m3a84ab3d96\" x=\"120.781155\" y=\"219.849556\" style=\"fill: #8dd3c7; fill-opacity: 0.8; stroke: #8dd3c7; stroke-opacity: 0.8\"/>\n     <use xlink:href=\"#m3a84ab3d96\" x=\"150.909943\" y=\"182.036256\" style=\"fill: #8dd3c7; fill-opacity: 0.8; stroke: #8dd3c7; stroke-opacity: 0.8\"/>\n     <use xlink:href=\"#m3a84ab3d96\" x=\"181.038731\" y=\"174.131907\" style=\"fill: #8dd3c7; fill-opacity: 0.8; stroke: #8dd3c7; stroke-opacity: 0.8\"/>\n     <use xlink:href=\"#m3a84ab3d96\" x=\"211.167519\" y=\"181.801204\" style=\"fill: #8dd3c7; fill-opacity: 0.8; stroke: #8dd3c7; stroke-opacity: 0.8\"/>\n     <use xlink:href=\"#m3a84ab3d96\" x=\"241.296307\" y=\"33.697475\" style=\"fill: #8dd3c7; fill-opacity: 0.8; stroke: #8dd3c7; stroke-opacity: 0.8\"/>\n     <use xlink:href=\"#m3a84ab3d96\" x=\"271.425095\" y=\"143.961193\" style=\"fill: #8dd3c7; fill-opacity: 0.8; stroke: #8dd3c7; stroke-opacity: 0.8\"/>\n     <use xlink:href=\"#m3a84ab3d96\" x=\"301.553883\" y=\"160.943713\" style=\"fill: #8dd3c7; fill-opacity: 0.8; stroke: #8dd3c7; stroke-opacity: 0.8\"/>\n     <use xlink:href=\"#m3a84ab3d96\" x=\"331.68267\" y=\"239.468298\" style=\"fill: #8dd3c7; fill-opacity: 0.8; stroke: #8dd3c7; stroke-opacity: 0.8\"/>\n     <use xlink:href=\"#m3a84ab3d96\" x=\"60.52358\" y=\"208.67112\" style=\"fill: #8dd3c7; fill-opacity: 0.8; stroke: #8dd3c7; stroke-opacity: 0.8\"/>\n     <use xlink:href=\"#m3a84ab3d96\" x=\"90.652367\" y=\"202.802418\" style=\"fill: #8dd3c7; fill-opacity: 0.8; stroke: #8dd3c7; stroke-opacity: 0.8\"/>\n     <use xlink:href=\"#m3a84ab3d96\" x=\"120.781155\" y=\"215.937499\" style=\"fill: #8dd3c7; fill-opacity: 0.8; stroke: #8dd3c7; stroke-opacity: 0.8\"/>\n     <use xlink:href=\"#m3a84ab3d96\" x=\"150.909943\" y=\"192.267498\" style=\"fill: #8dd3c7; fill-opacity: 0.8; stroke: #8dd3c7; stroke-opacity: 0.8\"/>\n     <use xlink:href=\"#m3a84ab3d96\" x=\"181.038731\" y=\"194.978303\" style=\"fill: #8dd3c7; fill-opacity: 0.8; stroke: #8dd3c7; stroke-opacity: 0.8\"/>\n     <use xlink:href=\"#m3a84ab3d96\" x=\"211.167519\" y=\"152.862561\" style=\"fill: #8dd3c7; fill-opacity: 0.8; stroke: #8dd3c7; stroke-opacity: 0.8\"/>\n     <use xlink:href=\"#m3a84ab3d96\" x=\"241.296307\" y=\"159.170343\" style=\"fill: #8dd3c7; fill-opacity: 0.8; stroke: #8dd3c7; stroke-opacity: 0.8\"/>\n     <use xlink:href=\"#m3a84ab3d96\" x=\"271.425095\" y=\"141.8975\" style=\"fill: #8dd3c7; fill-opacity: 0.8; stroke: #8dd3c7; stroke-opacity: 0.8\"/>\n     <use xlink:href=\"#m3a84ab3d96\" x=\"301.553883\" y=\"157.800403\" style=\"fill: #8dd3c7; fill-opacity: 0.8; stroke: #8dd3c7; stroke-opacity: 0.8\"/>\n     <use xlink:href=\"#m3a84ab3d96\" x=\"331.68267\" y=\"128.333818\" style=\"fill: #8dd3c7; fill-opacity: 0.8; stroke: #8dd3c7; stroke-opacity: 0.8\"/>\n     <use xlink:href=\"#m3a84ab3d96\" x=\"60.52358\" y=\"227.542379\" style=\"fill: #8dd3c7; fill-opacity: 0.8; stroke: #8dd3c7; stroke-opacity: 0.8\"/>\n     <use xlink:href=\"#m3a84ab3d96\" x=\"90.652367\" y=\"216.521123\" style=\"fill: #8dd3c7; fill-opacity: 0.8; stroke: #8dd3c7; stroke-opacity: 0.8\"/>\n     <use xlink:href=\"#m3a84ab3d96\" x=\"120.781155\" y=\"250.254912\" style=\"fill: #8dd3c7; fill-opacity: 0.8; stroke: #8dd3c7; stroke-opacity: 0.8\"/>\n     <use xlink:href=\"#m3a84ab3d96\" x=\"150.909943\" y=\"238.638321\" style=\"fill: #8dd3c7; fill-opacity: 0.8; stroke: #8dd3c7; stroke-opacity: 0.8\"/>\n     <use xlink:href=\"#m3a84ab3d96\" x=\"181.038731\" y=\"213.620776\" style=\"fill: #8dd3c7; fill-opacity: 0.8; stroke: #8dd3c7; stroke-opacity: 0.8\"/>\n     <use xlink:href=\"#m3a84ab3d96\" x=\"211.167519\" y=\"208.312789\" style=\"fill: #8dd3c7; fill-opacity: 0.8; stroke: #8dd3c7; stroke-opacity: 0.8\"/>\n     <use xlink:href=\"#m3a84ab3d96\" x=\"241.296307\" y=\"186.396227\" style=\"fill: #8dd3c7; fill-opacity: 0.8; stroke: #8dd3c7; stroke-opacity: 0.8\"/>\n     <use xlink:href=\"#m3a84ab3d96\" x=\"271.425095\" y=\"159.687704\" style=\"fill: #8dd3c7; fill-opacity: 0.8; stroke: #8dd3c7; stroke-opacity: 0.8\"/>\n     <use xlink:href=\"#m3a84ab3d96\" x=\"301.553883\" y=\"155.348279\" style=\"fill: #8dd3c7; fill-opacity: 0.8; stroke: #8dd3c7; stroke-opacity: 0.8\"/>\n     <use xlink:href=\"#m3a84ab3d96\" x=\"331.68267\" y=\"112.660728\" style=\"fill: #8dd3c7; fill-opacity: 0.8; stroke: #8dd3c7; stroke-opacity: 0.8\"/>\n     <use xlink:href=\"#m3a84ab3d96\" x=\"60.52358\" y=\"252.059308\" style=\"fill: #8dd3c7; fill-opacity: 0.8; stroke: #8dd3c7; stroke-opacity: 0.8\"/>\n     <use xlink:href=\"#m3a84ab3d96\" x=\"90.652367\" y=\"218.836716\" style=\"fill: #8dd3c7; fill-opacity: 0.8; stroke: #8dd3c7; stroke-opacity: 0.8\"/>\n     <use xlink:href=\"#m3a84ab3d96\" x=\"120.781155\" y=\"238.824883\" style=\"fill: #8dd3c7; fill-opacity: 0.8; stroke: #8dd3c7; stroke-opacity: 0.8\"/>\n     <use xlink:href=\"#m3a84ab3d96\" x=\"150.909943\" y=\"222.067759\" style=\"fill: #8dd3c7; fill-opacity: 0.8; stroke: #8dd3c7; stroke-opacity: 0.8\"/>\n     <use xlink:href=\"#m3a84ab3d96\" x=\"181.038731\" y=\"241.946722\" style=\"fill: #8dd3c7; fill-opacity: 0.8; stroke: #8dd3c7; stroke-opacity: 0.8\"/>\n     <use xlink:href=\"#m3a84ab3d96\" x=\"211.167519\" y=\"238.675408\" style=\"fill: #8dd3c7; fill-opacity: 0.8; stroke: #8dd3c7; stroke-opacity: 0.8\"/>\n     <use xlink:href=\"#m3a84ab3d96\" x=\"241.296307\" y=\"248.110266\" style=\"fill: #8dd3c7; fill-opacity: 0.8; stroke: #8dd3c7; stroke-opacity: 0.8\"/>\n     <use xlink:href=\"#m3a84ab3d96\" x=\"271.425095\" y=\"258.528687\" style=\"fill: #8dd3c7; fill-opacity: 0.8; stroke: #8dd3c7; stroke-opacity: 0.8\"/>\n     <use xlink:href=\"#m3a84ab3d96\" x=\"301.553883\" y=\"258.073479\" style=\"fill: #8dd3c7; fill-opacity: 0.8; stroke: #8dd3c7; stroke-opacity: 0.8\"/>\n     <use xlink:href=\"#m3a84ab3d96\" x=\"331.68267\" y=\"256.540195\" style=\"fill: #8dd3c7; fill-opacity: 0.8; stroke: #8dd3c7; stroke-opacity: 0.8\"/>\n     <use xlink:href=\"#m3a84ab3d96\" x=\"60.52358\" y=\"179.367468\" style=\"fill: #8dd3c7; fill-opacity: 0.8; stroke: #8dd3c7; stroke-opacity: 0.8\"/>\n     <use xlink:href=\"#m3a84ab3d96\" x=\"90.652367\" y=\"177.888941\" style=\"fill: #8dd3c7; fill-opacity: 0.8; stroke: #8dd3c7; stroke-opacity: 0.8\"/>\n     <use xlink:href=\"#m3a84ab3d96\" x=\"120.781155\" y=\"200.69003\" style=\"fill: #8dd3c7; fill-opacity: 0.8; stroke: #8dd3c7; stroke-opacity: 0.8\"/>\n     <use xlink:href=\"#m3a84ab3d96\" x=\"150.909943\" y=\"144.689464\" style=\"fill: #8dd3c7; fill-opacity: 0.8; stroke: #8dd3c7; stroke-opacity: 0.8\"/>\n     <use xlink:href=\"#m3a84ab3d96\" x=\"181.038731\" y=\"124.543396\" style=\"fill: #8dd3c7; fill-opacity: 0.8; stroke: #8dd3c7; stroke-opacity: 0.8\"/>\n     <use xlink:href=\"#m3a84ab3d96\" x=\"211.167519\" y=\"97.723922\" style=\"fill: #8dd3c7; fill-opacity: 0.8; stroke: #8dd3c7; stroke-opacity: 0.8\"/>\n     <use xlink:href=\"#m3a84ab3d96\" x=\"241.296307\" y=\"84.96289\" style=\"fill: #8dd3c7; fill-opacity: 0.8; stroke: #8dd3c7; stroke-opacity: 0.8\"/>\n     <use xlink:href=\"#m3a84ab3d96\" x=\"271.425095\" y=\"72.190968\" style=\"fill: #8dd3c7; fill-opacity: 0.8; stroke: #8dd3c7; stroke-opacity: 0.8\"/>\n     <use xlink:href=\"#m3a84ab3d96\" x=\"301.553883\" y=\"31.948555\" style=\"fill: #8dd3c7; fill-opacity: 0.8; stroke: #8dd3c7; stroke-opacity: 0.8\"/>\n     <use xlink:href=\"#m3a84ab3d96\" x=\"331.68267\" y=\"28.812745\" style=\"fill: #8dd3c7; fill-opacity: 0.8; stroke: #8dd3c7; stroke-opacity: 0.8\"/>\n     <use xlink:href=\"#m3a84ab3d96\" x=\"60.52358\" y=\"257.71484\" style=\"fill: #8dd3c7; fill-opacity: 0.8; stroke: #8dd3c7; stroke-opacity: 0.8\"/>\n     <use xlink:href=\"#m3a84ab3d96\" x=\"90.652367\" y=\"263.659461\" style=\"fill: #8dd3c7; fill-opacity: 0.8; stroke: #8dd3c7; stroke-opacity: 0.8\"/>\n     <use xlink:href=\"#m3a84ab3d96\" x=\"120.781155\" y=\"254.815315\" style=\"fill: #8dd3c7; fill-opacity: 0.8; stroke: #8dd3c7; stroke-opacity: 0.8\"/>\n     <use xlink:href=\"#m3a84ab3d96\" x=\"150.909943\" y=\"238.381798\" style=\"fill: #8dd3c7; fill-opacity: 0.8; stroke: #8dd3c7; stroke-opacity: 0.8\"/>\n     <use xlink:href=\"#m3a84ab3d96\" x=\"181.038731\" y=\"242.708587\" style=\"fill: #8dd3c7; fill-opacity: 0.8; stroke: #8dd3c7; stroke-opacity: 0.8\"/>\n     <use xlink:href=\"#m3a84ab3d96\" x=\"211.167519\" y=\"223.123542\" style=\"fill: #8dd3c7; fill-opacity: 0.8; stroke: #8dd3c7; stroke-opacity: 0.8\"/>\n     <use xlink:href=\"#m3a84ab3d96\" x=\"241.296307\" y=\"211.010957\" style=\"fill: #8dd3c7; fill-opacity: 0.8; stroke: #8dd3c7; stroke-opacity: 0.8\"/>\n     <use xlink:href=\"#m3a84ab3d96\" x=\"271.425095\" y=\"183.748603\" style=\"fill: #8dd3c7; fill-opacity: 0.8; stroke: #8dd3c7; stroke-opacity: 0.8\"/>\n     <use xlink:href=\"#m3a84ab3d96\" x=\"301.553883\" y=\"154.799995\" style=\"fill: #8dd3c7; fill-opacity: 0.8; stroke: #8dd3c7; stroke-opacity: 0.8\"/>\n     <use xlink:href=\"#m3a84ab3d96\" x=\"331.68267\" y=\"139.015645\" style=\"fill: #8dd3c7; fill-opacity: 0.8; stroke: #8dd3c7; stroke-opacity: 0.8\"/>\n     <use xlink:href=\"#m3a84ab3d96\" x=\"60.52358\" y=\"236.96943\" style=\"fill: #8dd3c7; fill-opacity: 0.8; stroke: #8dd3c7; stroke-opacity: 0.8\"/>\n     <use xlink:href=\"#m3a84ab3d96\" x=\"90.652367\" y=\"250.162864\" style=\"fill: #8dd3c7; fill-opacity: 0.8; stroke: #8dd3c7; stroke-opacity: 0.8\"/>\n     <use xlink:href=\"#m3a84ab3d96\" x=\"120.781155\" y=\"237.064149\" style=\"fill: #8dd3c7; fill-opacity: 0.8; stroke: #8dd3c7; stroke-opacity: 0.8\"/>\n     <use xlink:href=\"#m3a84ab3d96\" x=\"150.909943\" y=\"237.760163\" style=\"fill: #8dd3c7; fill-opacity: 0.8; stroke: #8dd3c7; stroke-opacity: 0.8\"/>\n     <use xlink:href=\"#m3a84ab3d96\" x=\"181.038731\" y=\"224.004885\" style=\"fill: #8dd3c7; fill-opacity: 0.8; stroke: #8dd3c7; stroke-opacity: 0.8\"/>\n     <use xlink:href=\"#m3a84ab3d96\" x=\"211.167519\" y=\"161.535042\" style=\"fill: #8dd3c7; fill-opacity: 0.8; stroke: #8dd3c7; stroke-opacity: 0.8\"/>\n     <use xlink:href=\"#m3a84ab3d96\" x=\"241.296307\" y=\"110.4566\" style=\"fill: #8dd3c7; fill-opacity: 0.8; stroke: #8dd3c7; stroke-opacity: 0.8\"/>\n     <use xlink:href=\"#m3a84ab3d96\" x=\"271.425095\" y=\"127.434292\" style=\"fill: #8dd3c7; fill-opacity: 0.8; stroke: #8dd3c7; stroke-opacity: 0.8\"/>\n     <use xlink:href=\"#m3a84ab3d96\" x=\"301.553883\" y=\"95.002844\" style=\"fill: #8dd3c7; fill-opacity: 0.8; stroke: #8dd3c7; stroke-opacity: 0.8\"/>\n     <use xlink:href=\"#m3a84ab3d96\" x=\"331.68267\" y=\"100.585846\" style=\"fill: #8dd3c7; fill-opacity: 0.8; stroke: #8dd3c7; stroke-opacity: 0.8\"/>\n     <use xlink:href=\"#m3a84ab3d96\" x=\"60.52358\" y=\"242.897409\" style=\"fill: #8dd3c7; fill-opacity: 0.8; stroke: #8dd3c7; stroke-opacity: 0.8\"/>\n     <use xlink:href=\"#m3a84ab3d96\" x=\"90.652367\" y=\"192.012824\" style=\"fill: #8dd3c7; fill-opacity: 0.8; stroke: #8dd3c7; stroke-opacity: 0.8\"/>\n     <use xlink:href=\"#m3a84ab3d96\" x=\"120.781155\" y=\"223.000776\" style=\"fill: #8dd3c7; fill-opacity: 0.8; stroke: #8dd3c7; stroke-opacity: 0.8\"/>\n     <use xlink:href=\"#m3a84ab3d96\" x=\"150.909943\" y=\"212.013319\" style=\"fill: #8dd3c7; fill-opacity: 0.8; stroke: #8dd3c7; stroke-opacity: 0.8\"/>\n     <use xlink:href=\"#m3a84ab3d96\" x=\"181.038731\" y=\"221.014441\" style=\"fill: #8dd3c7; fill-opacity: 0.8; stroke: #8dd3c7; stroke-opacity: 0.8\"/>\n     <use xlink:href=\"#m3a84ab3d96\" x=\"211.167519\" y=\"187.31178\" style=\"fill: #8dd3c7; fill-opacity: 0.8; stroke: #8dd3c7; stroke-opacity: 0.8\"/>\n     <use xlink:href=\"#m3a84ab3d96\" x=\"241.296307\" y=\"204.660234\" style=\"fill: #8dd3c7; fill-opacity: 0.8; stroke: #8dd3c7; stroke-opacity: 0.8\"/>\n     <use xlink:href=\"#m3a84ab3d96\" x=\"271.425095\" y=\"226.389308\" style=\"fill: #8dd3c7; fill-opacity: 0.8; stroke: #8dd3c7; stroke-opacity: 0.8\"/>\n     <use xlink:href=\"#m3a84ab3d96\" x=\"301.553883\" y=\"169.941547\" style=\"fill: #8dd3c7; fill-opacity: 0.8; stroke: #8dd3c7; stroke-opacity: 0.8\"/>\n     <use xlink:href=\"#m3a84ab3d96\" x=\"331.68267\" y=\"143.206724\" style=\"fill: #8dd3c7; fill-opacity: 0.8; stroke: #8dd3c7; stroke-opacity: 0.8\"/>\n     <use xlink:href=\"#m3a84ab3d96\" x=\"60.52358\" y=\"272.535147\" style=\"fill: #8dd3c7; fill-opacity: 0.8; stroke: #8dd3c7; stroke-opacity: 0.8\"/>\n     <use xlink:href=\"#m3a84ab3d96\" x=\"90.652367\" y=\"193.927451\" style=\"fill: #8dd3c7; fill-opacity: 0.8; stroke: #8dd3c7; stroke-opacity: 0.8\"/>\n     <use xlink:href=\"#m3a84ab3d96\" x=\"120.781155\" y=\"164.459017\" style=\"fill: #8dd3c7; fill-opacity: 0.8; stroke: #8dd3c7; stroke-opacity: 0.8\"/>\n     <use xlink:href=\"#m3a84ab3d96\" x=\"150.909943\" y=\"143.936126\" style=\"fill: #8dd3c7; fill-opacity: 0.8; stroke: #8dd3c7; stroke-opacity: 0.8\"/>\n     <use xlink:href=\"#m3a84ab3d96\" x=\"181.038731\" y=\"141.999925\" style=\"fill: #8dd3c7; fill-opacity: 0.8; stroke: #8dd3c7; stroke-opacity: 0.8\"/>\n     <use xlink:href=\"#m3a84ab3d96\" x=\"211.167519\" y=\"137.799702\" style=\"fill: #8dd3c7; fill-opacity: 0.8; stroke: #8dd3c7; stroke-opacity: 0.8\"/>\n     <use xlink:href=\"#m3a84ab3d96\" x=\"241.296307\" y=\"136.158138\" style=\"fill: #8dd3c7; fill-opacity: 0.8; stroke: #8dd3c7; stroke-opacity: 0.8\"/>\n     <use xlink:href=\"#m3a84ab3d96\" x=\"271.425095\" y=\"129.988018\" style=\"fill: #8dd3c7; fill-opacity: 0.8; stroke: #8dd3c7; stroke-opacity: 0.8\"/>\n     <use xlink:href=\"#m3a84ab3d96\" x=\"301.553883\" y=\"114.364445\" style=\"fill: #8dd3c7; fill-opacity: 0.8; stroke: #8dd3c7; stroke-opacity: 0.8\"/>\n     <use xlink:href=\"#m3a84ab3d96\" x=\"331.68267\" y=\"101.11081\" style=\"fill: #8dd3c7; fill-opacity: 0.8; stroke: #8dd3c7; stroke-opacity: 0.8\"/>\n     <use xlink:href=\"#m3a84ab3d96\" x=\"60.52358\" y=\"220.915715\" style=\"fill: #8dd3c7; fill-opacity: 0.8; stroke: #8dd3c7; stroke-opacity: 0.8\"/>\n     <use xlink:href=\"#m3a84ab3d96\" x=\"90.652367\" y=\"224.49759\" style=\"fill: #8dd3c7; fill-opacity: 0.8; stroke: #8dd3c7; stroke-opacity: 0.8\"/>\n     <use xlink:href=\"#m3a84ab3d96\" x=\"120.781155\" y=\"235.997991\" style=\"fill: #8dd3c7; fill-opacity: 0.8; stroke: #8dd3c7; stroke-opacity: 0.8\"/>\n     <use xlink:href=\"#m3a84ab3d96\" x=\"150.909943\" y=\"215.025953\" style=\"fill: #8dd3c7; fill-opacity: 0.8; stroke: #8dd3c7; stroke-opacity: 0.8\"/>\n     <use xlink:href=\"#m3a84ab3d96\" x=\"181.038731\" y=\"176.844767\" style=\"fill: #8dd3c7; fill-opacity: 0.8; stroke: #8dd3c7; stroke-opacity: 0.8\"/>\n     <use xlink:href=\"#m3a84ab3d96\" x=\"211.167519\" y=\"174.388122\" style=\"fill: #8dd3c7; fill-opacity: 0.8; stroke: #8dd3c7; stroke-opacity: 0.8\"/>\n     <use xlink:href=\"#m3a84ab3d96\" x=\"241.296307\" y=\"193.987652\" style=\"fill: #8dd3c7; fill-opacity: 0.8; stroke: #8dd3c7; stroke-opacity: 0.8\"/>\n     <use xlink:href=\"#m3a84ab3d96\" x=\"271.425095\" y=\"142.634093\" style=\"fill: #8dd3c7; fill-opacity: 0.8; stroke: #8dd3c7; stroke-opacity: 0.8\"/>\n     <use xlink:href=\"#m3a84ab3d96\" x=\"301.553883\" y=\"150.691308\" style=\"fill: #8dd3c7; fill-opacity: 0.8; stroke: #8dd3c7; stroke-opacity: 0.8\"/>\n     <use xlink:href=\"#m3a84ab3d96\" x=\"331.68267\" y=\"123.741363\" style=\"fill: #8dd3c7; fill-opacity: 0.8; stroke: #8dd3c7; stroke-opacity: 0.8\"/>\n     <use xlink:href=\"#m3a84ab3d96\" x=\"60.52358\" y=\"268.850231\" style=\"fill: #8dd3c7; fill-opacity: 0.8; stroke: #8dd3c7; stroke-opacity: 0.8\"/>\n     <use xlink:href=\"#m3a84ab3d96\" x=\"90.652367\" y=\"259.337707\" style=\"fill: #8dd3c7; fill-opacity: 0.8; stroke: #8dd3c7; stroke-opacity: 0.8\"/>\n     <use xlink:href=\"#m3a84ab3d96\" x=\"120.781155\" y=\"254.840793\" style=\"fill: #8dd3c7; fill-opacity: 0.8; stroke: #8dd3c7; stroke-opacity: 0.8\"/>\n     <use xlink:href=\"#m3a84ab3d96\" x=\"150.909943\" y=\"253.225631\" style=\"fill: #8dd3c7; fill-opacity: 0.8; stroke: #8dd3c7; stroke-opacity: 0.8\"/>\n     <use xlink:href=\"#m3a84ab3d96\" x=\"181.038731\" y=\"225.421772\" style=\"fill: #8dd3c7; fill-opacity: 0.8; stroke: #8dd3c7; stroke-opacity: 0.8\"/>\n     <use xlink:href=\"#m3a84ab3d96\" x=\"211.167519\" y=\"146.670662\" style=\"fill: #8dd3c7; fill-opacity: 0.8; stroke: #8dd3c7; stroke-opacity: 0.8\"/>\n     <use xlink:href=\"#m3a84ab3d96\" x=\"241.296307\" y=\"211.439044\" style=\"fill: #8dd3c7; fill-opacity: 0.8; stroke: #8dd3c7; stroke-opacity: 0.8\"/>\n     <use xlink:href=\"#m3a84ab3d96\" x=\"271.425095\" y=\"143.186178\" style=\"fill: #8dd3c7; fill-opacity: 0.8; stroke: #8dd3c7; stroke-opacity: 0.8\"/>\n     <use xlink:href=\"#m3a84ab3d96\" x=\"301.553883\" y=\"125.128356\" style=\"fill: #8dd3c7; fill-opacity: 0.8; stroke: #8dd3c7; stroke-opacity: 0.8\"/>\n     <use xlink:href=\"#m3a84ab3d96\" x=\"331.68267\" y=\"117.869476\" style=\"fill: #8dd3c7; fill-opacity: 0.8; stroke: #8dd3c7; stroke-opacity: 0.8\"/>\n     <use xlink:href=\"#m3a84ab3d96\" x=\"60.52358\" y=\"223.014645\" style=\"fill: #8dd3c7; fill-opacity: 0.8; stroke: #8dd3c7; stroke-opacity: 0.8\"/>\n     <use xlink:href=\"#m3a84ab3d96\" x=\"90.652367\" y=\"220.382225\" style=\"fill: #8dd3c7; fill-opacity: 0.8; stroke: #8dd3c7; stroke-opacity: 0.8\"/>\n     <use xlink:href=\"#m3a84ab3d96\" x=\"120.781155\" y=\"214.777032\" style=\"fill: #8dd3c7; fill-opacity: 0.8; stroke: #8dd3c7; stroke-opacity: 0.8\"/>\n     <use xlink:href=\"#m3a84ab3d96\" x=\"150.909943\" y=\"210.780117\" style=\"fill: #8dd3c7; fill-opacity: 0.8; stroke: #8dd3c7; stroke-opacity: 0.8\"/>\n     <use xlink:href=\"#m3a84ab3d96\" x=\"181.038731\" y=\"213.470684\" style=\"fill: #8dd3c7; fill-opacity: 0.8; stroke: #8dd3c7; stroke-opacity: 0.8\"/>\n     <use xlink:href=\"#m3a84ab3d96\" x=\"211.167519\" y=\"207.983222\" style=\"fill: #8dd3c7; fill-opacity: 0.8; stroke: #8dd3c7; stroke-opacity: 0.8\"/>\n     <use xlink:href=\"#m3a84ab3d96\" x=\"241.296307\" y=\"233.919299\" style=\"fill: #8dd3c7; fill-opacity: 0.8; stroke: #8dd3c7; stroke-opacity: 0.8\"/>\n     <use xlink:href=\"#m3a84ab3d96\" x=\"271.425095\" y=\"187.314862\" style=\"fill: #8dd3c7; fill-opacity: 0.8; stroke: #8dd3c7; stroke-opacity: 0.8\"/>\n     <use xlink:href=\"#m3a84ab3d96\" x=\"301.553883\" y=\"139.903666\" style=\"fill: #8dd3c7; fill-opacity: 0.8; stroke: #8dd3c7; stroke-opacity: 0.8\"/>\n     <use xlink:href=\"#m3a84ab3d96\" x=\"331.68267\" y=\"120.704485\" style=\"fill: #8dd3c7; fill-opacity: 0.8; stroke: #8dd3c7; stroke-opacity: 0.8\"/>\n     <use xlink:href=\"#m3a84ab3d96\" x=\"60.52358\" y=\"223.496153\" style=\"fill: #8dd3c7; fill-opacity: 0.8; stroke: #8dd3c7; stroke-opacity: 0.8\"/>\n     <use xlink:href=\"#m3a84ab3d96\" x=\"90.652367\" y=\"219.322846\" style=\"fill: #8dd3c7; fill-opacity: 0.8; stroke: #8dd3c7; stroke-opacity: 0.8\"/>\n     <use xlink:href=\"#m3a84ab3d96\" x=\"120.781155\" y=\"194.540868\" style=\"fill: #8dd3c7; fill-opacity: 0.8; stroke: #8dd3c7; stroke-opacity: 0.8\"/>\n     <use xlink:href=\"#m3a84ab3d96\" x=\"150.909943\" y=\"181.149879\" style=\"fill: #8dd3c7; fill-opacity: 0.8; stroke: #8dd3c7; stroke-opacity: 0.8\"/>\n     <use xlink:href=\"#m3a84ab3d96\" x=\"181.038731\" y=\"205.249919\" style=\"fill: #8dd3c7; fill-opacity: 0.8; stroke: #8dd3c7; stroke-opacity: 0.8\"/>\n     <use xlink:href=\"#m3a84ab3d96\" x=\"211.167519\" y=\"161.655341\" style=\"fill: #8dd3c7; fill-opacity: 0.8; stroke: #8dd3c7; stroke-opacity: 0.8\"/>\n     <use xlink:href=\"#m3a84ab3d96\" x=\"241.296307\" y=\"156.647949\" style=\"fill: #8dd3c7; fill-opacity: 0.8; stroke: #8dd3c7; stroke-opacity: 0.8\"/>\n     <use xlink:href=\"#m3a84ab3d96\" x=\"271.425095\" y=\"147.671072\" style=\"fill: #8dd3c7; fill-opacity: 0.8; stroke: #8dd3c7; stroke-opacity: 0.8\"/>\n     <use xlink:href=\"#m3a84ab3d96\" x=\"301.553883\" y=\"121.040934\" style=\"fill: #8dd3c7; fill-opacity: 0.8; stroke: #8dd3c7; stroke-opacity: 0.8\"/>\n     <use xlink:href=\"#m3a84ab3d96\" x=\"331.68267\" y=\"126.196158\" style=\"fill: #8dd3c7; fill-opacity: 0.8; stroke: #8dd3c7; stroke-opacity: 0.8\"/>\n    </g>\n   </g>\n   <g id=\"PolyCollection_1\">\n    <path d=\"M 60.52358 231.558985 \nL 60.52358 252.707925 \nL 63.26256 251.498956 \nL 66.001541 250.267391 \nL 68.740522 249.087692 \nL 71.479502 247.90215 \nL 74.218483 246.720669 \nL 76.957464 245.539188 \nL 79.696445 244.417935 \nL 82.435425 243.250843 \nL 85.174406 242.08417 \nL 87.913387 240.917739 \nL 90.652367 239.751309 \nL 93.391348 238.584878 \nL 96.130329 237.418447 \nL 98.86931 236.383691 \nL 101.60829 235.241821 \nL 104.347271 234.1785 \nL 107.086252 233.07828 \nL 109.825232 231.917907 \nL 112.564213 230.744681 \nL 115.303194 229.520279 \nL 118.042175 228.376379 \nL 120.781155 227.237471 \nL 123.520136 226.29521 \nL 126.259117 225.178973 \nL 128.998097 224.14552 \nL 131.737078 223.038225 \nL 134.476059 222.069917 \nL 137.21504 220.966089 \nL 139.95402 219.99451 \nL 142.693001 219.01436 \nL 145.431982 217.902845 \nL 148.170962 216.934012 \nL 150.909943 215.997882 \nL 153.648924 214.966894 \nL 156.387905 213.986382 \nL 159.126885 213.023814 \nL 161.865866 211.98015 \nL 164.604847 210.960081 \nL 167.343827 210.165895 \nL 170.082808 209.310912 \nL 172.821789 208.33494 \nL 175.56077 207.466766 \nL 178.29975 206.508652 \nL 181.038731 205.522167 \nL 183.777712 204.688716 \nL 186.516692 203.73867 \nL 189.255673 202.843984 \nL 191.994654 201.988236 \nL 194.733635 201.156768 \nL 197.472615 200.368259 \nL 200.211596 199.605596 \nL 202.950577 198.797975 \nL 205.689558 197.943716 \nL 208.428538 197.10675 \nL 211.167519 196.313253 \nL 213.9065 195.568525 \nL 216.64548 194.74497 \nL 219.384461 193.864766 \nL 222.123442 192.97686 \nL 224.862423 192.109369 \nL 227.601403 191.378518 \nL 230.340384 190.674033 \nL 233.079365 190.028028 \nL 235.818345 189.190061 \nL 238.557326 188.346638 \nL 241.296307 187.485767 \nL 244.035288 186.598425 \nL 246.774268 185.711083 \nL 249.513249 184.922079 \nL 252.25223 184.127885 \nL 254.99121 183.284869 \nL 257.730191 182.440352 \nL 260.469172 181.663572 \nL 263.208153 180.844844 \nL 265.947133 180.06185 \nL 268.686114 179.278857 \nL 271.425095 178.502923 \nL 274.164075 177.741349 \nL 276.903056 176.990799 \nL 279.642037 176.217511 \nL 282.381018 175.456934 \nL 285.119998 174.664309 \nL 287.858979 173.794143 \nL 290.59796 173.009962 \nL 293.33694 172.225782 \nL 296.075921 171.441601 \nL 298.814902 170.649575 \nL 301.553883 169.839845 \nL 304.292863 169.030115 \nL 307.031844 168.234893 \nL 309.770825 167.458246 \nL 312.509805 166.681599 \nL 315.248786 165.904953 \nL 317.987767 165.128306 \nL 320.726748 164.351659 \nL 323.465728 163.575012 \nL 326.204709 162.798365 \nL 328.94369 162.021719 \nL 331.68267 161.245072 \nL 331.68267 128.945927 \nL 331.68267 128.945927 \nL 328.94369 130.170861 \nL 326.204709 131.442706 \nL 323.465728 132.680111 \nL 320.726748 133.883219 \nL 317.987767 135.077307 \nL 315.248786 136.271396 \nL 312.509805 137.465485 \nL 309.770825 138.660554 \nL 307.031844 139.855934 \nL 304.292863 141.051315 \nL 301.553883 142.246695 \nL 298.814902 143.442076 \nL 296.075921 144.637456 \nL 293.33694 145.832837 \nL 290.59796 147.028217 \nL 287.858979 148.224543 \nL 285.119998 149.417619 \nL 282.381018 150.56764 \nL 279.642037 151.804873 \nL 276.903056 153.000886 \nL 274.164075 154.266948 \nL 271.425095 155.479493 \nL 268.686114 156.63464 \nL 265.947133 157.889236 \nL 263.208153 159.120897 \nL 260.469172 160.225161 \nL 257.730191 161.362645 \nL 254.99121 162.55487 \nL 252.25223 163.749863 \nL 249.513249 164.945707 \nL 246.774268 166.141551 \nL 244.035288 167.381966 \nL 241.296307 168.627338 \nL 238.557326 169.725301 \nL 235.818345 170.842317 \nL 233.079365 171.825696 \nL 230.340384 172.964494 \nL 227.601403 174.128844 \nL 224.862423 175.4071 \nL 222.123442 176.520817 \nL 219.384461 177.533549 \nL 216.64548 178.546713 \nL 213.9065 179.69502 \nL 211.167519 180.858271 \nL 208.428538 181.888767 \nL 205.689558 183.064625 \nL 202.950577 184.236698 \nL 200.211596 185.279783 \nL 197.472615 186.360828 \nL 194.733635 187.523621 \nL 191.994654 188.478159 \nL 189.255673 189.387097 \nL 186.516692 190.401705 \nL 183.777712 191.317707 \nL 181.038731 192.207376 \nL 178.29975 193.280358 \nL 175.56077 194.390894 \nL 172.821789 195.488572 \nL 170.082808 196.471227 \nL 167.343827 197.46692 \nL 164.604847 198.466122 \nL 161.865866 199.524524 \nL 159.126885 200.511408 \nL 156.387905 201.507594 \nL 153.648924 202.40337 \nL 150.909943 203.297314 \nL 148.170962 204.256696 \nL 145.431982 205.202076 \nL 142.693001 206.237895 \nL 139.95402 207.256228 \nL 137.21504 208.076443 \nL 134.476059 209.077647 \nL 131.737078 209.913114 \nL 128.998097 210.819579 \nL 126.259117 211.681106 \nL 123.520136 212.597352 \nL 120.781155 213.449028 \nL 118.042175 214.300704 \nL 115.303194 215.104488 \nL 112.564213 215.820372 \nL 109.825232 216.558776 \nL 107.086252 217.308896 \nL 104.347271 218.106996 \nL 101.60829 219.028163 \nL 98.86931 219.950242 \nL 96.130329 220.809692 \nL 93.391348 221.640916 \nL 90.652367 222.475971 \nL 87.913387 223.308766 \nL 85.174406 224.190538 \nL 82.435425 225.12978 \nL 79.696445 225.95269 \nL 76.957464 226.712147 \nL 74.218483 227.469922 \nL 71.479502 228.300849 \nL 68.740522 229.126503 \nL 66.001541 229.960205 \nL 63.26256 230.759595 \nL 60.52358 231.558985 \nz\n\" clip-path=\"url(#p7f1dbb0542)\" style=\"fill: #8dd3c7; fill-opacity: 0.15\"/>\n   </g>\n   <g id=\"matplotlib.axis_1\">\n    <g id=\"xtick_1\">\n     <g id=\"line2d_1\">\n      <defs>\n       <path id=\"m6720c6fd6f\" d=\"M 0 0 \nL 0 3.5 \n\" style=\"stroke: #ffffff; stroke-width: 0.8\"/>\n      </defs>\n      <g>\n       <use xlink:href=\"#m6720c6fd6f\" x=\"60.52358\" y=\"314.6\" style=\"fill: #ffffff; stroke: #ffffff; stroke-width: 0.8\"/>\n      </g>\n     </g>\n     <g id=\"text_1\">\n      <!-- 0 -->\n      <g style=\"fill: #ffffff\" transform=\"translate(57.34233 329.198437)scale(0.1 -0.1)\">\n       <defs>\n        <path id=\"DejaVuSans-30\" d=\"M 2034 4250 \nQ 1547 4250 1301 3770 \nQ 1056 3291 1056 2328 \nQ 1056 1369 1301 889 \nQ 1547 409 2034 409 \nQ 2525 409 2770 889 \nQ 3016 1369 3016 2328 \nQ 3016 3291 2770 3770 \nQ 2525 4250 2034 4250 \nz\nM 2034 4750 \nQ 2819 4750 3233 4129 \nQ 3647 3509 3647 2328 \nQ 3647 1150 3233 529 \nQ 2819 -91 2034 -91 \nQ 1250 -91 836 529 \nQ 422 1150 422 2328 \nQ 422 3509 836 4129 \nQ 1250 4750 2034 4750 \nz\n\" transform=\"scale(0.015625)\"/>\n       </defs>\n       <use xlink:href=\"#DejaVuSans-30\"/>\n      </g>\n     </g>\n    </g>\n    <g id=\"xtick_2\">\n     <g id=\"line2d_2\">\n      <g>\n       <use xlink:href=\"#m6720c6fd6f\" x=\"120.781155\" y=\"314.6\" style=\"fill: #ffffff; stroke: #ffffff; stroke-width: 0.8\"/>\n      </g>\n     </g>\n     <g id=\"text_2\">\n      <!-- 2 -->\n      <g style=\"fill: #ffffff\" transform=\"translate(117.599905 329.198437)scale(0.1 -0.1)\">\n       <defs>\n        <path id=\"DejaVuSans-32\" d=\"M 1228 531 \nL 3431 531 \nL 3431 0 \nL 469 0 \nL 469 531 \nQ 828 903 1448 1529 \nQ 2069 2156 2228 2338 \nQ 2531 2678 2651 2914 \nQ 2772 3150 2772 3378 \nQ 2772 3750 2511 3984 \nQ 2250 4219 1831 4219 \nQ 1534 4219 1204 4116 \nQ 875 4013 500 3803 \nL 500 4441 \nQ 881 4594 1212 4672 \nQ 1544 4750 1819 4750 \nQ 2544 4750 2975 4387 \nQ 3406 4025 3406 3419 \nQ 3406 3131 3298 2873 \nQ 3191 2616 2906 2266 \nQ 2828 2175 2409 1742 \nQ 1991 1309 1228 531 \nz\n\" transform=\"scale(0.015625)\"/>\n       </defs>\n       <use xlink:href=\"#DejaVuSans-32\"/>\n      </g>\n     </g>\n    </g>\n    <g id=\"xtick_3\">\n     <g id=\"line2d_3\">\n      <g>\n       <use xlink:href=\"#m6720c6fd6f\" x=\"181.038731\" y=\"314.6\" style=\"fill: #ffffff; stroke: #ffffff; stroke-width: 0.8\"/>\n      </g>\n     </g>\n     <g id=\"text_3\">\n      <!-- 4 -->\n      <g style=\"fill: #ffffff\" transform=\"translate(177.857481 329.198437)scale(0.1 -0.1)\">\n       <defs>\n        <path id=\"DejaVuSans-34\" d=\"M 2419 4116 \nL 825 1625 \nL 2419 1625 \nL 2419 4116 \nz\nM 2253 4666 \nL 3047 4666 \nL 3047 1625 \nL 3713 1625 \nL 3713 1100 \nL 3047 1100 \nL 3047 0 \nL 2419 0 \nL 2419 1100 \nL 313 1100 \nL 313 1709 \nL 2253 4666 \nz\n\" transform=\"scale(0.015625)\"/>\n       </defs>\n       <use xlink:href=\"#DejaVuSans-34\"/>\n      </g>\n     </g>\n    </g>\n    <g id=\"xtick_4\">\n     <g id=\"line2d_4\">\n      <g>\n       <use xlink:href=\"#m6720c6fd6f\" x=\"241.296307\" y=\"314.6\" style=\"fill: #ffffff; stroke: #ffffff; stroke-width: 0.8\"/>\n      </g>\n     </g>\n     <g id=\"text_4\">\n      <!-- 6 -->\n      <g style=\"fill: #ffffff\" transform=\"translate(238.115057 329.198437)scale(0.1 -0.1)\">\n       <defs>\n        <path id=\"DejaVuSans-36\" d=\"M 2113 2584 \nQ 1688 2584 1439 2293 \nQ 1191 2003 1191 1497 \nQ 1191 994 1439 701 \nQ 1688 409 2113 409 \nQ 2538 409 2786 701 \nQ 3034 994 3034 1497 \nQ 3034 2003 2786 2293 \nQ 2538 2584 2113 2584 \nz\nM 3366 4563 \nL 3366 3988 \nQ 3128 4100 2886 4159 \nQ 2644 4219 2406 4219 \nQ 1781 4219 1451 3797 \nQ 1122 3375 1075 2522 \nQ 1259 2794 1537 2939 \nQ 1816 3084 2150 3084 \nQ 2853 3084 3261 2657 \nQ 3669 2231 3669 1497 \nQ 3669 778 3244 343 \nQ 2819 -91 2113 -91 \nQ 1303 -91 875 529 \nQ 447 1150 447 2328 \nQ 447 3434 972 4092 \nQ 1497 4750 2381 4750 \nQ 2619 4750 2861 4703 \nQ 3103 4656 3366 4563 \nz\n\" transform=\"scale(0.015625)\"/>\n       </defs>\n       <use xlink:href=\"#DejaVuSans-36\"/>\n      </g>\n     </g>\n    </g>\n    <g id=\"xtick_5\">\n     <g id=\"line2d_5\">\n      <g>\n       <use xlink:href=\"#m6720c6fd6f\" x=\"301.553883\" y=\"314.6\" style=\"fill: #ffffff; stroke: #ffffff; stroke-width: 0.8\"/>\n      </g>\n     </g>\n     <g id=\"text_5\">\n      <!-- 8 -->\n      <g style=\"fill: #ffffff\" transform=\"translate(298.372633 329.198437)scale(0.1 -0.1)\">\n       <defs>\n        <path id=\"DejaVuSans-38\" d=\"M 2034 2216 \nQ 1584 2216 1326 1975 \nQ 1069 1734 1069 1313 \nQ 1069 891 1326 650 \nQ 1584 409 2034 409 \nQ 2484 409 2743 651 \nQ 3003 894 3003 1313 \nQ 3003 1734 2745 1975 \nQ 2488 2216 2034 2216 \nz\nM 1403 2484 \nQ 997 2584 770 2862 \nQ 544 3141 544 3541 \nQ 544 4100 942 4425 \nQ 1341 4750 2034 4750 \nQ 2731 4750 3128 4425 \nQ 3525 4100 3525 3541 \nQ 3525 3141 3298 2862 \nQ 3072 2584 2669 2484 \nQ 3125 2378 3379 2068 \nQ 3634 1759 3634 1313 \nQ 3634 634 3220 271 \nQ 2806 -91 2034 -91 \nQ 1263 -91 848 271 \nQ 434 634 434 1313 \nQ 434 1759 690 2068 \nQ 947 2378 1403 2484 \nz\nM 1172 3481 \nQ 1172 3119 1398 2916 \nQ 1625 2713 2034 2713 \nQ 2441 2713 2670 2916 \nQ 2900 3119 2900 3481 \nQ 2900 3844 2670 4047 \nQ 2441 4250 2034 4250 \nQ 1625 4250 1398 4047 \nQ 1172 3844 1172 3481 \nz\n\" transform=\"scale(0.015625)\"/>\n       </defs>\n       <use xlink:href=\"#DejaVuSans-38\"/>\n      </g>\n     </g>\n    </g>\n    <g id=\"text_6\">\n     <!-- Days -->\n     <g style=\"fill: #ffffff\" transform=\"translate(183.625 342.876562)scale(0.1 -0.1)\">\n      <defs>\n       <path id=\"DejaVuSans-44\" d=\"M 1259 4147 \nL 1259 519 \nL 2022 519 \nQ 2988 519 3436 956 \nQ 3884 1394 3884 2338 \nQ 3884 3275 3436 3711 \nQ 2988 4147 2022 4147 \nL 1259 4147 \nz\nM 628 4666 \nL 1925 4666 \nQ 3281 4666 3915 4102 \nQ 4550 3538 4550 2338 \nQ 4550 1131 3912 565 \nQ 3275 0 1925 0 \nL 628 0 \nL 628 4666 \nz\n\" transform=\"scale(0.015625)\"/>\n       <path id=\"DejaVuSans-61\" d=\"M 2194 1759 \nQ 1497 1759 1228 1600 \nQ 959 1441 959 1056 \nQ 959 750 1161 570 \nQ 1363 391 1709 391 \nQ 2188 391 2477 730 \nQ 2766 1069 2766 1631 \nL 2766 1759 \nL 2194 1759 \nz\nM 3341 1997 \nL 3341 0 \nL 2766 0 \nL 2766 531 \nQ 2569 213 2275 61 \nQ 1981 -91 1556 -91 \nQ 1019 -91 701 211 \nQ 384 513 384 1019 \nQ 384 1609 779 1909 \nQ 1175 2209 1959 2209 \nL 2766 2209 \nL 2766 2266 \nQ 2766 2663 2505 2880 \nQ 2244 3097 1772 3097 \nQ 1472 3097 1187 3025 \nQ 903 2953 641 2809 \nL 641 3341 \nQ 956 3463 1253 3523 \nQ 1550 3584 1831 3584 \nQ 2591 3584 2966 3190 \nQ 3341 2797 3341 1997 \nz\n\" transform=\"scale(0.015625)\"/>\n       <path id=\"DejaVuSans-79\" d=\"M 2059 -325 \nQ 1816 -950 1584 -1140 \nQ 1353 -1331 966 -1331 \nL 506 -1331 \nL 506 -850 \nL 844 -850 \nQ 1081 -850 1212 -737 \nQ 1344 -625 1503 -206 \nL 1606 56 \nL 191 3500 \nL 800 3500 \nL 1894 763 \nL 2988 3500 \nL 3597 3500 \nL 2059 -325 \nz\n\" transform=\"scale(0.015625)\"/>\n       <path id=\"DejaVuSans-73\" d=\"M 2834 3397 \nL 2834 2853 \nQ 2591 2978 2328 3040 \nQ 2066 3103 1784 3103 \nQ 1356 3103 1142 2972 \nQ 928 2841 928 2578 \nQ 928 2378 1081 2264 \nQ 1234 2150 1697 2047 \nL 1894 2003 \nQ 2506 1872 2764 1633 \nQ 3022 1394 3022 966 \nQ 3022 478 2636 193 \nQ 2250 -91 1575 -91 \nQ 1294 -91 989 -36 \nQ 684 19 347 128 \nL 347 722 \nQ 666 556 975 473 \nQ 1284 391 1588 391 \nQ 1994 391 2212 530 \nQ 2431 669 2431 922 \nQ 2431 1156 2273 1281 \nQ 2116 1406 1581 1522 \nL 1381 1569 \nQ 847 1681 609 1914 \nQ 372 2147 372 2553 \nQ 372 3047 722 3315 \nQ 1072 3584 1716 3584 \nQ 2034 3584 2315 3537 \nQ 2597 3491 2834 3397 \nz\n\" transform=\"scale(0.015625)\"/>\n      </defs>\n      <use xlink:href=\"#DejaVuSans-44\"/>\n      <use xlink:href=\"#DejaVuSans-61\" x=\"77.001953\"/>\n      <use xlink:href=\"#DejaVuSans-79\" x=\"138.28125\"/>\n      <use xlink:href=\"#DejaVuSans-73\" x=\"197.460938\"/>\n     </g>\n    </g>\n   </g>\n   <g id=\"matplotlib.axis_2\">\n    <g id=\"ytick_1\">\n     <g id=\"line2d_6\">\n      <defs>\n       <path id=\"m9988925bd4\" d=\"M 0 0 \nL -3.5 0 \n\" style=\"stroke: #ffffff; stroke-width: 0.8\"/>\n      </defs>\n      <g>\n       <use xlink:href=\"#m9988925bd4\" x=\"46.965625\" y=\"294.804595\" style=\"fill: #ffffff; stroke: #ffffff; stroke-width: 0.8\"/>\n      </g>\n     </g>\n     <g id=\"text_7\">\n      <!-- 200 -->\n      <g style=\"fill: #ffffff\" transform=\"translate(20.878125 298.603813)scale(0.1 -0.1)\">\n       <use xlink:href=\"#DejaVuSans-32\"/>\n       <use xlink:href=\"#DejaVuSans-30\" x=\"63.623047\"/>\n       <use xlink:href=\"#DejaVuSans-30\" x=\"127.246094\"/>\n      </g>\n     </g>\n    </g>\n    <g id=\"ytick_2\">\n     <g id=\"line2d_7\">\n      <g>\n       <use xlink:href=\"#m9988925bd4\" x=\"46.965625\" y=\"243.438296\" style=\"fill: #ffffff; stroke: #ffffff; stroke-width: 0.8\"/>\n      </g>\n     </g>\n     <g id=\"text_8\">\n      <!-- 250 -->\n      <g style=\"fill: #ffffff\" transform=\"translate(20.878125 247.237515)scale(0.1 -0.1)\">\n       <defs>\n        <path id=\"DejaVuSans-35\" d=\"M 691 4666 \nL 3169 4666 \nL 3169 4134 \nL 1269 4134 \nL 1269 2991 \nQ 1406 3038 1543 3061 \nQ 1681 3084 1819 3084 \nQ 2600 3084 3056 2656 \nQ 3513 2228 3513 1497 \nQ 3513 744 3044 326 \nQ 2575 -91 1722 -91 \nQ 1428 -91 1123 -41 \nQ 819 9 494 109 \nL 494 744 \nQ 775 591 1075 516 \nQ 1375 441 1709 441 \nQ 2250 441 2565 725 \nQ 2881 1009 2881 1497 \nQ 2881 1984 2565 2268 \nQ 2250 2553 1709 2553 \nQ 1456 2553 1204 2497 \nQ 953 2441 691 2322 \nL 691 4666 \nz\n\" transform=\"scale(0.015625)\"/>\n       </defs>\n       <use xlink:href=\"#DejaVuSans-32\"/>\n       <use xlink:href=\"#DejaVuSans-35\" x=\"63.623047\"/>\n       <use xlink:href=\"#DejaVuSans-30\" x=\"127.246094\"/>\n      </g>\n     </g>\n    </g>\n    <g id=\"ytick_3\">\n     <g id=\"line2d_8\">\n      <g>\n       <use xlink:href=\"#m9988925bd4\" x=\"46.965625\" y=\"192.071998\" style=\"fill: #ffffff; stroke: #ffffff; stroke-width: 0.8\"/>\n      </g>\n     </g>\n     <g id=\"text_9\">\n      <!-- 300 -->\n      <g style=\"fill: #ffffff\" transform=\"translate(20.878125 195.871217)scale(0.1 -0.1)\">\n       <defs>\n        <path id=\"DejaVuSans-33\" d=\"M 2597 2516 \nQ 3050 2419 3304 2112 \nQ 3559 1806 3559 1356 \nQ 3559 666 3084 287 \nQ 2609 -91 1734 -91 \nQ 1441 -91 1130 -33 \nQ 819 25 488 141 \nL 488 750 \nQ 750 597 1062 519 \nQ 1375 441 1716 441 \nQ 2309 441 2620 675 \nQ 2931 909 2931 1356 \nQ 2931 1769 2642 2001 \nQ 2353 2234 1838 2234 \nL 1294 2234 \nL 1294 2753 \nL 1863 2753 \nQ 2328 2753 2575 2939 \nQ 2822 3125 2822 3475 \nQ 2822 3834 2567 4026 \nQ 2313 4219 1838 4219 \nQ 1578 4219 1281 4162 \nQ 984 4106 628 3988 \nL 628 4550 \nQ 988 4650 1302 4700 \nQ 1616 4750 1894 4750 \nQ 2613 4750 3031 4423 \nQ 3450 4097 3450 3541 \nQ 3450 3153 3228 2886 \nQ 3006 2619 2597 2516 \nz\n\" transform=\"scale(0.015625)\"/>\n       </defs>\n       <use xlink:href=\"#DejaVuSans-33\"/>\n       <use xlink:href=\"#DejaVuSans-30\" x=\"63.623047\"/>\n       <use xlink:href=\"#DejaVuSans-30\" x=\"127.246094\"/>\n      </g>\n     </g>\n    </g>\n    <g id=\"ytick_4\">\n     <g id=\"line2d_9\">\n      <g>\n       <use xlink:href=\"#m9988925bd4\" x=\"46.965625\" y=\"140.705699\" style=\"fill: #ffffff; stroke: #ffffff; stroke-width: 0.8\"/>\n      </g>\n     </g>\n     <g id=\"text_10\">\n      <!-- 350 -->\n      <g style=\"fill: #ffffff\" transform=\"translate(20.878125 144.504918)scale(0.1 -0.1)\">\n       <use xlink:href=\"#DejaVuSans-33\"/>\n       <use xlink:href=\"#DejaVuSans-35\" x=\"63.623047\"/>\n       <use xlink:href=\"#DejaVuSans-30\" x=\"127.246094\"/>\n      </g>\n     </g>\n    </g>\n    <g id=\"ytick_5\">\n     <g id=\"line2d_10\">\n      <g>\n       <use xlink:href=\"#m9988925bd4\" x=\"46.965625\" y=\"89.339401\" style=\"fill: #ffffff; stroke: #ffffff; stroke-width: 0.8\"/>\n      </g>\n     </g>\n     <g id=\"text_11\">\n      <!-- 400 -->\n      <g style=\"fill: #ffffff\" transform=\"translate(20.878125 93.13862)scale(0.1 -0.1)\">\n       <use xlink:href=\"#DejaVuSans-34\"/>\n       <use xlink:href=\"#DejaVuSans-30\" x=\"63.623047\"/>\n       <use xlink:href=\"#DejaVuSans-30\" x=\"127.246094\"/>\n      </g>\n     </g>\n    </g>\n    <g id=\"ytick_6\">\n     <g id=\"line2d_11\">\n      <g>\n       <use xlink:href=\"#m9988925bd4\" x=\"46.965625\" y=\"37.973102\" style=\"fill: #ffffff; stroke: #ffffff; stroke-width: 0.8\"/>\n      </g>\n     </g>\n     <g id=\"text_12\">\n      <!-- 450 -->\n      <g style=\"fill: #ffffff\" transform=\"translate(20.878125 41.772321)scale(0.1 -0.1)\">\n       <use xlink:href=\"#DejaVuSans-34\"/>\n       <use xlink:href=\"#DejaVuSans-35\" x=\"63.623047\"/>\n       <use xlink:href=\"#DejaVuSans-30\" x=\"127.246094\"/>\n      </g>\n     </g>\n    </g>\n    <g id=\"text_13\">\n     <!-- Reaction -->\n     <g style=\"fill: #ffffff\" transform=\"translate(14.798437 182.616406)rotate(-90)scale(0.1 -0.1)\">\n      <defs>\n       <path id=\"DejaVuSans-52\" d=\"M 2841 2188 \nQ 3044 2119 3236 1894 \nQ 3428 1669 3622 1275 \nL 4263 0 \nL 3584 0 \nL 2988 1197 \nQ 2756 1666 2539 1819 \nQ 2322 1972 1947 1972 \nL 1259 1972 \nL 1259 0 \nL 628 0 \nL 628 4666 \nL 2053 4666 \nQ 2853 4666 3247 4331 \nQ 3641 3997 3641 3322 \nQ 3641 2881 3436 2590 \nQ 3231 2300 2841 2188 \nz\nM 1259 4147 \nL 1259 2491 \nL 2053 2491 \nQ 2509 2491 2742 2702 \nQ 2975 2913 2975 3322 \nQ 2975 3731 2742 3939 \nQ 2509 4147 2053 4147 \nL 1259 4147 \nz\n\" transform=\"scale(0.015625)\"/>\n       <path id=\"DejaVuSans-65\" d=\"M 3597 1894 \nL 3597 1613 \nL 953 1613 \nQ 991 1019 1311 708 \nQ 1631 397 2203 397 \nQ 2534 397 2845 478 \nQ 3156 559 3463 722 \nL 3463 178 \nQ 3153 47 2828 -22 \nQ 2503 -91 2169 -91 \nQ 1331 -91 842 396 \nQ 353 884 353 1716 \nQ 353 2575 817 3079 \nQ 1281 3584 2069 3584 \nQ 2775 3584 3186 3129 \nQ 3597 2675 3597 1894 \nz\nM 3022 2063 \nQ 3016 2534 2758 2815 \nQ 2500 3097 2075 3097 \nQ 1594 3097 1305 2825 \nQ 1016 2553 972 2059 \nL 3022 2063 \nz\n\" transform=\"scale(0.015625)\"/>\n       <path id=\"DejaVuSans-63\" d=\"M 3122 3366 \nL 3122 2828 \nQ 2878 2963 2633 3030 \nQ 2388 3097 2138 3097 \nQ 1578 3097 1268 2742 \nQ 959 2388 959 1747 \nQ 959 1106 1268 751 \nQ 1578 397 2138 397 \nQ 2388 397 2633 464 \nQ 2878 531 3122 666 \nL 3122 134 \nQ 2881 22 2623 -34 \nQ 2366 -91 2075 -91 \nQ 1284 -91 818 406 \nQ 353 903 353 1747 \nQ 353 2603 823 3093 \nQ 1294 3584 2113 3584 \nQ 2378 3584 2631 3529 \nQ 2884 3475 3122 3366 \nz\n\" transform=\"scale(0.015625)\"/>\n       <path id=\"DejaVuSans-74\" d=\"M 1172 4494 \nL 1172 3500 \nL 2356 3500 \nL 2356 3053 \nL 1172 3053 \nL 1172 1153 \nQ 1172 725 1289 603 \nQ 1406 481 1766 481 \nL 2356 481 \nL 2356 0 \nL 1766 0 \nQ 1100 0 847 248 \nQ 594 497 594 1153 \nL 594 3053 \nL 172 3053 \nL 172 3500 \nL 594 3500 \nL 594 4494 \nL 1172 4494 \nz\n\" transform=\"scale(0.015625)\"/>\n       <path id=\"DejaVuSans-69\" d=\"M 603 3500 \nL 1178 3500 \nL 1178 0 \nL 603 0 \nL 603 3500 \nz\nM 603 4863 \nL 1178 4863 \nL 1178 4134 \nL 603 4134 \nL 603 4863 \nz\n\" transform=\"scale(0.015625)\"/>\n       <path id=\"DejaVuSans-6f\" d=\"M 1959 3097 \nQ 1497 3097 1228 2736 \nQ 959 2375 959 1747 \nQ 959 1119 1226 758 \nQ 1494 397 1959 397 \nQ 2419 397 2687 759 \nQ 2956 1122 2956 1747 \nQ 2956 2369 2687 2733 \nQ 2419 3097 1959 3097 \nz\nM 1959 3584 \nQ 2709 3584 3137 3096 \nQ 3566 2609 3566 1747 \nQ 3566 888 3137 398 \nQ 2709 -91 1959 -91 \nQ 1206 -91 779 398 \nQ 353 888 353 1747 \nQ 353 2609 779 3096 \nQ 1206 3584 1959 3584 \nz\n\" transform=\"scale(0.015625)\"/>\n       <path id=\"DejaVuSans-6e\" d=\"M 3513 2113 \nL 3513 0 \nL 2938 0 \nL 2938 2094 \nQ 2938 2591 2744 2837 \nQ 2550 3084 2163 3084 \nQ 1697 3084 1428 2787 \nQ 1159 2491 1159 1978 \nL 1159 0 \nL 581 0 \nL 581 3500 \nL 1159 3500 \nL 1159 2956 \nQ 1366 3272 1645 3428 \nQ 1925 3584 2291 3584 \nQ 2894 3584 3203 3211 \nQ 3513 2838 3513 2113 \nz\n\" transform=\"scale(0.015625)\"/>\n      </defs>\n      <use xlink:href=\"#DejaVuSans-52\"/>\n      <use xlink:href=\"#DejaVuSans-65\" x=\"64.982422\"/>\n      <use xlink:href=\"#DejaVuSans-61\" x=\"126.505859\"/>\n      <use xlink:href=\"#DejaVuSans-63\" x=\"187.785156\"/>\n      <use xlink:href=\"#DejaVuSans-74\" x=\"242.765625\"/>\n      <use xlink:href=\"#DejaVuSans-69\" x=\"281.974609\"/>\n      <use xlink:href=\"#DejaVuSans-6f\" x=\"309.757812\"/>\n      <use xlink:href=\"#DejaVuSans-6e\" x=\"370.939453\"/>\n     </g>\n    </g>\n   </g>\n   <g id=\"line2d_12\">\n    <path d=\"M 60.52358 241.994795 \nL 63.26256 241.017221 \nL 66.001541 240.039647 \nL 68.740522 239.062073 \nL 71.479502 238.084499 \nL 74.218483 237.106925 \nL 76.957464 236.129351 \nL 79.696445 235.151777 \nL 82.435425 234.174203 \nL 85.174406 233.196629 \nL 87.913387 232.219055 \nL 90.652367 231.241481 \nL 93.391348 230.263907 \nL 96.130329 229.286333 \nL 98.86931 228.308759 \nL 101.60829 227.331185 \nL 104.347271 226.35361 \nL 107.086252 225.376036 \nL 109.825232 224.398462 \nL 112.564213 223.420888 \nL 115.303194 222.443314 \nL 118.042175 221.46574 \nL 120.781155 220.488166 \nL 123.520136 219.510592 \nL 126.259117 218.533018 \nL 128.998097 217.555444 \nL 131.737078 216.57787 \nL 134.476059 215.600296 \nL 137.21504 214.622722 \nL 139.95402 213.645148 \nL 142.693001 212.667574 \nL 145.431982 211.69 \nL 148.170962 210.712425 \nL 150.909943 209.734851 \nL 153.648924 208.757277 \nL 156.387905 207.779703 \nL 159.126885 206.802129 \nL 161.865866 205.824555 \nL 164.604847 204.846981 \nL 167.343827 203.869407 \nL 170.082808 202.891833 \nL 172.821789 201.914259 \nL 175.56077 200.936685 \nL 178.29975 199.959111 \nL 181.038731 198.981537 \nL 183.777712 198.003963 \nL 186.516692 197.026389 \nL 189.255673 196.048815 \nL 191.994654 195.07124 \nL 194.733635 194.093666 \nL 197.472615 193.116092 \nL 200.211596 192.138518 \nL 202.950577 191.160944 \nL 205.689558 190.18337 \nL 208.428538 189.205796 \nL 211.167519 188.228222 \nL 213.9065 187.250648 \nL 216.64548 186.273074 \nL 219.384461 185.2955 \nL 222.123442 184.317926 \nL 224.862423 183.340352 \nL 227.601403 182.362778 \nL 230.340384 181.385204 \nL 233.079365 180.40763 \nL 235.818345 179.430055 \nL 238.557326 178.452481 \nL 241.296307 177.474907 \nL 244.035288 176.497333 \nL 246.774268 175.519759 \nL 249.513249 174.542185 \nL 252.25223 173.564611 \nL 254.99121 172.587037 \nL 257.730191 171.609463 \nL 260.469172 170.631889 \nL 263.208153 169.654315 \nL 265.947133 168.676741 \nL 268.686114 167.699167 \nL 271.425095 166.721593 \nL 274.164075 165.744019 \nL 276.903056 164.766445 \nL 279.642037 163.78887 \nL 282.381018 162.811296 \nL 285.119998 161.833722 \nL 287.858979 160.856148 \nL 290.59796 159.878574 \nL 293.33694 158.901 \nL 296.075921 157.923426 \nL 298.814902 156.945852 \nL 301.553883 155.968278 \nL 304.292863 154.990704 \nL 307.031844 154.01313 \nL 309.770825 153.035556 \nL 312.509805 152.057982 \nL 315.248786 151.080408 \nL 317.987767 150.102834 \nL 320.726748 149.12526 \nL 323.465728 148.147686 \nL 326.204709 147.170111 \nL 328.94369 146.192537 \nL 331.68267 145.214963 \n\" clip-path=\"url(#p7f1dbb0542)\" style=\"fill: none; stroke: #8dd3c7; stroke-width: 2.25; stroke-linecap: square\"/>\n   </g>\n   <g id=\"patch_3\">\n    <path d=\"M 46.965625 314.6 \nL 46.965625 7.2 \n\" style=\"fill: none; stroke: #ffffff; stroke-width: 0.8; stroke-linejoin: miter; stroke-linecap: square\"/>\n   </g>\n   <g id=\"patch_4\">\n    <path d=\"M 46.965625 314.6 \nL 345.240625 314.6 \n\" style=\"fill: none; stroke: #ffffff; stroke-width: 0.8; stroke-linejoin: miter; stroke-linecap: square\"/>\n   </g>\n  </g>\n </g>\n <defs>\n  <clipPath id=\"p7f1dbb0542\">\n   <rect x=\"46.965625\" y=\"7.2\" width=\"298.275\" height=\"307.4\"/>\n  </clipPath>\n </defs>\n</svg>\n",
      "text/plain": [
       "<Figure size 360x360 with 1 Axes>"
      ]
     },
     "metadata": {},
     "output_type": "display_data"
    },
    {
     "data": {
      "text/html": [
       "<div>\n",
       "<style scoped>\n",
       "    .dataframe tbody tr th:only-of-type {\n",
       "        vertical-align: middle;\n",
       "    }\n",
       "\n",
       "    .dataframe tbody tr th {\n",
       "        vertical-align: top;\n",
       "    }\n",
       "\n",
       "    .dataframe thead th {\n",
       "        text-align: right;\n",
       "    }\n",
       "</style>\n",
       "<table border=\"1\" class=\"dataframe\">\n",
       "  <thead>\n",
       "    <tr style=\"text-align: right;\">\n",
       "      <th></th>\n",
       "      <th>Reaction</th>\n",
       "      <th>Days</th>\n",
       "      <th>Subject</th>\n",
       "    </tr>\n",
       "  </thead>\n",
       "  <tbody>\n",
       "    <tr>\n",
       "      <th>1</th>\n",
       "      <td>249.5600</td>\n",
       "      <td>0</td>\n",
       "      <td>308</td>\n",
       "    </tr>\n",
       "    <tr>\n",
       "      <th>2</th>\n",
       "      <td>258.7047</td>\n",
       "      <td>1</td>\n",
       "      <td>308</td>\n",
       "    </tr>\n",
       "    <tr>\n",
       "      <th>3</th>\n",
       "      <td>250.8006</td>\n",
       "      <td>2</td>\n",
       "      <td>308</td>\n",
       "    </tr>\n",
       "    <tr>\n",
       "      <th>4</th>\n",
       "      <td>321.4398</td>\n",
       "      <td>3</td>\n",
       "      <td>308</td>\n",
       "    </tr>\n",
       "    <tr>\n",
       "      <th>5</th>\n",
       "      <td>356.8519</td>\n",
       "      <td>4</td>\n",
       "      <td>308</td>\n",
       "    </tr>\n",
       "  </tbody>\n",
       "</table>\n",
       "</div>"
      ],
      "text/plain": [
       "   Reaction  Days  Subject\n",
       "1  249.5600     0      308\n",
       "2  258.7047     1      308\n",
       "3  250.8006     2      308\n",
       "4  321.4398     3      308\n",
       "5  356.8519     4      308"
      ]
     },
     "metadata": {},
     "output_type": "display_data"
    },
    {
     "data": {
      "text/plain": [
       "None"
      ]
     },
     "metadata": {},
     "output_type": "display_data"
    },
    {
     "data": {
      "text/html": [
       "<div>\n",
       "<style scoped>\n",
       "    .dataframe tbody tr th:only-of-type {\n",
       "        vertical-align: middle;\n",
       "    }\n",
       "\n",
       "    .dataframe tbody tr th {\n",
       "        vertical-align: top;\n",
       "    }\n",
       "\n",
       "    .dataframe thead th {\n",
       "        text-align: right;\n",
       "    }\n",
       "</style>\n",
       "<table border=\"1\" class=\"dataframe\">\n",
       "  <thead>\n",
       "    <tr style=\"text-align: right;\">\n",
       "      <th></th>\n",
       "      <th>Reaction</th>\n",
       "      <th>Days</th>\n",
       "      <th>Subject</th>\n",
       "    </tr>\n",
       "  </thead>\n",
       "  <tbody>\n",
       "    <tr>\n",
       "      <th>count</th>\n",
       "      <td>180.000000</td>\n",
       "      <td>180.000000</td>\n",
       "      <td>180.000000</td>\n",
       "    </tr>\n",
       "    <tr>\n",
       "      <th>mean</th>\n",
       "      <td>298.507892</td>\n",
       "      <td>4.500000</td>\n",
       "      <td>341.277778</td>\n",
       "    </tr>\n",
       "    <tr>\n",
       "      <th>std</th>\n",
       "      <td>56.328757</td>\n",
       "      <td>2.880293</td>\n",
       "      <td>20.320905</td>\n",
       "    </tr>\n",
       "    <tr>\n",
       "      <th>min</th>\n",
       "      <td>194.332200</td>\n",
       "      <td>0.000000</td>\n",
       "      <td>308.000000</td>\n",
       "    </tr>\n",
       "    <tr>\n",
       "      <th>25%</th>\n",
       "      <td>255.375825</td>\n",
       "      <td>2.000000</td>\n",
       "      <td>331.000000</td>\n",
       "    </tr>\n",
       "    <tr>\n",
       "      <th>50%</th>\n",
       "      <td>288.650800</td>\n",
       "      <td>4.500000</td>\n",
       "      <td>336.000000</td>\n",
       "    </tr>\n",
       "    <tr>\n",
       "      <th>75%</th>\n",
       "      <td>336.752075</td>\n",
       "      <td>7.000000</td>\n",
       "      <td>352.000000</td>\n",
       "    </tr>\n",
       "    <tr>\n",
       "      <th>max</th>\n",
       "      <td>466.353500</td>\n",
       "      <td>9.000000</td>\n",
       "      <td>372.000000</td>\n",
       "    </tr>\n",
       "  </tbody>\n",
       "</table>\n",
       "</div>"
      ],
      "text/plain": [
       "         Reaction        Days     Subject\n",
       "count  180.000000  180.000000  180.000000\n",
       "mean   298.507892    4.500000  341.277778\n",
       "std     56.328757    2.880293   20.320905\n",
       "min    194.332200    0.000000  308.000000\n",
       "25%    255.375825    2.000000  331.000000\n",
       "50%    288.650800    4.500000  336.000000\n",
       "75%    336.752075    7.000000  352.000000\n",
       "max    466.353500    9.000000  372.000000"
      ]
     },
     "metadata": {},
     "output_type": "display_data"
    },
    {
     "data": {
      "text/plain": [
       "0    18\n",
       "1    18\n",
       "2    18\n",
       "3    18\n",
       "4    18\n",
       "5    18\n",
       "6    18\n",
       "7    18\n",
       "8    18\n",
       "9    18\n",
       "Name: Days, dtype: int64"
      ]
     },
     "metadata": {},
     "output_type": "display_data"
    },
    {
     "data": {
      "text/plain": [
       "249.5600    1\n",
       "255.5271    1\n",
       "329.7247    1\n",
       "379.4445    1\n",
       "362.9184    1\n",
       "           ..\n",
       "289.5550    1\n",
       "276.7693    1\n",
       "299.8097    1\n",
       "297.1710    1\n",
       "364.1236    1\n",
       "Name: Reaction, Length: 180, dtype: int64"
      ]
     },
     "metadata": {},
     "output_type": "display_data"
    },
    {
     "data": {
      "text/plain": [
       "<seaborn.axisgrid.FacetGrid at 0x2a39be580>"
      ]
     },
     "metadata": {},
     "output_type": "display_data"
    },
    {
     "data": {
      "text/plain": [
       "None"
      ]
     },
     "metadata": {},
     "output_type": "display_data"
    },
    {
     "data": {
      "image/png": "[encoded data removed]",
      "text/latex": [
       "\\begin{equation*}0.535230226265025\\end{equation*}"
      ],
      "text/plain": [
       "0.5352302262650255"
      ]
     },
     "metadata": {},
     "output_type": "display_data"
    },
    {
     "data": {
      "image/png": "[encoded data removed]",
      "text/latex": [
       "\\begin{equation*}9.89409632221439 \\cdot 10^{-15}\\end{equation*}"
      ],
      "text/plain": [
       "9.89409632221439e-15"
      ]
     },
     "metadata": {},
     "output_type": "display_data"
    },
    {
     "data": {
      "image/png": "[encoded data removed]",
      "text/latex": [
       "\\begin{equation*}We~can~reject~the~null~hypothesis\\end{equation*}"
      ],
      "text/plain": [
       "We~can~reject~the~null~hypothesis"
      ]
     },
     "metadata": {},
     "output_type": "display_data"
    }
   ],
   "source": [
    "\n",
    "# 3. \n",
    "\n",
    "sleepstudy=pydataset.data('sleepstudy')\n",
    "\n",
    "\n",
    "#calculate r and p\n",
    "r, p = stats.pearsonr(sleepstudy.Days, sleepstudy.Reaction)\n",
    "\n",
    "display(\n",
    "\n",
    "sleepstudy.head(),\n",
    "sleepstudy.info(),\n",
    "sleepstudy.describe(),\n",
    "sleepstudy.Days.value_counts(),\n",
    "sleepstudy.Reaction.value_counts(),\n",
    "sns.lmplot(data=sleepstudy, x='Days', y='Reaction'),\n",
    "plt.show(),\n",
    "r, p,\n",
    "symbols(one_tail_hypthonesis(p,alpha))\n",
    ")"
   ]
  },
  {
   "cell_type": "markdown",
   "metadata": {},
   "source": [
    "Exercises ($\\chi ^2$)\n",
    "\n",
    "Continue working in your hypothesis_testing notebook.\n",
    "\n",
    "1. Use the following contingency table to help answer the question of whether using a macbook and being a codeup student are independent of each other.\n",
    "\n",
    "|\t| Codeup Student|Not Codeup Student|\n",
    "| --- | ---| --- |\n",
    "|Uses a Macbook|\t49\t|20|\n",
    "|Doesn't Use A Macbook|\t1\t|30|\n",
    "\n",
    "2. Choose another 2 categorical variables from the mpg dataset and perform a \n",
    "$\\chi^2$\n",
    "contingency table test with them. Be sure to state your null and alternative hypotheses.\n",
    "\n",
    "3. Use the data from the employees database to answer these questions:\n",
    " - Is an employee's gender independent of whether an employee works in sales or marketing? (only look at current employees)\n",
    " - Is an employee's gender independent of whether or not they are or have been a manager?"
   ]
  },
  {
   "cell_type": "code",
   "execution_count": 139,
   "metadata": {},
   "outputs": [],
   "source": [
    "query = 'describe departments ;'\n",
    "departments_describe = pd.read_sql(query, get_db_url(schema))\n",
    "\n",
    "query = 'select distinct title from titles  limit 100;'\n",
    "titles_title = pd.read_sql(query, get_db_url(schema))\n",
    "titles_title\n",
    "\n",
    "query = 'show tables;'\n",
    "tables = pd.read_sql(query, get_db_url(schema))\n",
    "\n",
    "query = 'describe dept_manager;'\n",
    "dept_manager_describe = pd.read_sql(query, get_db_url(schema))\n"
   ]
  },
  {
   "cell_type": "code",
   "execution_count": 140,
   "metadata": {},
   "outputs": [
    {
     "data": {
      "image/png": "[encoded data removed]",
      "text/latex": [
       "\\begin{equation*}employees~describe\\end{equation*}"
      ],
      "text/plain": [
       "employees~describe"
      ]
     },
     "metadata": {},
     "output_type": "display_data"
    },
    {
     "data": {
      "text/html": [
       "<style type=\"text/css\">\n",
       "#T_5f06f_row0_col0, #T_5f06f_row0_col1, #T_5f06f_row0_col2, #T_5f06f_row0_col3, #T_5f06f_row0_col4, #T_5f06f_row0_col5, #T_5f06f_row1_col0, #T_5f06f_row1_col1, #T_5f06f_row1_col2, #T_5f06f_row1_col3, #T_5f06f_row1_col4, #T_5f06f_row1_col5, #T_5f06f_row2_col0, #T_5f06f_row2_col1, #T_5f06f_row2_col2, #T_5f06f_row2_col3, #T_5f06f_row2_col4, #T_5f06f_row2_col5, #T_5f06f_row3_col0, #T_5f06f_row3_col1, #T_5f06f_row3_col2, #T_5f06f_row3_col3, #T_5f06f_row3_col4, #T_5f06f_row3_col5, #T_5f06f_row4_col0, #T_5f06f_row4_col1, #T_5f06f_row4_col2, #T_5f06f_row4_col3, #T_5f06f_row4_col4, #T_5f06f_row4_col5, #T_5f06f_row5_col0, #T_5f06f_row5_col1, #T_5f06f_row5_col2, #T_5f06f_row5_col3, #T_5f06f_row5_col4, #T_5f06f_row5_col5 {\n",
       "  padding: 15px;\n",
       "  border: 2px solid white;\n",
       "  width: 300px;\n",
       "}\n",
       "</style>\n",
       "<table id=\"T_5f06f\">\n",
       "  <thead>\n",
       "    <tr>\n",
       "      <th class=\"blank level0\" >&nbsp;</th>\n",
       "      <th id=\"T_5f06f_level0_col0\" class=\"col_heading level0 col0\" >Field</th>\n",
       "      <th id=\"T_5f06f_level0_col1\" class=\"col_heading level0 col1\" >Type</th>\n",
       "      <th id=\"T_5f06f_level0_col2\" class=\"col_heading level0 col2\" >Null</th>\n",
       "      <th id=\"T_5f06f_level0_col3\" class=\"col_heading level0 col3\" >Key</th>\n",
       "      <th id=\"T_5f06f_level0_col4\" class=\"col_heading level0 col4\" >Default</th>\n",
       "      <th id=\"T_5f06f_level0_col5\" class=\"col_heading level0 col5\" >Extra</th>\n",
       "    </tr>\n",
       "  </thead>\n",
       "  <tbody>\n",
       "    <tr>\n",
       "      <th id=\"T_5f06f_level0_row0\" class=\"row_heading level0 row0\" >0</th>\n",
       "      <td id=\"T_5f06f_row0_col0\" class=\"data row0 col0\" >emp_no</td>\n",
       "      <td id=\"T_5f06f_row0_col1\" class=\"data row0 col1\" >int</td>\n",
       "      <td id=\"T_5f06f_row0_col2\" class=\"data row0 col2\" >NO</td>\n",
       "      <td id=\"T_5f06f_row0_col3\" class=\"data row0 col3\" >PRI</td>\n",
       "      <td id=\"T_5f06f_row0_col4\" class=\"data row0 col4\" >None</td>\n",
       "      <td id=\"T_5f06f_row0_col5\" class=\"data row0 col5\" ></td>\n",
       "    </tr>\n",
       "    <tr>\n",
       "      <th id=\"T_5f06f_level0_row1\" class=\"row_heading level0 row1\" >1</th>\n",
       "      <td id=\"T_5f06f_row1_col0\" class=\"data row1 col0\" >birth_date</td>\n",
       "      <td id=\"T_5f06f_row1_col1\" class=\"data row1 col1\" >date</td>\n",
       "      <td id=\"T_5f06f_row1_col2\" class=\"data row1 col2\" >NO</td>\n",
       "      <td id=\"T_5f06f_row1_col3\" class=\"data row1 col3\" ></td>\n",
       "      <td id=\"T_5f06f_row1_col4\" class=\"data row1 col4\" >None</td>\n",
       "      <td id=\"T_5f06f_row1_col5\" class=\"data row1 col5\" ></td>\n",
       "    </tr>\n",
       "    <tr>\n",
       "      <th id=\"T_5f06f_level0_row2\" class=\"row_heading level0 row2\" >2</th>\n",
       "      <td id=\"T_5f06f_row2_col0\" class=\"data row2 col0\" >first_name</td>\n",
       "      <td id=\"T_5f06f_row2_col1\" class=\"data row2 col1\" >varchar(14)</td>\n",
       "      <td id=\"T_5f06f_row2_col2\" class=\"data row2 col2\" >NO</td>\n",
       "      <td id=\"T_5f06f_row2_col3\" class=\"data row2 col3\" ></td>\n",
       "      <td id=\"T_5f06f_row2_col4\" class=\"data row2 col4\" >None</td>\n",
       "      <td id=\"T_5f06f_row2_col5\" class=\"data row2 col5\" ></td>\n",
       "    </tr>\n",
       "    <tr>\n",
       "      <th id=\"T_5f06f_level0_row3\" class=\"row_heading level0 row3\" >3</th>\n",
       "      <td id=\"T_5f06f_row3_col0\" class=\"data row3 col0\" >last_name</td>\n",
       "      <td id=\"T_5f06f_row3_col1\" class=\"data row3 col1\" >varchar(16)</td>\n",
       "      <td id=\"T_5f06f_row3_col2\" class=\"data row3 col2\" >NO</td>\n",
       "      <td id=\"T_5f06f_row3_col3\" class=\"data row3 col3\" ></td>\n",
       "      <td id=\"T_5f06f_row3_col4\" class=\"data row3 col4\" >None</td>\n",
       "      <td id=\"T_5f06f_row3_col5\" class=\"data row3 col5\" ></td>\n",
       "    </tr>\n",
       "    <tr>\n",
       "      <th id=\"T_5f06f_level0_row4\" class=\"row_heading level0 row4\" >4</th>\n",
       "      <td id=\"T_5f06f_row4_col0\" class=\"data row4 col0\" >gender</td>\n",
       "      <td id=\"T_5f06f_row4_col1\" class=\"data row4 col1\" >enum('M','F')</td>\n",
       "      <td id=\"T_5f06f_row4_col2\" class=\"data row4 col2\" >NO</td>\n",
       "      <td id=\"T_5f06f_row4_col3\" class=\"data row4 col3\" ></td>\n",
       "      <td id=\"T_5f06f_row4_col4\" class=\"data row4 col4\" >None</td>\n",
       "      <td id=\"T_5f06f_row4_col5\" class=\"data row4 col5\" ></td>\n",
       "    </tr>\n",
       "    <tr>\n",
       "      <th id=\"T_5f06f_level0_row5\" class=\"row_heading level0 row5\" >5</th>\n",
       "      <td id=\"T_5f06f_row5_col0\" class=\"data row5 col0\" >hire_date</td>\n",
       "      <td id=\"T_5f06f_row5_col1\" class=\"data row5 col1\" >date</td>\n",
       "      <td id=\"T_5f06f_row5_col2\" class=\"data row5 col2\" >NO</td>\n",
       "      <td id=\"T_5f06f_row5_col3\" class=\"data row5 col3\" ></td>\n",
       "      <td id=\"T_5f06f_row5_col4\" class=\"data row5 col4\" >None</td>\n",
       "      <td id=\"T_5f06f_row5_col5\" class=\"data row5 col5\" ></td>\n",
       "    </tr>\n",
       "  </tbody>\n",
       "</table>\n"
      ],
      "text/plain": [
       "<pandas.io.formats.style.Styler at 0x293d4f9d0>"
      ]
     },
     "metadata": {},
     "output_type": "display_data"
    },
    {
     "data": {
      "image/png": "[encoded data removed]",
      "text/latex": [
       "\\begin{equation*}titles~describe\\end{equation*}"
      ],
      "text/plain": [
       "titles~describe"
      ]
     },
     "metadata": {},
     "output_type": "display_data"
    },
    {
     "data": {
      "text/html": [
       "<style type=\"text/css\">\n",
       "#T_ff703_row0_col0, #T_ff703_row0_col1, #T_ff703_row0_col2, #T_ff703_row0_col3, #T_ff703_row0_col4, #T_ff703_row0_col5, #T_ff703_row1_col0, #T_ff703_row1_col1, #T_ff703_row1_col2, #T_ff703_row1_col3, #T_ff703_row1_col4, #T_ff703_row1_col5, #T_ff703_row2_col0, #T_ff703_row2_col1, #T_ff703_row2_col2, #T_ff703_row2_col3, #T_ff703_row2_col4, #T_ff703_row2_col5, #T_ff703_row3_col0, #T_ff703_row3_col1, #T_ff703_row3_col2, #T_ff703_row3_col3, #T_ff703_row3_col4, #T_ff703_row3_col5 {\n",
       "  padding: 15px;\n",
       "  border: 2px solid white;\n",
       "  width: 300px;\n",
       "}\n",
       "</style>\n",
       "<table id=\"T_ff703\">\n",
       "  <thead>\n",
       "    <tr>\n",
       "      <th class=\"blank level0\" >&nbsp;</th>\n",
       "      <th id=\"T_ff703_level0_col0\" class=\"col_heading level0 col0\" >Field</th>\n",
       "      <th id=\"T_ff703_level0_col1\" class=\"col_heading level0 col1\" >Type</th>\n",
       "      <th id=\"T_ff703_level0_col2\" class=\"col_heading level0 col2\" >Null</th>\n",
       "      <th id=\"T_ff703_level0_col3\" class=\"col_heading level0 col3\" >Key</th>\n",
       "      <th id=\"T_ff703_level0_col4\" class=\"col_heading level0 col4\" >Default</th>\n",
       "      <th id=\"T_ff703_level0_col5\" class=\"col_heading level0 col5\" >Extra</th>\n",
       "    </tr>\n",
       "  </thead>\n",
       "  <tbody>\n",
       "    <tr>\n",
       "      <th id=\"T_ff703_level0_row0\" class=\"row_heading level0 row0\" >0</th>\n",
       "      <td id=\"T_ff703_row0_col0\" class=\"data row0 col0\" >emp_no</td>\n",
       "      <td id=\"T_ff703_row0_col1\" class=\"data row0 col1\" >int</td>\n",
       "      <td id=\"T_ff703_row0_col2\" class=\"data row0 col2\" >NO</td>\n",
       "      <td id=\"T_ff703_row0_col3\" class=\"data row0 col3\" >PRI</td>\n",
       "      <td id=\"T_ff703_row0_col4\" class=\"data row0 col4\" >None</td>\n",
       "      <td id=\"T_ff703_row0_col5\" class=\"data row0 col5\" ></td>\n",
       "    </tr>\n",
       "    <tr>\n",
       "      <th id=\"T_ff703_level0_row1\" class=\"row_heading level0 row1\" >1</th>\n",
       "      <td id=\"T_ff703_row1_col0\" class=\"data row1 col0\" >title</td>\n",
       "      <td id=\"T_ff703_row1_col1\" class=\"data row1 col1\" >varchar(50)</td>\n",
       "      <td id=\"T_ff703_row1_col2\" class=\"data row1 col2\" >NO</td>\n",
       "      <td id=\"T_ff703_row1_col3\" class=\"data row1 col3\" >PRI</td>\n",
       "      <td id=\"T_ff703_row1_col4\" class=\"data row1 col4\" >None</td>\n",
       "      <td id=\"T_ff703_row1_col5\" class=\"data row1 col5\" ></td>\n",
       "    </tr>\n",
       "    <tr>\n",
       "      <th id=\"T_ff703_level0_row2\" class=\"row_heading level0 row2\" >2</th>\n",
       "      <td id=\"T_ff703_row2_col0\" class=\"data row2 col0\" >from_date</td>\n",
       "      <td id=\"T_ff703_row2_col1\" class=\"data row2 col1\" >date</td>\n",
       "      <td id=\"T_ff703_row2_col2\" class=\"data row2 col2\" >NO</td>\n",
       "      <td id=\"T_ff703_row2_col3\" class=\"data row2 col3\" >PRI</td>\n",
       "      <td id=\"T_ff703_row2_col4\" class=\"data row2 col4\" >None</td>\n",
       "      <td id=\"T_ff703_row2_col5\" class=\"data row2 col5\" ></td>\n",
       "    </tr>\n",
       "    <tr>\n",
       "      <th id=\"T_ff703_level0_row3\" class=\"row_heading level0 row3\" >3</th>\n",
       "      <td id=\"T_ff703_row3_col0\" class=\"data row3 col0\" >to_date</td>\n",
       "      <td id=\"T_ff703_row3_col1\" class=\"data row3 col1\" >date</td>\n",
       "      <td id=\"T_ff703_row3_col2\" class=\"data row3 col2\" >YES</td>\n",
       "      <td id=\"T_ff703_row3_col3\" class=\"data row3 col3\" ></td>\n",
       "      <td id=\"T_ff703_row3_col4\" class=\"data row3 col4\" >None</td>\n",
       "      <td id=\"T_ff703_row3_col5\" class=\"data row3 col5\" ></td>\n",
       "    </tr>\n",
       "  </tbody>\n",
       "</table>\n"
      ],
      "text/plain": [
       "<pandas.io.formats.style.Styler at 0x299fc0a30>"
      ]
     },
     "metadata": {},
     "output_type": "display_data"
    },
    {
     "data": {
      "image/png": "[encoded data removed]",
      "text/latex": [
       "\\begin{equation*}salaries~describe\\end{equation*}"
      ],
      "text/plain": [
       "salaries~describe"
      ]
     },
     "metadata": {},
     "output_type": "display_data"
    },
    {
     "data": {
      "text/html": [
       "<style type=\"text/css\">\n",
       "#T_83b35_row0_col0, #T_83b35_row0_col1, #T_83b35_row0_col2, #T_83b35_row0_col3, #T_83b35_row0_col4, #T_83b35_row0_col5, #T_83b35_row1_col0, #T_83b35_row1_col1, #T_83b35_row1_col2, #T_83b35_row1_col3, #T_83b35_row1_col4, #T_83b35_row1_col5, #T_83b35_row2_col0, #T_83b35_row2_col1, #T_83b35_row2_col2, #T_83b35_row2_col3, #T_83b35_row2_col4, #T_83b35_row2_col5, #T_83b35_row3_col0, #T_83b35_row3_col1, #T_83b35_row3_col2, #T_83b35_row3_col3, #T_83b35_row3_col4, #T_83b35_row3_col5 {\n",
       "  padding: 15px;\n",
       "  border: 2px solid white;\n",
       "  width: 300px;\n",
       "}\n",
       "</style>\n",
       "<table id=\"T_83b35\">\n",
       "  <thead>\n",
       "    <tr>\n",
       "      <th class=\"blank level0\" >&nbsp;</th>\n",
       "      <th id=\"T_83b35_level0_col0\" class=\"col_heading level0 col0\" >Field</th>\n",
       "      <th id=\"T_83b35_level0_col1\" class=\"col_heading level0 col1\" >Type</th>\n",
       "      <th id=\"T_83b35_level0_col2\" class=\"col_heading level0 col2\" >Null</th>\n",
       "      <th id=\"T_83b35_level0_col3\" class=\"col_heading level0 col3\" >Key</th>\n",
       "      <th id=\"T_83b35_level0_col4\" class=\"col_heading level0 col4\" >Default</th>\n",
       "      <th id=\"T_83b35_level0_col5\" class=\"col_heading level0 col5\" >Extra</th>\n",
       "    </tr>\n",
       "  </thead>\n",
       "  <tbody>\n",
       "    <tr>\n",
       "      <th id=\"T_83b35_level0_row0\" class=\"row_heading level0 row0\" >0</th>\n",
       "      <td id=\"T_83b35_row0_col0\" class=\"data row0 col0\" >emp_no</td>\n",
       "      <td id=\"T_83b35_row0_col1\" class=\"data row0 col1\" >int</td>\n",
       "      <td id=\"T_83b35_row0_col2\" class=\"data row0 col2\" >NO</td>\n",
       "      <td id=\"T_83b35_row0_col3\" class=\"data row0 col3\" >PRI</td>\n",
       "      <td id=\"T_83b35_row0_col4\" class=\"data row0 col4\" >None</td>\n",
       "      <td id=\"T_83b35_row0_col5\" class=\"data row0 col5\" ></td>\n",
       "    </tr>\n",
       "    <tr>\n",
       "      <th id=\"T_83b35_level0_row1\" class=\"row_heading level0 row1\" >1</th>\n",
       "      <td id=\"T_83b35_row1_col0\" class=\"data row1 col0\" >salary</td>\n",
       "      <td id=\"T_83b35_row1_col1\" class=\"data row1 col1\" >int</td>\n",
       "      <td id=\"T_83b35_row1_col2\" class=\"data row1 col2\" >NO</td>\n",
       "      <td id=\"T_83b35_row1_col3\" class=\"data row1 col3\" ></td>\n",
       "      <td id=\"T_83b35_row1_col4\" class=\"data row1 col4\" >None</td>\n",
       "      <td id=\"T_83b35_row1_col5\" class=\"data row1 col5\" ></td>\n",
       "    </tr>\n",
       "    <tr>\n",
       "      <th id=\"T_83b35_level0_row2\" class=\"row_heading level0 row2\" >2</th>\n",
       "      <td id=\"T_83b35_row2_col0\" class=\"data row2 col0\" >from_date</td>\n",
       "      <td id=\"T_83b35_row2_col1\" class=\"data row2 col1\" >date</td>\n",
       "      <td id=\"T_83b35_row2_col2\" class=\"data row2 col2\" >NO</td>\n",
       "      <td id=\"T_83b35_row2_col3\" class=\"data row2 col3\" >PRI</td>\n",
       "      <td id=\"T_83b35_row2_col4\" class=\"data row2 col4\" >None</td>\n",
       "      <td id=\"T_83b35_row2_col5\" class=\"data row2 col5\" ></td>\n",
       "    </tr>\n",
       "    <tr>\n",
       "      <th id=\"T_83b35_level0_row3\" class=\"row_heading level0 row3\" >3</th>\n",
       "      <td id=\"T_83b35_row3_col0\" class=\"data row3 col0\" >to_date</td>\n",
       "      <td id=\"T_83b35_row3_col1\" class=\"data row3 col1\" >date</td>\n",
       "      <td id=\"T_83b35_row3_col2\" class=\"data row3 col2\" >NO</td>\n",
       "      <td id=\"T_83b35_row3_col3\" class=\"data row3 col3\" ></td>\n",
       "      <td id=\"T_83b35_row3_col4\" class=\"data row3 col4\" >None</td>\n",
       "      <td id=\"T_83b35_row3_col5\" class=\"data row3 col5\" ></td>\n",
       "    </tr>\n",
       "  </tbody>\n",
       "</table>\n"
      ],
      "text/plain": [
       "<pandas.io.formats.style.Styler at 0x299fc0280>"
      ]
     },
     "metadata": {},
     "output_type": "display_data"
    },
    {
     "data": {
      "image/png": "[encoded data removed]",
      "text/latex": [
       "\\begin{equation*}dept~emp~describe\\end{equation*}"
      ],
      "text/plain": [
       "dept~emp~describe"
      ]
     },
     "metadata": {},
     "output_type": "display_data"
    },
    {
     "data": {
      "text/html": [
       "<style type=\"text/css\">\n",
       "#T_4958b_row0_col0, #T_4958b_row0_col1, #T_4958b_row0_col2, #T_4958b_row0_col3, #T_4958b_row0_col4, #T_4958b_row0_col5, #T_4958b_row1_col0, #T_4958b_row1_col1, #T_4958b_row1_col2, #T_4958b_row1_col3, #T_4958b_row1_col4, #T_4958b_row1_col5, #T_4958b_row2_col0, #T_4958b_row2_col1, #T_4958b_row2_col2, #T_4958b_row2_col3, #T_4958b_row2_col4, #T_4958b_row2_col5, #T_4958b_row3_col0, #T_4958b_row3_col1, #T_4958b_row3_col2, #T_4958b_row3_col3, #T_4958b_row3_col4, #T_4958b_row3_col5 {\n",
       "  padding: 15px;\n",
       "  border: 2px solid white;\n",
       "  width: 300px;\n",
       "}\n",
       "</style>\n",
       "<table id=\"T_4958b\">\n",
       "  <thead>\n",
       "    <tr>\n",
       "      <th class=\"blank level0\" >&nbsp;</th>\n",
       "      <th id=\"T_4958b_level0_col0\" class=\"col_heading level0 col0\" >Field</th>\n",
       "      <th id=\"T_4958b_level0_col1\" class=\"col_heading level0 col1\" >Type</th>\n",
       "      <th id=\"T_4958b_level0_col2\" class=\"col_heading level0 col2\" >Null</th>\n",
       "      <th id=\"T_4958b_level0_col3\" class=\"col_heading level0 col3\" >Key</th>\n",
       "      <th id=\"T_4958b_level0_col4\" class=\"col_heading level0 col4\" >Default</th>\n",
       "      <th id=\"T_4958b_level0_col5\" class=\"col_heading level0 col5\" >Extra</th>\n",
       "    </tr>\n",
       "  </thead>\n",
       "  <tbody>\n",
       "    <tr>\n",
       "      <th id=\"T_4958b_level0_row0\" class=\"row_heading level0 row0\" >0</th>\n",
       "      <td id=\"T_4958b_row0_col0\" class=\"data row0 col0\" >emp_no</td>\n",
       "      <td id=\"T_4958b_row0_col1\" class=\"data row0 col1\" >int</td>\n",
       "      <td id=\"T_4958b_row0_col2\" class=\"data row0 col2\" >NO</td>\n",
       "      <td id=\"T_4958b_row0_col3\" class=\"data row0 col3\" >PRI</td>\n",
       "      <td id=\"T_4958b_row0_col4\" class=\"data row0 col4\" >None</td>\n",
       "      <td id=\"T_4958b_row0_col5\" class=\"data row0 col5\" ></td>\n",
       "    </tr>\n",
       "    <tr>\n",
       "      <th id=\"T_4958b_level0_row1\" class=\"row_heading level0 row1\" >1</th>\n",
       "      <td id=\"T_4958b_row1_col0\" class=\"data row1 col0\" >dept_no</td>\n",
       "      <td id=\"T_4958b_row1_col1\" class=\"data row1 col1\" >char(4)</td>\n",
       "      <td id=\"T_4958b_row1_col2\" class=\"data row1 col2\" >NO</td>\n",
       "      <td id=\"T_4958b_row1_col3\" class=\"data row1 col3\" >PRI</td>\n",
       "      <td id=\"T_4958b_row1_col4\" class=\"data row1 col4\" >None</td>\n",
       "      <td id=\"T_4958b_row1_col5\" class=\"data row1 col5\" ></td>\n",
       "    </tr>\n",
       "    <tr>\n",
       "      <th id=\"T_4958b_level0_row2\" class=\"row_heading level0 row2\" >2</th>\n",
       "      <td id=\"T_4958b_row2_col0\" class=\"data row2 col0\" >from_date</td>\n",
       "      <td id=\"T_4958b_row2_col1\" class=\"data row2 col1\" >date</td>\n",
       "      <td id=\"T_4958b_row2_col2\" class=\"data row2 col2\" >NO</td>\n",
       "      <td id=\"T_4958b_row2_col3\" class=\"data row2 col3\" ></td>\n",
       "      <td id=\"T_4958b_row2_col4\" class=\"data row2 col4\" >None</td>\n",
       "      <td id=\"T_4958b_row2_col5\" class=\"data row2 col5\" ></td>\n",
       "    </tr>\n",
       "    <tr>\n",
       "      <th id=\"T_4958b_level0_row3\" class=\"row_heading level0 row3\" >3</th>\n",
       "      <td id=\"T_4958b_row3_col0\" class=\"data row3 col0\" >to_date</td>\n",
       "      <td id=\"T_4958b_row3_col1\" class=\"data row3 col1\" >date</td>\n",
       "      <td id=\"T_4958b_row3_col2\" class=\"data row3 col2\" >NO</td>\n",
       "      <td id=\"T_4958b_row3_col3\" class=\"data row3 col3\" ></td>\n",
       "      <td id=\"T_4958b_row3_col4\" class=\"data row3 col4\" >None</td>\n",
       "      <td id=\"T_4958b_row3_col5\" class=\"data row3 col5\" ></td>\n",
       "    </tr>\n",
       "  </tbody>\n",
       "</table>\n"
      ],
      "text/plain": [
       "<pandas.io.formats.style.Styler at 0x299fc0370>"
      ]
     },
     "metadata": {},
     "output_type": "display_data"
    },
    {
     "data": {
      "image/png": "[encoded data removed]",
      "text/latex": [
       "\\begin{equation*}departments~describe\\end{equation*}"
      ],
      "text/plain": [
       "departments~describe"
      ]
     },
     "metadata": {},
     "output_type": "display_data"
    },
    {
     "data": {
      "text/html": [
       "<style type=\"text/css\">\n",
       "#T_55bdd_row0_col0, #T_55bdd_row0_col1, #T_55bdd_row0_col2, #T_55bdd_row0_col3, #T_55bdd_row0_col4, #T_55bdd_row0_col5, #T_55bdd_row1_col0, #T_55bdd_row1_col1, #T_55bdd_row1_col2, #T_55bdd_row1_col3, #T_55bdd_row1_col4, #T_55bdd_row1_col5 {\n",
       "  padding: 15px;\n",
       "  border: 2px solid white;\n",
       "  width: 300px;\n",
       "}\n",
       "</style>\n",
       "<table id=\"T_55bdd\">\n",
       "  <thead>\n",
       "    <tr>\n",
       "      <th class=\"blank level0\" >&nbsp;</th>\n",
       "      <th id=\"T_55bdd_level0_col0\" class=\"col_heading level0 col0\" >Field</th>\n",
       "      <th id=\"T_55bdd_level0_col1\" class=\"col_heading level0 col1\" >Type</th>\n",
       "      <th id=\"T_55bdd_level0_col2\" class=\"col_heading level0 col2\" >Null</th>\n",
       "      <th id=\"T_55bdd_level0_col3\" class=\"col_heading level0 col3\" >Key</th>\n",
       "      <th id=\"T_55bdd_level0_col4\" class=\"col_heading level0 col4\" >Default</th>\n",
       "      <th id=\"T_55bdd_level0_col5\" class=\"col_heading level0 col5\" >Extra</th>\n",
       "    </tr>\n",
       "  </thead>\n",
       "  <tbody>\n",
       "    <tr>\n",
       "      <th id=\"T_55bdd_level0_row0\" class=\"row_heading level0 row0\" >0</th>\n",
       "      <td id=\"T_55bdd_row0_col0\" class=\"data row0 col0\" >dept_no</td>\n",
       "      <td id=\"T_55bdd_row0_col1\" class=\"data row0 col1\" >char(4)</td>\n",
       "      <td id=\"T_55bdd_row0_col2\" class=\"data row0 col2\" >NO</td>\n",
       "      <td id=\"T_55bdd_row0_col3\" class=\"data row0 col3\" >PRI</td>\n",
       "      <td id=\"T_55bdd_row0_col4\" class=\"data row0 col4\" >None</td>\n",
       "      <td id=\"T_55bdd_row0_col5\" class=\"data row0 col5\" ></td>\n",
       "    </tr>\n",
       "    <tr>\n",
       "      <th id=\"T_55bdd_level0_row1\" class=\"row_heading level0 row1\" >1</th>\n",
       "      <td id=\"T_55bdd_row1_col0\" class=\"data row1 col0\" >dept_name</td>\n",
       "      <td id=\"T_55bdd_row1_col1\" class=\"data row1 col1\" >varchar(40)</td>\n",
       "      <td id=\"T_55bdd_row1_col2\" class=\"data row1 col2\" >NO</td>\n",
       "      <td id=\"T_55bdd_row1_col3\" class=\"data row1 col3\" >UNI</td>\n",
       "      <td id=\"T_55bdd_row1_col4\" class=\"data row1 col4\" >None</td>\n",
       "      <td id=\"T_55bdd_row1_col5\" class=\"data row1 col5\" ></td>\n",
       "    </tr>\n",
       "  </tbody>\n",
       "</table>\n"
      ],
      "text/plain": [
       "<pandas.io.formats.style.Styler at 0x299fc0fd0>"
      ]
     },
     "metadata": {},
     "output_type": "display_data"
    },
    {
     "data": {
      "image/png": "[encoded data removed]",
      "text/latex": [
       "\\begin{equation*}dept~manage~describe\\end{equation*}"
      ],
      "text/plain": [
       "dept~manage~describe"
      ]
     },
     "metadata": {},
     "output_type": "display_data"
    },
    {
     "data": {
      "text/html": [
       "<style type=\"text/css\">\n",
       "#T_e11dd_row0_col0, #T_e11dd_row0_col1, #T_e11dd_row0_col2, #T_e11dd_row0_col3, #T_e11dd_row0_col4, #T_e11dd_row0_col5, #T_e11dd_row1_col0, #T_e11dd_row1_col1, #T_e11dd_row1_col2, #T_e11dd_row1_col3, #T_e11dd_row1_col4, #T_e11dd_row1_col5, #T_e11dd_row2_col0, #T_e11dd_row2_col1, #T_e11dd_row2_col2, #T_e11dd_row2_col3, #T_e11dd_row2_col4, #T_e11dd_row2_col5, #T_e11dd_row3_col0, #T_e11dd_row3_col1, #T_e11dd_row3_col2, #T_e11dd_row3_col3, #T_e11dd_row3_col4, #T_e11dd_row3_col5 {\n",
       "  padding: 15px;\n",
       "  border: 2px solid white;\n",
       "  width: 300px;\n",
       "}\n",
       "</style>\n",
       "<table id=\"T_e11dd\">\n",
       "  <thead>\n",
       "    <tr>\n",
       "      <th class=\"blank level0\" >&nbsp;</th>\n",
       "      <th id=\"T_e11dd_level0_col0\" class=\"col_heading level0 col0\" >Field</th>\n",
       "      <th id=\"T_e11dd_level0_col1\" class=\"col_heading level0 col1\" >Type</th>\n",
       "      <th id=\"T_e11dd_level0_col2\" class=\"col_heading level0 col2\" >Null</th>\n",
       "      <th id=\"T_e11dd_level0_col3\" class=\"col_heading level0 col3\" >Key</th>\n",
       "      <th id=\"T_e11dd_level0_col4\" class=\"col_heading level0 col4\" >Default</th>\n",
       "      <th id=\"T_e11dd_level0_col5\" class=\"col_heading level0 col5\" >Extra</th>\n",
       "    </tr>\n",
       "  </thead>\n",
       "  <tbody>\n",
       "    <tr>\n",
       "      <th id=\"T_e11dd_level0_row0\" class=\"row_heading level0 row0\" >0</th>\n",
       "      <td id=\"T_e11dd_row0_col0\" class=\"data row0 col0\" >emp_no</td>\n",
       "      <td id=\"T_e11dd_row0_col1\" class=\"data row0 col1\" >int</td>\n",
       "      <td id=\"T_e11dd_row0_col2\" class=\"data row0 col2\" >NO</td>\n",
       "      <td id=\"T_e11dd_row0_col3\" class=\"data row0 col3\" >PRI</td>\n",
       "      <td id=\"T_e11dd_row0_col4\" class=\"data row0 col4\" >None</td>\n",
       "      <td id=\"T_e11dd_row0_col5\" class=\"data row0 col5\" ></td>\n",
       "    </tr>\n",
       "    <tr>\n",
       "      <th id=\"T_e11dd_level0_row1\" class=\"row_heading level0 row1\" >1</th>\n",
       "      <td id=\"T_e11dd_row1_col0\" class=\"data row1 col0\" >dept_no</td>\n",
       "      <td id=\"T_e11dd_row1_col1\" class=\"data row1 col1\" >char(4)</td>\n",
       "      <td id=\"T_e11dd_row1_col2\" class=\"data row1 col2\" >NO</td>\n",
       "      <td id=\"T_e11dd_row1_col3\" class=\"data row1 col3\" >PRI</td>\n",
       "      <td id=\"T_e11dd_row1_col4\" class=\"data row1 col4\" >None</td>\n",
       "      <td id=\"T_e11dd_row1_col5\" class=\"data row1 col5\" ></td>\n",
       "    </tr>\n",
       "    <tr>\n",
       "      <th id=\"T_e11dd_level0_row2\" class=\"row_heading level0 row2\" >2</th>\n",
       "      <td id=\"T_e11dd_row2_col0\" class=\"data row2 col0\" >from_date</td>\n",
       "      <td id=\"T_e11dd_row2_col1\" class=\"data row2 col1\" >date</td>\n",
       "      <td id=\"T_e11dd_row2_col2\" class=\"data row2 col2\" >NO</td>\n",
       "      <td id=\"T_e11dd_row2_col3\" class=\"data row2 col3\" ></td>\n",
       "      <td id=\"T_e11dd_row2_col4\" class=\"data row2 col4\" >None</td>\n",
       "      <td id=\"T_e11dd_row2_col5\" class=\"data row2 col5\" ></td>\n",
       "    </tr>\n",
       "    <tr>\n",
       "      <th id=\"T_e11dd_level0_row3\" class=\"row_heading level0 row3\" >3</th>\n",
       "      <td id=\"T_e11dd_row3_col0\" class=\"data row3 col0\" >to_date</td>\n",
       "      <td id=\"T_e11dd_row3_col1\" class=\"data row3 col1\" >date</td>\n",
       "      <td id=\"T_e11dd_row3_col2\" class=\"data row3 col2\" >NO</td>\n",
       "      <td id=\"T_e11dd_row3_col3\" class=\"data row3 col3\" ></td>\n",
       "      <td id=\"T_e11dd_row3_col4\" class=\"data row3 col4\" >None</td>\n",
       "      <td id=\"T_e11dd_row3_col5\" class=\"data row3 col5\" ></td>\n",
       "    </tr>\n",
       "  </tbody>\n",
       "</table>\n"
      ],
      "text/plain": [
       "<pandas.io.formats.style.Styler at 0x293edc3a0>"
      ]
     },
     "metadata": {},
     "output_type": "display_data"
    }
   ],
   "source": [
    "\n",
    "\n",
    "\n",
    "\n",
    "\n",
    "\n",
    "\n",
    "display(\n",
    "symbols('employees~describe')\n",
    ",employees_describe.style.pipe(make_pretty),\n",
    "symbols('titles~describe')\n",
    ",titles_describe.style.pipe(make_pretty),\n",
    "symbols('salaries~describe')\n",
    ",salaries_describe.style.pipe(make_pretty),\n",
    "symbols('dept~emp~describe')\n",
    ",dept_emp_describe.style.pipe(make_pretty),\n",
    "symbols('departments~describe')\n",
    ",departments_describe.style.pipe(make_pretty),\n",
    "symbols('dept~manage~describe')\n",
    ",dept_manager_describe.style.pipe(make_pretty),\n",
    "\n",
    ")\n"
   ]
  },
  {
   "cell_type": "code",
   "execution_count": 141,
   "metadata": {},
   "outputs": [],
   "source": [
    "# query='''\n",
    "#      SELECT \n",
    "#      e.gender,\n",
    "#      t.title,\n",
    "#      e.emp_no,\n",
    "#      d.dept_name\n",
    "#      from\n",
    "#      employees as e\n",
    "#      join \n",
    "#      titles as t\n",
    "#      using(emp_no)\n",
    "#      join\n",
    "#      salaries as s\n",
    "#      using(emp_no)\n",
    "#      join \n",
    "#      dept_emp as de\n",
    "#      using(emp_no)\n",
    "#      join \n",
    "#      departments as d   \n",
    "#      using(dept_no)\n",
    "#      join\n",
    "#      dept_manager as dm\n",
    "#      using(dept_no)\n",
    "\n",
    "   \n",
    "     \n",
    "#      where\n",
    "#      s.to_date>now()\n",
    "#      or\n",
    "#      de.to_date>now()\n",
    "#      or\n",
    "#      t.to_date>now()\n",
    "#      ;\n",
    "\n",
    "#     '''\n",
    "chi_employees= pd.read_sql(query, get_db_url(schema))\n",
    "\n",
    "\n",
    "\n"
   ]
  },
  {
   "cell_type": "code",
   "execution_count": 142,
   "metadata": {},
   "outputs": [],
   "source": [
    "employess_chisq_ex=chi_employees## save point\n",
    "\n",
    "\n",
    "\n"
   ]
  },
  {
   "cell_type": "code",
   "execution_count": 148,
   "metadata": {},
   "outputs": [
    {
     "data": {
      "text/html": [
       "<style type=\"text/css\">\n",
       "#T_83484_row0_col0, #T_83484_row0_col1, #T_83484_row1_col0, #T_83484_row1_col1 {\n",
       "  padding: 15px;\n",
       "  border: 2px solid white;\n",
       "  width: 300px;\n",
       "}\n",
       "</style>\n",
       "<table id=\"T_83484\">\n",
       "  <thead>\n",
       "    <tr>\n",
       "      <th class=\"blank level0\" >&nbsp;</th>\n",
       "      <th id=\"T_83484_level0_col0\" class=\"col_heading level0 col0\" >Codeup Student</th>\n",
       "      <th id=\"T_83484_level0_col1\" class=\"col_heading level0 col1\" >Not Codeup Student</th>\n",
       "    </tr>\n",
       "  </thead>\n",
       "  <tbody>\n",
       "    <tr>\n",
       "      <th id=\"T_83484_level0_row0\" class=\"row_heading level0 row0\" >Uses MacBook</th>\n",
       "      <td id=\"T_83484_row0_col0\" class=\"data row0 col0\" >49</td>\n",
       "      <td id=\"T_83484_row0_col1\" class=\"data row0 col1\" >20</td>\n",
       "    </tr>\n",
       "    <tr>\n",
       "      <th id=\"T_83484_level0_row1\" class=\"row_heading level0 row1\" >Doest use MacBook</th>\n",
       "      <td id=\"T_83484_row1_col0\" class=\"data row1 col0\" >1</td>\n",
       "      <td id=\"T_83484_row1_col1\" class=\"data row1 col1\" >30</td>\n",
       "    </tr>\n",
       "  </tbody>\n",
       "</table>\n"
      ],
      "text/plain": [
       "<pandas.io.formats.style.Styler at 0x172326fd0>"
      ]
     },
     "metadata": {},
     "output_type": "display_data"
    },
    {
     "data": {
      "text/latex": [
       "\\begin{equation*}\\left[\\begin{matrix}Observed & \\left[\\begin{matrix}49 & 20\\\\1 & 30\\end{matrix}\\right] & Expected & \\left[\\begin{matrix}34.5 & 34.5\\\\15.5 & 15.5\\end{matrix}\\right] & \\chi^{2} & 36.65 & p & 1.412 \\cdot 10^{-9}\\end{matrix}\\right]\\end{equation*}"
      ],
      "text/plain": [
       "[          [49  20]            [34.5  34.5]     2                    ]\n",
       "[Observed  [      ]  Expected  [          ]  chi   36.65  p  1.412e-9]\n",
       "[          [1   30]            [15.5  15.5]                          ]"
      ]
     },
     "metadata": {},
     "output_type": "display_data"
    },
    {
     "data": {
      "image/png": "[encoded data removed]",
      "text/latex": [
       "\\begin{equation*}We~can~reject~the~null~hypothesis\\end{equation*}"
      ],
      "text/plain": [
       "We~can~reject~the~null~hypothesis"
      ]
     },
     "metadata": {},
     "output_type": "display_data"
    }
   ],
   "source": [
    "# 1. Use the following contingency table to help answer the question of whether using a macbook and being a codeup student are independent of each other.\n",
    "\n",
    "\n",
    "index= ['Uses MacBook', 'Does''t use MacBook']\n",
    "columns = ['Codeup Student', 'Not Codeup Student']\n",
    "\n",
    "\n",
    "observed = pd.DataFrame([[49, 20], [1, 30]], index=index, columns=columns)\n",
    "# n = observed.values.sum()\n",
    "# expected = pd.DataFrame([[.372, .132], [.367, .130]], index=index, columns=columns) * n\n",
    "\n",
    "# chi2 = ((observed - expected)**2 / expected).values.sum()\n",
    "\n",
    "# nrows, ncols = observed.shape\n",
    "\n",
    "# degrees_of_freedom = (nrows - 1) * (ncols - 1)\n",
    "\n",
    "# p = stats.chi2(degrees_of_freedom).sf(chi2)\n",
    "\n",
    "# display(\n",
    "# symbols('Observed'),\n",
    "# Matrix(np.array(observed)),\n",
    "# symbols('Expected'),\n",
    "# Matrix(np.array(expected)),\n",
    "# symbols('chi^2 '),\n",
    "# sympify(f'{chi2:.4g}'),\n",
    "# symbols('p'), \n",
    "# sympify(f'{p:.4g}')\n",
    "# )\n",
    "\n",
    "\n",
    "chi2, p, degf, expected = stats.chi2_contingency(observed)\n",
    "\n",
    "\n",
    "x=sympify([\n",
    "symbols('Observed'),\n",
    "Matrix(observed.values),\n",
    "sympify('Expected'),\n",
    "Matrix(expected),\n",
    "sympify('chi^2'),\n",
    "sympify(f'{chi2:.4g}'),\n",
    "sympify('p'),\n",
    "\n",
    "sympify(f'{p:.4g}'),\n",
    "])\n",
    "\n",
    "x=np.array(x,dtype=object)\n",
    "x=Matrix(x).transpose()\n",
    "\n",
    "\n",
    "\n",
    "display(\n",
    "observed.style.pipe(make_pretty),\n",
    "x,\n",
    "symbols(one_tail_hypthonesis(p,alpha))\n",
    "\n",
    ")\n"
   ]
  },
  {
   "cell_type": "code",
   "execution_count": 144,
   "metadata": {},
   "outputs": [
    {
     "data": {
      "text/html": [
       "<style type=\"text/css\">\n",
       "#T_9bc72_row0_col0, #T_9bc72_row0_col1, #T_9bc72_row1_col0, #T_9bc72_row1_col1 {\n",
       "  padding: 15px;\n",
       "  border: 2px solid white;\n",
       "  width: 300px;\n",
       "}\n",
       "</style>\n",
       "<table id=\"T_9bc72\">\n",
       "  <thead>\n",
       "    <tr>\n",
       "      <th class=\"index_name level0\" >Pickup truck</th>\n",
       "      <th id=\"T_9bc72_level0_col0\" class=\"col_heading level0 col0\" >False</th>\n",
       "      <th id=\"T_9bc72_level0_col1\" class=\"col_heading level0 col1\" >True</th>\n",
       "    </tr>\n",
       "    <tr>\n",
       "      <th class=\"index_name level0\" >Dodge</th>\n",
       "      <th class=\"blank col0\" >&nbsp;</th>\n",
       "      <th class=\"blank col1\" >&nbsp;</th>\n",
       "    </tr>\n",
       "  </thead>\n",
       "  <tbody>\n",
       "    <tr>\n",
       "      <th id=\"T_9bc72_level0_row0\" class=\"row_heading level0 row0\" >False</th>\n",
       "      <td id=\"T_9bc72_row0_col0\" class=\"data row0 col0\" >183</td>\n",
       "      <td id=\"T_9bc72_row0_col1\" class=\"data row0 col1\" >14</td>\n",
       "    </tr>\n",
       "    <tr>\n",
       "      <th id=\"T_9bc72_level0_row1\" class=\"row_heading level0 row1\" >True</th>\n",
       "      <td id=\"T_9bc72_row1_col0\" class=\"data row1 col0\" >18</td>\n",
       "      <td id=\"T_9bc72_row1_col1\" class=\"data row1 col1\" >19</td>\n",
       "    </tr>\n",
       "  </tbody>\n",
       "</table>\n"
      ],
      "text/plain": [
       "<pandas.io.formats.style.Styler at 0x29a8acca0>"
      ]
     },
     "metadata": {},
     "output_type": "display_data"
    },
    {
     "data": {
      "text/latex": [
       "\\begin{equation*}\\left[\\begin{matrix}Observed & \\left[\\begin{matrix}183 & 14\\\\18 & 19\\end{matrix}\\right] & Expected & \\left[\\begin{matrix}169.2 & 27.78\\\\31.78 & 5.218\\end{matrix}\\right] & \\chi^{2} & 46.75 & P{\\left(\\chi^{2} \\right)} & 8.056 \\cdot 10^{-12}\\end{matrix}\\right]\\end{equation*}"
      ],
      "text/plain": [
       "[          [183  14]            [169.2  27.78]     2          /   2\\           ]\n",
       "[Observed  [       ]  Expected  [            ]  chi   46.75  P\\chi /  8.056e-12]\n",
       "[          [18   19]            [31.78  5.218]                                 ]"
      ]
     },
     "metadata": {},
     "output_type": "display_data"
    },
    {
     "data": {
      "image/png": "[encoded data removed]",
      "text/latex": [
       "\\begin{equation*}We~can~reject~the~null~hypothesis\\end{equation*}"
      ],
      "text/plain": [
       "We~can~reject~the~null~hypothesis"
      ]
     },
     "metadata": {},
     "output_type": "display_data"
    }
   ],
   "source": [
    "# 2. Choose another 2 categorical variables from the mpg dataset and perform a \n",
    "# $\\chi^2$\n",
    "# contingency table test with them. Be sure to state your null and alternative hypotheses.\n",
    "\n",
    "df=pydataset.data('mpg')\n",
    "mpg=pd.DataFrame(df)\n",
    "# mpg.info()\n",
    "# mpg[mpg.manufacturer==\"dodge\"].head()\n",
    "# mpg[mpg['class']==\"pickup\"].head()\n",
    "\n",
    "dodge_pick_up=pd.crosstab(mpg.manufacturer==\"dodge\",mpg['class']==\"pickup\",colnames=['Pickup truck'],rownames=['Dodge'] )\n",
    "\n",
    "\n",
    "\n",
    "\n",
    "chi2, p, degf, expected = stats.chi2_contingency(dodge_pick_up)\n",
    "shapeE=shape(expected)\n",
    "expected=expected.flatten()\n",
    "expected=list(expected)\n",
    "expected=np.array([f'{i:.4g}' for i in expected])\n",
    "expected=expected.reshape(shapeE[0],shapeE[1])\n",
    "\n",
    "\n",
    "x=np.array([\n",
    "symbols('Observed'),\n",
    "Matrix(dodge_pick_up.values),\n",
    "sympify('Expected'),\n",
    "Matrix(expected),\n",
    "sympify('chi^2'),\n",
    "sympify(f'{chi2:.4g}'),\n",
    "sympify('P (chi^2)'),\n",
    "sympify(f'{p:.4g}')],dtype=object)\n",
    "\n",
    "\n",
    "\n",
    "x=Matrix(x) .transpose()\n",
    "\n",
    "\n",
    "\n",
    "display(\n",
    "dodge_pick_up.style.pipe(make_pretty),\n",
    "x,\n",
    "symbols(one_tail_hypthonesis(p,alpha))\n",
    "\n",
    ")\n"
   ]
  },
  {
   "cell_type": "code",
   "execution_count": 145,
   "metadata": {},
   "outputs": [
    {
     "data": {
      "text/html": [
       "<style type=\"text/css\">\n",
       "#T_42fa0_row0_col0, #T_42fa0_row0_col1, #T_42fa0_row1_col0, #T_42fa0_row1_col1 {\n",
       "  padding: 15px;\n",
       "  border: 2px solid white;\n",
       "  width: 300px;\n",
       "}\n",
       "</style>\n",
       "<table id=\"T_42fa0\">\n",
       "  <thead>\n",
       "    <tr>\n",
       "      <th class=\"index_name level0\" >gender</th>\n",
       "      <th id=\"T_42fa0_level0_col0\" class=\"col_heading level0 col0\" >F</th>\n",
       "      <th id=\"T_42fa0_level0_col1\" class=\"col_heading level0 col1\" >M</th>\n",
       "    </tr>\n",
       "    <tr>\n",
       "      <th class=\"index_name level0\" >dept_name</th>\n",
       "      <th class=\"blank col0\" >&nbsp;</th>\n",
       "      <th class=\"blank col1\" >&nbsp;</th>\n",
       "    </tr>\n",
       "  </thead>\n",
       "  <tbody>\n",
       "    <tr>\n",
       "      <th id=\"T_42fa0_level0_row0\" class=\"row_heading level0 row0\" >Marketing</th>\n",
       "      <td id=\"T_42fa0_row0_col0\" class=\"data row0 col0\" >5864</td>\n",
       "      <td id=\"T_42fa0_row0_col1\" class=\"data row0 col1\" >8978</td>\n",
       "    </tr>\n",
       "    <tr>\n",
       "      <th id=\"T_42fa0_level0_row1\" class=\"row_heading level0 row1\" >Sales</th>\n",
       "      <td id=\"T_42fa0_row1_col0\" class=\"data row1 col0\" >14999</td>\n",
       "      <td id=\"T_42fa0_row1_col1\" class=\"data row1 col1\" >22702</td>\n",
       "    </tr>\n",
       "  </tbody>\n",
       "</table>\n"
      ],
      "text/plain": [
       "<pandas.io.formats.style.Styler at 0x1745018e0>"
      ]
     },
     "metadata": {},
     "output_type": "display_data"
    },
    {
     "data": {
      "text/latex": [
       "\\begin{equation*}\\left[\\begin{matrix}Observed & \\left[\\begin{matrix}5864 & 8978\\\\14999 & 22702\\end{matrix}\\right] & Expected & \\left[\\begin{matrix}5893 & 8949\\\\14970.0 & 22730.0\\end{matrix}\\right] & \\chi^{2} & 0.324 & P{\\left(\\chi^{2} \\right)} & 0.5692\\end{matrix}\\right]\\end{equation*}"
      ],
      "text/plain": [
       "[          [5864   8978 ]            [ 5893     8949  ]     2          /   2\\        ]\n",
       "[Observed  [            ]  Expected  [                ]  chi   0.324  P\\chi /  0.5692]\n",
       "[          [14999  22702]            [14970.0  22730.0]                              ]"
      ]
     },
     "metadata": {},
     "output_type": "display_data"
    },
    {
     "data": {
      "image/png": "[encoded data removed]",
      "text/latex": [
       "\\begin{equation*}We~fail~to~reject~the~null~hypothesis\\end{equation*}"
      ],
      "text/plain": [
       "We~fail~to~reject~the~null~hypothesis"
      ]
     },
     "metadata": {},
     "output_type": "display_data"
    }
   ],
   "source": [
    "#3.\n",
    "db='employees'\n",
    "query=\t'''\n",
    "\tSELECT d.dept_name, e.gender\n",
    "\tFROM dept_emp de\n",
    "\t\tLEFT JOIN employees e USING (emp_no)\n",
    "\t\tLEFT JOIN departments d using (dept_no)\n",
    "\tWHERE de.to_date > NOW()\n",
    "\t\tAND (d.dept_name = 'Sales'\n",
    "\t\t\tOR d.dept_name = 'Marketing')\n",
    "\n",
    "\t;\n",
    "\t'''\n",
    "gender_employees=pd.read_sql(query,get_db_url(db))\n",
    "\n",
    "\n",
    "genderbydept=pd.crosstab(\n",
    "\tgender_employees.dept_name,\n",
    "\tgender_employees.gender)\n",
    "\n",
    "\n",
    "\n",
    "\n",
    "\n",
    "chi2,p, degf, expected = stats.chi2_contingency(genderbydept)\n",
    "shapeE=shape(expected)\n",
    "expected=expected.flatten()\n",
    "expected=list(expected)\n",
    "expected=np.array([f'{i:.4g}' for i in expected])\n",
    "expected=expected.reshape(shapeE[0],shapeE[1])\n",
    "\n",
    "\n",
    "x=np.array([\n",
    "symbols('Observed'),\n",
    "Matrix(genderbydept.values),\n",
    "sympify('Expected'),\n",
    "Matrix(expected),\n",
    "sympify('chi^2'),\n",
    "sympify(f'{chi2:.4g}'),\n",
    "sympify('P (chi^2)'),\n",
    "sympify(f'{p:.4g}')],dtype=object)\n",
    "\n",
    "\n",
    "\n",
    "x=Matrix(x) .transpose()\n",
    "\n",
    "\n",
    "\n",
    "display(\n",
    "genderbydept.style.pipe(make_pretty),\n",
    "x,\n",
    "symbols(one_tail_hypthonesis(p,alpha))\n",
    "\n",
    ")"
   ]
  },
  {
   "cell_type": "code",
   "execution_count": 146,
   "metadata": {},
   "outputs": [
    {
     "data": {
      "text/html": [
       "<style type=\"text/css\">\n",
       "#T_13a45_row0_col0, #T_13a45_row0_col1, #T_13a45_row1_col0, #T_13a45_row1_col1 {\n",
       "  padding: 15px;\n",
       "  border: 2px solid white;\n",
       "  width: 300px;\n",
       "}\n",
       "</style>\n",
       "<table id=\"T_13a45\">\n",
       "  <thead>\n",
       "    <tr>\n",
       "      <th class=\"index_name level0\" >dept_no</th>\n",
       "      <th id=\"T_13a45_level0_col0\" class=\"col_heading level0 col0\" >False</th>\n",
       "      <th id=\"T_13a45_level0_col1\" class=\"col_heading level0 col1\" >True</th>\n",
       "    </tr>\n",
       "    <tr>\n",
       "      <th class=\"index_name level0\" >gender</th>\n",
       "      <th class=\"blank col0\" >&nbsp;</th>\n",
       "      <th class=\"blank col1\" >&nbsp;</th>\n",
       "    </tr>\n",
       "  </thead>\n",
       "  <tbody>\n",
       "    <tr>\n",
       "      <th id=\"T_13a45_level0_row0\" class=\"row_heading level0 row0\" >F</th>\n",
       "      <td id=\"T_13a45_row0_col0\" class=\"data row0 col0\" >13</td>\n",
       "      <td id=\"T_13a45_row0_col1\" class=\"data row0 col1\" >120038</td>\n",
       "    </tr>\n",
       "    <tr>\n",
       "      <th id=\"T_13a45_level0_row1\" class=\"row_heading level0 row1\" >M</th>\n",
       "      <td id=\"T_13a45_row1_col0\" class=\"data row1 col0\" >11</td>\n",
       "      <td id=\"T_13a45_row1_col1\" class=\"data row1 col1\" >179962</td>\n",
       "    </tr>\n",
       "  </tbody>\n",
       "</table>\n"
      ],
      "text/plain": [
       "<pandas.io.formats.style.Styler at 0x17453a670>"
      ]
     },
     "metadata": {},
     "output_type": "display_data"
    },
    {
     "data": {
      "text/latex": [
       "\\begin{equation*}\\left[\\begin{matrix}Observed & \\left[\\begin{matrix}13 & 120038\\\\11 & 179962\\end{matrix}\\right] & Expected & \\left[\\begin{matrix}9.603 & 120000.0\\\\14.4 & 180000.0\\end{matrix}\\right] & \\chi^{2} & 1.457 & P{\\left(\\chi^{2} \\right)} & 0.2275\\end{matrix}\\right]\\end{equation*}"
      ],
      "text/plain": [
       "[          [13  120038]            [9.603  120000.0]     2          /   2\\        ]\n",
       "[Observed  [          ]  Expected  [               ]  chi   1.457  P\\chi /  0.2275]\n",
       "[          [11  179962]            [14.4   180000.0]                              ]"
      ]
     },
     "metadata": {},
     "output_type": "display_data"
    },
    {
     "data": {
      "image/png": "[encoded data removed]",
      "text/latex": [
       "\\begin{equation*}We~fail~to~reject~the~null~hypothesis\\end{equation*}"
      ],
      "text/plain": [
       "We~fail~to~reject~the~null~hypothesis"
      ]
     },
     "metadata": {},
     "output_type": "display_data"
    }
   ],
   "source": [
    "query='''\n",
    "\tSELECT *\t\n",
    "    FROM employees e\n",
    "\tLEFT JOIN dept_manager dm\n",
    "    USING (emp_no)\t;\n",
    "    '''\n",
    "\n",
    "\n",
    "managers=pd.read_sql(query,\tget_db_url(db))\n",
    "\n",
    "\n",
    "\n",
    "\n",
    "gender_managers=pd.crosstab(\n",
    "\tmanagers.gender,\n",
    "\tmanagers.dept_no.isnull())\n",
    "\n",
    "\n",
    "\n",
    "\n",
    "\n",
    "\n",
    "\n",
    "\n",
    "\n",
    "chi2,p, degf, expected = stats.chi2_contingency(gender_managers)\n",
    "shapeE=shape(expected)\n",
    "expected=expected.flatten()\n",
    "expected=list(expected)\n",
    "expected=np.array([f'{i:.4g}' for i in expected])\n",
    "expected=expected.reshape(shapeE[0],shapeE[1])\n",
    "\n",
    "\n",
    "x=np.array([\n",
    "symbols('Observed'),\n",
    "Matrix(gender_managers.values),\n",
    "sympify('Expected'),\n",
    "Matrix(expected),\n",
    "sympify('chi^2'),\n",
    "sympify(f'{chi2:.4g}'),\n",
    "sympify('P (chi^2)'),\n",
    "sympify(f'{p:.4g}')],dtype=object)\n",
    "\n",
    "\n",
    "\n",
    "x=Matrix(x) .transpose()\n",
    "\n",
    "\n",
    "\n",
    "display(\n",
    "gender_managers.style.pipe(make_pretty),\n",
    "x,\n",
    "symbols(one_tail_hypthonesis(p,alpha))\n",
    "\n",
    ")"
   ]
  }
 ],
 "metadata": {
  "kernelspec": {
   "display_name": "Python 3.9.12 ('base')",
   "language": "python",
   "name": "python3"
  },
  "language_info": {
   "codemirror_mode": {
    "name": "ipython",
    "version": 3
   },
   "file_extension": ".py",
   "mimetype": "text/x-python",
   "name": "python",
   "nbconvert_exporter": "python",
   "pygments_lexer": "ipython3",
   "version": "3.9.10"
  },
  "orig_nbformat": 4,
  "vscode": {
   "interpreter": {
    "hash": "38cca0c38332a56087b24af0bc80247f4fced29cb4f7f437d91dc159adec9c4e"
   }
  }
 },
 "nbformat": 4,
 "nbformat_minor": 2
}
